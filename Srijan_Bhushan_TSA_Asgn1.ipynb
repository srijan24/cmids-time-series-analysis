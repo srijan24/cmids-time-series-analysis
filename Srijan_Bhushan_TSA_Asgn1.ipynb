{
 "cells": [
  {
   "cell_type": "markdown",
   "id": "e10defa3",
   "metadata": {},
   "source": [
    "# Time Series Analysis\n",
    "# Exercise 1"
   ]
  },
  {
   "cell_type": "code",
   "execution_count": 1,
   "id": "6eb61fb2",
   "metadata": {},
   "outputs": [
    {
     "name": "stdout",
     "output_type": "stream",
     "text": [
      "This is python code output.\n"
     ]
    }
   ],
   "source": [
    "\n",
    "# ------------------------- #\n",
    "# By Srijan Bhushan         #\n",
    "# Roll No: MDS202039        #\n",
    "# email: srijanb@cmi.ac.in  #\n",
    "# Time Series Analysis      #\n",
    "# Exercise/ Assignment 1    #\n",
    "# ------------------------- #\n",
    "\n",
    "# All python code will be in boxes like these\n",
    "# and the relevant output below\n",
    "print(\"This is python code output.\")\n"
   ]
  },
  {
   "cell_type": "markdown",
   "id": "4c4eb961",
   "metadata": {},
   "source": [
    "# Data Preparation\n",
    "## Importing the data"
   ]
  },
  {
   "cell_type": "markdown",
   "id": "3845756c",
   "metadata": {},
   "source": [
    "before we begin anything, we first import various required python libraries  \n",
    "and import the HDFC stock data as well\n",
    "\n",
    "Our stock data source is from:  \n",
    "https://finance.yahoo.com/quote/HDFCBANK.NS/history?period1=1476662400&period2=1634428800&interval=1d&filter=history&frequency=1d&includeAdjustedClose=true  \n",
    "We further filtered data of the stock from date 17 Oct 2016 to 17 Oct 2021\n",
    "and try to forecast on the ```Adj Close``` price of the stock"
   ]
  },
  {
   "cell_type": "code",
   "execution_count": 2,
   "id": "e5bca75a",
   "metadata": {},
   "outputs": [],
   "source": [
    "# importing python libraries\n",
    "import pandas as pd\n",
    "import numpy as np\n",
    "import matplotlib.pyplot as plt\n",
    "import seaborn as sns\n",
    "import arch.unitroot as stat_tests\n",
    "import datetime\n",
    "from statsmodels.tsa.arima.model import ARIMA\n",
    "import warnings\n",
    "warnings.filterwarnings('ignore')"
   ]
  },
  {
   "cell_type": "code",
   "execution_count": 3,
   "id": "cde19aab",
   "metadata": {},
   "outputs": [],
   "source": [
    "# loading our data into the python variable 'data'\n",
    "# data is from: https://finance.yahoo.com/quote/HDFCBANK.NS\n",
    "data = pd.read_csv('HDFCBANK.NS.csv')[['Date', 'Adj Close']]\n",
    "data['Date'] = pd.to_datetime(data['Date'], format='%Y-%m-%d')\n",
    "data = data.set_index('Date');\n"
   ]
  },
  {
   "cell_type": "markdown",
   "id": "20c74c51",
   "metadata": {},
   "source": [
    "## Some basic visualisations / exploratory visualisations"
   ]
  },
  {
   "cell_type": "code",
   "execution_count": 4,
   "id": "b87116a7",
   "metadata": {},
   "outputs": [
    {
     "data": {
      "text/html": [
       "<div>\n",
       "<style scoped>\n",
       "    .dataframe tbody tr th:only-of-type {\n",
       "        vertical-align: middle;\n",
       "    }\n",
       "\n",
       "    .dataframe tbody tr th {\n",
       "        vertical-align: top;\n",
       "    }\n",
       "\n",
       "    .dataframe thead th {\n",
       "        text-align: right;\n",
       "    }\n",
       "</style>\n",
       "<table border=\"1\" class=\"dataframe\">\n",
       "  <thead>\n",
       "    <tr style=\"text-align: right;\">\n",
       "      <th></th>\n",
       "      <th>Adj Close</th>\n",
       "    </tr>\n",
       "    <tr>\n",
       "      <th>Date</th>\n",
       "      <th></th>\n",
       "    </tr>\n",
       "  </thead>\n",
       "  <tbody>\n",
       "    <tr>\n",
       "      <th>2016-10-17</th>\n",
       "      <td>603.131592</td>\n",
       "    </tr>\n",
       "    <tr>\n",
       "      <th>2016-10-18</th>\n",
       "      <td>612.950745</td>\n",
       "    </tr>\n",
       "    <tr>\n",
       "      <th>2016-10-19</th>\n",
       "      <td>613.194397</td>\n",
       "    </tr>\n",
       "    <tr>\n",
       "      <th>2016-10-20</th>\n",
       "      <td>611.805603</td>\n",
       "    </tr>\n",
       "    <tr>\n",
       "      <th>2016-10-21</th>\n",
       "      <td>619.212585</td>\n",
       "    </tr>\n",
       "    <tr>\n",
       "      <th>2016-10-24</th>\n",
       "      <td>615.728394</td>\n",
       "    </tr>\n",
       "    <tr>\n",
       "      <th>2016-10-25</th>\n",
       "      <td>609.271606</td>\n",
       "    </tr>\n",
       "    <tr>\n",
       "      <th>2016-10-26</th>\n",
       "      <td>603.911377</td>\n",
       "    </tr>\n",
       "    <tr>\n",
       "      <th>2016-10-27</th>\n",
       "      <td>610.148743</td>\n",
       "    </tr>\n",
       "    <tr>\n",
       "      <th>2016-10-28</th>\n",
       "      <td>613.535461</td>\n",
       "    </tr>\n",
       "  </tbody>\n",
       "</table>\n",
       "</div>"
      ],
      "text/plain": [
       "             Adj Close\n",
       "Date                  \n",
       "2016-10-17  603.131592\n",
       "2016-10-18  612.950745\n",
       "2016-10-19  613.194397\n",
       "2016-10-20  611.805603\n",
       "2016-10-21  619.212585\n",
       "2016-10-24  615.728394\n",
       "2016-10-25  609.271606\n",
       "2016-10-26  603.911377\n",
       "2016-10-27  610.148743\n",
       "2016-10-28  613.535461"
      ]
     },
     "execution_count": 4,
     "metadata": {},
     "output_type": "execute_result"
    }
   ],
   "source": [
    "# let us have a look at our data\n",
    "data.head(10)\n"
   ]
  },
  {
   "cell_type": "code",
   "execution_count": 5,
   "id": "c7dcc70d",
   "metadata": {},
   "outputs": [
    {
     "data": {
      "text/plain": [
       "<AxesSubplot:title={'center':'Plot of HDFC Adj Close data from 2017 to 2021'}, xlabel='Date'>"
      ]
     },
     "execution_count": 5,
     "metadata": {},
     "output_type": "execute_result"
    },
    {
     "data": {
      "image/png": "[encoded data removed]",
      "text/plain": [
       "<Figure size 432x288 with 1 Axes>"
      ]
     },
     "metadata": {
      "needs_background": "light"
     },
     "output_type": "display_data"
    }
   ],
   "source": [
    "# let us plot our data\n",
    "data.plot(title='Plot of HDFC Adj Close data from 2017 to 2021')\n"
   ]
  },
  {
   "cell_type": "markdown",
   "id": "70d0d568",
   "metadata": {},
   "source": [
    "## Deciding how much data is relevant"
   ]
  },
  {
   "cell_type": "markdown",
   "id": "f28bc62b",
   "metadata": {},
   "source": [
    "One can observe that there is a sharp fall during the year 2020, we hypothesize that this might be\n",
    "due to the coronavirus pandemic that had just started during that time.\n",
    "Thus, all data prior to 2020 is not of relevance, since the conditions (i.e. existence of covid) was not the same during that time.\n",
    "The article: https://www.ncbi.nlm.nih.gov/pmc/articles/PMC7530459/ mentions that the first covid case in\n",
    "India was on 27th Jan 2020, hence for the purpose of our forecase, all data before that date is considered\n",
    "irrelevant.\n",
    "\n",
    "We thus, set a variable ```relevant_data``` which contains stock data only after the covid impact in India.\n",
    "In fact, to be safe we take the data from when the \"covid curve\" in India had started flattening.\n",
    "To find this data, we had looked across the internet and rather than finding the kurtosis for finding the peak,\n",
    "we decided, in order to save time, that a rough estimate would work just as fine.\n",
    "As such, we found this graph: https://www.arcgis.com/apps/dashboards/bda7594740fd40299423467b48e9ecf6 (*)\n",
    "which plots india's second wave curve which starts falling around May 2021.\n",
    "\n",
    "Hence, our data before May 2021 will be considered as irrelevant.\n",
    "\n",
    "---\n",
    "(*) Note: In the website one has to select India on the left and view the red graph on the right"
   ]
  },
  {
   "cell_type": "code",
   "execution_count": 6,
   "id": "d47693f7",
   "metadata": {},
   "outputs": [],
   "source": [
    "# so we now have our relevant data\n",
    "relevant_data = data[data.index >= '2021-05-01']\n"
   ]
  },
  {
   "cell_type": "markdown",
   "id": "6ca39ebe",
   "metadata": {},
   "source": [
    "## Preparing our relevant data\n",
    "Let us look at a few rows of our data"
   ]
  },
  {
   "cell_type": "code",
   "execution_count": 7,
   "id": "cc63027f",
   "metadata": {},
   "outputs": [
    {
     "data": {
      "text/html": [
       "<div>\n",
       "<style scoped>\n",
       "    .dataframe tbody tr th:only-of-type {\n",
       "        vertical-align: middle;\n",
       "    }\n",
       "\n",
       "    .dataframe tbody tr th {\n",
       "        vertical-align: top;\n",
       "    }\n",
       "\n",
       "    .dataframe thead th {\n",
       "        text-align: right;\n",
       "    }\n",
       "</style>\n",
       "<table border=\"1\" class=\"dataframe\">\n",
       "  <thead>\n",
       "    <tr style=\"text-align: right;\">\n",
       "      <th></th>\n",
       "      <th>Adj Close</th>\n",
       "    </tr>\n",
       "    <tr>\n",
       "      <th>Date</th>\n",
       "      <th></th>\n",
       "    </tr>\n",
       "  </thead>\n",
       "  <tbody>\n",
       "    <tr>\n",
       "      <th>2021-05-03</th>\n",
       "      <td>1408.354614</td>\n",
       "    </tr>\n",
       "    <tr>\n",
       "      <th>2021-05-04</th>\n",
       "      <td>1382.367065</td>\n",
       "    </tr>\n",
       "    <tr>\n",
       "      <th>2021-05-05</th>\n",
       "      <td>1396.555664</td>\n",
       "    </tr>\n",
       "    <tr>\n",
       "      <th>2021-05-06</th>\n",
       "      <td>1394.863037</td>\n",
       "    </tr>\n",
       "    <tr>\n",
       "      <th>2021-05-07</th>\n",
       "      <td>1408.653320</td>\n",
       "    </tr>\n",
       "    <tr>\n",
       "      <th>2021-05-10</th>\n",
       "      <td>1413.731323</td>\n",
       "    </tr>\n",
       "    <tr>\n",
       "      <th>2021-05-11</th>\n",
       "      <td>1397.501709</td>\n",
       "    </tr>\n",
       "    <tr>\n",
       "      <th>2021-05-12</th>\n",
       "      <td>1393.469116</td>\n",
       "    </tr>\n",
       "    <tr>\n",
       "      <th>2021-05-14</th>\n",
       "      <td>1380.873535</td>\n",
       "    </tr>\n",
       "    <tr>\n",
       "      <th>2021-05-17</th>\n",
       "      <td>1434.043457</td>\n",
       "    </tr>\n",
       "  </tbody>\n",
       "</table>\n",
       "</div>"
      ],
      "text/plain": [
       "              Adj Close\n",
       "Date                   \n",
       "2021-05-03  1408.354614\n",
       "2021-05-04  1382.367065\n",
       "2021-05-05  1396.555664\n",
       "2021-05-06  1394.863037\n",
       "2021-05-07  1408.653320\n",
       "2021-05-10  1413.731323\n",
       "2021-05-11  1397.501709\n",
       "2021-05-12  1393.469116\n",
       "2021-05-14  1380.873535\n",
       "2021-05-17  1434.043457"
      ]
     },
     "execution_count": 7,
     "metadata": {},
     "output_type": "execute_result"
    }
   ],
   "source": [
    "relevant_data.head(10)\n"
   ]
  },
  {
   "cell_type": "code",
   "execution_count": 8,
   "id": "04bc1c99",
   "metadata": {},
   "outputs": [
    {
     "name": "stdout",
     "output_type": "stream",
     "text": [
      "Our data contains 115 rows\n"
     ]
    }
   ],
   "source": [
    "print(f\"Our data contains {relevant_data.shape[0]} rows\")\n"
   ]
  },
  {
   "cell_type": "markdown",
   "id": "06a1e9f0",
   "metadata": {},
   "source": [
    "### Check for missing values"
   ]
  },
  {
   "cell_type": "code",
   "execution_count": 9,
   "id": "339c59f0",
   "metadata": {},
   "outputs": [
    {
     "name": "stdout",
     "output_type": "stream",
     "text": [
      "Our data contains 0 missing values\n"
     ]
    }
   ],
   "source": [
    "print(f\"Our data contains {relevant_data.isna().sum()[-1]} missing values\")\n"
   ]
  },
  {
   "cell_type": "markdown",
   "id": "cc15c768",
   "metadata": {},
   "source": [
    "so we don't have any missing values.  \n",
    "\n",
    "### Outlier Capping \n",
    "We first print the range of 3 standard deviation"
   ]
  },
  {
   "cell_type": "code",
   "execution_count": 10,
   "id": "9e0648e1",
   "metadata": {},
   "outputs": [
    {
     "name": "stdout",
     "output_type": "stream",
     "text": [
      "Range is:(1318.0863469716214, 1700.7803267327263)\n"
     ]
    }
   ],
   "source": [
    "print(f\"Range is:({relevant_data.mean()[-1] - 3*relevant_data.std()[-1]}, {relevant_data.mean()[-1] + 3*relevant_data.std()[-1]})\")\n"
   ]
  },
  {
   "cell_type": "markdown",
   "id": "11a6350e",
   "metadata": {},
   "source": [
    "We now cap our data (regardless of if there are outliers or not)"
   ]
  },
  {
   "cell_type": "code",
   "execution_count": 11,
   "id": "cbbacf21",
   "metadata": {},
   "outputs": [],
   "source": [
    "lim_sup = relevant_data.mean()[-1] + 3*relevant_data.std()[-1]\n",
    "lim_inf = relevant_data.mean()[-1] - 3*relevant_data.std()[-1]\n",
    "\n",
    "# capping on lim_sup\n",
    "temp_copy = relevant_data[\"Adj Close\"].copy()\n",
    "relevant_data[\"Adj Close\"] = np.where(temp_copy > lim_sup, lim_sup, temp_copy)\n",
    "\n",
    "# capping on lim_inf\n",
    "temp_copy = relevant_data[\"Adj Close\"].copy()\n",
    "relevant_data[\"Adj Close\"] = np.where(temp_copy < lim_inf, lim_inf, temp_copy)\n"
   ]
  },
  {
   "cell_type": "markdown",
   "id": "40211cc8",
   "metadata": {},
   "source": [
    "## Descriptive statistics of data\n",
    "\n",
    "Note:\n",
    "- std = standard deviation\n",
    "- x% = value of x-th percentile"
   ]
  },
  {
   "cell_type": "code",
   "execution_count": 12,
   "id": "5751d877",
   "metadata": {},
   "outputs": [
    {
     "data": {
      "text/html": [
       "<div>\n",
       "<style scoped>\n",
       "    .dataframe tbody tr th:only-of-type {\n",
       "        vertical-align: middle;\n",
       "    }\n",
       "\n",
       "    .dataframe tbody tr th {\n",
       "        vertical-align: top;\n",
       "    }\n",
       "\n",
       "    .dataframe thead th {\n",
       "        text-align: right;\n",
       "    }\n",
       "</style>\n",
       "<table border=\"1\" class=\"dataframe\">\n",
       "  <thead>\n",
       "    <tr style=\"text-align: right;\">\n",
       "      <th></th>\n",
       "      <th>Adj Close</th>\n",
       "    </tr>\n",
       "  </thead>\n",
       "  <tbody>\n",
       "    <tr>\n",
       "      <th>count</th>\n",
       "      <td>115.000000</td>\n",
       "    </tr>\n",
       "    <tr>\n",
       "      <th>mean</th>\n",
       "      <td>1509.433337</td>\n",
       "    </tr>\n",
       "    <tr>\n",
       "      <th>std</th>\n",
       "      <td>63.782330</td>\n",
       "    </tr>\n",
       "    <tr>\n",
       "      <th>min</th>\n",
       "      <td>1380.873535</td>\n",
       "    </tr>\n",
       "    <tr>\n",
       "      <th>25%</th>\n",
       "      <td>1473.248779</td>\n",
       "    </tr>\n",
       "    <tr>\n",
       "      <th>50%</th>\n",
       "      <td>1501.849976</td>\n",
       "    </tr>\n",
       "    <tr>\n",
       "      <th>75%</th>\n",
       "      <td>1558.125000</td>\n",
       "    </tr>\n",
       "    <tr>\n",
       "      <th>max</th>\n",
       "      <td>1687.400024</td>\n",
       "    </tr>\n",
       "  </tbody>\n",
       "</table>\n",
       "</div>"
      ],
      "text/plain": [
       "         Adj Close\n",
       "count   115.000000\n",
       "mean   1509.433337\n",
       "std      63.782330\n",
       "min    1380.873535\n",
       "25%    1473.248779\n",
       "50%    1501.849976\n",
       "75%    1558.125000\n",
       "max    1687.400024"
      ]
     },
     "execution_count": 12,
     "metadata": {},
     "output_type": "execute_result"
    }
   ],
   "source": [
    "relevant_data.describe()\n"
   ]
  },
  {
   "cell_type": "code",
   "execution_count": 13,
   "id": "80412697",
   "metadata": {},
   "outputs": [
    {
     "name": "stdout",
     "output_type": "stream",
     "text": [
      "There is approx 85.22% of data in IQR range\n"
     ]
    }
   ],
   "source": [
    "# We find the IQR range here\n",
    "\n",
    "# iqr upper bound\n",
    "iqr_sup = relevant_data.mean()[-1] + (1.5)*relevant_data.std()[-1]\n",
    "\n",
    "# iqr lower bound\n",
    "iqr_inf = relevant_data.mean()[-1] - (1.5)*relevant_data.std()[-1]\n",
    "\n",
    "# no. of values in irq range\n",
    "count = relevant_data['Adj Close'].between(iqr_inf, iqr_sup).sum()\n",
    "\n",
    "print(f\"There is approx {round(count/relevant_data.shape[0]*100,2)}% of data in IQR range\")\n"
   ]
  },
  {
   "cell_type": "code",
   "execution_count": 14,
   "id": "c50eb559",
   "metadata": {},
   "outputs": [
    {
     "name": "stdout",
     "output_type": "stream",
     "text": [
      "<class 'pandas.core.frame.DataFrame'>\n",
      "DatetimeIndex: 115 entries, 2021-05-03 to 2021-10-14\n",
      "Data columns (total 1 columns):\n",
      " #   Column     Non-Null Count  Dtype  \n",
      "---  ------     --------------  -----  \n",
      " 0   Adj Close  115 non-null    float64\n",
      "dtypes: float64(1)\n",
      "memory usage: 1.8 KB\n"
     ]
    }
   ],
   "source": [
    "# we look at a description of the data\n",
    "# we have 115 rows, so that's enough for training and forecasting\n",
    "relevant_data.info()\n"
   ]
  },
  {
   "cell_type": "markdown",
   "id": "b71dd9c8",
   "metadata": {},
   "source": [
    "## Plot of our data"
   ]
  },
  {
   "cell_type": "code",
   "execution_count": 15,
   "id": "e48b07f1",
   "metadata": {},
   "outputs": [
    {
     "data": {
      "text/plain": [
       "<AxesSubplot:title={'center':'Plot of HDFC Adj Close prices from May 2021 to October 2021'}, xlabel='Date'>"
      ]
     },
     "execution_count": 15,
     "metadata": {},
     "output_type": "execute_result"
    },
    {
     "data": {
      "image/png": "[encoded data removed]",
      "text/plain": [
       "<Figure size 432x288 with 1 Axes>"
      ]
     },
     "metadata": {
      "needs_background": "light"
     },
     "output_type": "display_data"
    }
   ],
   "source": [
    "# let us plot our relevant data\n",
    "relevant_data.plot(title='Plot of HDFC Adj Close prices from May 2021 to October 2021')\n"
   ]
  },
  {
   "cell_type": "markdown",
   "id": "4bd373ec",
   "metadata": {},
   "source": [
    "## Split data for Model and Forecast / testing\n",
    "We now perform exclude a few end dates from our data to test how good our forecast models are"
   ]
  },
  {
   "cell_type": "code",
   "execution_count": 16,
   "id": "4fb67a30",
   "metadata": {},
   "outputs": [],
   "source": [
    "# This data will be used for testing our forecasting\n",
    "test_data = relevant_data[-5:]\n",
    "\n",
    "# This data will be used for building our ARIMA model\n",
    "model_data = relevant_data[:-5]\n"
   ]
  },
  {
   "cell_type": "markdown",
   "id": "5a1b52c2",
   "metadata": {},
   "source": [
    "### Let us view few first 5 columns of each of our data"
   ]
  },
  {
   "cell_type": "code",
   "execution_count": 17,
   "id": "d830f278",
   "metadata": {},
   "outputs": [
    {
     "name": "stdout",
     "output_type": "stream",
     "text": [
      "Some of the data that will be used for training\n"
     ]
    },
    {
     "data": {
      "text/html": [
       "<div>\n",
       "<style scoped>\n",
       "    .dataframe tbody tr th:only-of-type {\n",
       "        vertical-align: middle;\n",
       "    }\n",
       "\n",
       "    .dataframe tbody tr th {\n",
       "        vertical-align: top;\n",
       "    }\n",
       "\n",
       "    .dataframe thead th {\n",
       "        text-align: right;\n",
       "    }\n",
       "</style>\n",
       "<table border=\"1\" class=\"dataframe\">\n",
       "  <thead>\n",
       "    <tr style=\"text-align: right;\">\n",
       "      <th></th>\n",
       "      <th>Adj Close</th>\n",
       "    </tr>\n",
       "    <tr>\n",
       "      <th>Date</th>\n",
       "      <th></th>\n",
       "    </tr>\n",
       "  </thead>\n",
       "  <tbody>\n",
       "    <tr>\n",
       "      <th>2021-05-03</th>\n",
       "      <td>1408.354614</td>\n",
       "    </tr>\n",
       "    <tr>\n",
       "      <th>2021-05-04</th>\n",
       "      <td>1382.367065</td>\n",
       "    </tr>\n",
       "    <tr>\n",
       "      <th>2021-05-05</th>\n",
       "      <td>1396.555664</td>\n",
       "    </tr>\n",
       "    <tr>\n",
       "      <th>2021-05-06</th>\n",
       "      <td>1394.863037</td>\n",
       "    </tr>\n",
       "    <tr>\n",
       "      <th>2021-05-07</th>\n",
       "      <td>1408.653320</td>\n",
       "    </tr>\n",
       "  </tbody>\n",
       "</table>\n",
       "</div>"
      ],
      "text/plain": [
       "              Adj Close\n",
       "Date                   \n",
       "2021-05-03  1408.354614\n",
       "2021-05-04  1382.367065\n",
       "2021-05-05  1396.555664\n",
       "2021-05-06  1394.863037\n",
       "2021-05-07  1408.653320"
      ]
     },
     "execution_count": 17,
     "metadata": {},
     "output_type": "execute_result"
    }
   ],
   "source": [
    "print(\"Some of the data that will be used for training\")\n",
    "model_data.head(5)\n"
   ]
  },
  {
   "cell_type": "code",
   "execution_count": 18,
   "id": "9b032a37",
   "metadata": {},
   "outputs": [
    {
     "name": "stdout",
     "output_type": "stream",
     "text": [
      "Final few rows of data that will be used for training\n"
     ]
    },
    {
     "data": {
      "text/html": [
       "<div>\n",
       "<style scoped>\n",
       "    .dataframe tbody tr th:only-of-type {\n",
       "        vertical-align: middle;\n",
       "    }\n",
       "\n",
       "    .dataframe tbody tr th {\n",
       "        vertical-align: top;\n",
       "    }\n",
       "\n",
       "    .dataframe thead th {\n",
       "        text-align: right;\n",
       "    }\n",
       "</style>\n",
       "<table border=\"1\" class=\"dataframe\">\n",
       "  <thead>\n",
       "    <tr style=\"text-align: right;\">\n",
       "      <th></th>\n",
       "      <th>Adj Close</th>\n",
       "    </tr>\n",
       "    <tr>\n",
       "      <th>Date</th>\n",
       "      <th></th>\n",
       "    </tr>\n",
       "  </thead>\n",
       "  <tbody>\n",
       "    <tr>\n",
       "      <th>2021-10-01</th>\n",
       "      <td>1582.699951</td>\n",
       "    </tr>\n",
       "    <tr>\n",
       "      <th>2021-10-04</th>\n",
       "      <td>1585.750000</td>\n",
       "    </tr>\n",
       "    <tr>\n",
       "      <th>2021-10-05</th>\n",
       "      <td>1595.449951</td>\n",
       "    </tr>\n",
       "    <tr>\n",
       "      <th>2021-10-06</th>\n",
       "      <td>1614.900024</td>\n",
       "    </tr>\n",
       "    <tr>\n",
       "      <th>2021-10-07</th>\n",
       "      <td>1610.500000</td>\n",
       "    </tr>\n",
       "  </tbody>\n",
       "</table>\n",
       "</div>"
      ],
      "text/plain": [
       "              Adj Close\n",
       "Date                   \n",
       "2021-10-01  1582.699951\n",
       "2021-10-04  1585.750000\n",
       "2021-10-05  1595.449951\n",
       "2021-10-06  1614.900024\n",
       "2021-10-07  1610.500000"
      ]
     },
     "execution_count": 18,
     "metadata": {},
     "output_type": "execute_result"
    }
   ],
   "source": [
    "print(\"Final few rows of data that will be used for training\")\n",
    "model_data.tail(5)\n"
   ]
  },
  {
   "cell_type": "code",
   "execution_count": 19,
   "id": "cb266c1a",
   "metadata": {},
   "outputs": [
    {
     "name": "stdout",
     "output_type": "stream",
     "text": [
      "Data we will be forecasting\n"
     ]
    },
    {
     "data": {
      "text/html": [
       "<div>\n",
       "<style scoped>\n",
       "    .dataframe tbody tr th:only-of-type {\n",
       "        vertical-align: middle;\n",
       "    }\n",
       "\n",
       "    .dataframe tbody tr th {\n",
       "        vertical-align: top;\n",
       "    }\n",
       "\n",
       "    .dataframe thead th {\n",
       "        text-align: right;\n",
       "    }\n",
       "</style>\n",
       "<table border=\"1\" class=\"dataframe\">\n",
       "  <thead>\n",
       "    <tr style=\"text-align: right;\">\n",
       "      <th></th>\n",
       "      <th>Adj Close</th>\n",
       "    </tr>\n",
       "    <tr>\n",
       "      <th>Date</th>\n",
       "      <th></th>\n",
       "    </tr>\n",
       "  </thead>\n",
       "  <tbody>\n",
       "    <tr>\n",
       "      <th>2021-10-08</th>\n",
       "      <td>1602.650024</td>\n",
       "    </tr>\n",
       "    <tr>\n",
       "      <th>2021-10-11</th>\n",
       "      <td>1633.800049</td>\n",
       "    </tr>\n",
       "    <tr>\n",
       "      <th>2021-10-12</th>\n",
       "      <td>1629.599976</td>\n",
       "    </tr>\n",
       "    <tr>\n",
       "      <th>2021-10-13</th>\n",
       "      <td>1639.400024</td>\n",
       "    </tr>\n",
       "    <tr>\n",
       "      <th>2021-10-14</th>\n",
       "      <td>1687.400024</td>\n",
       "    </tr>\n",
       "  </tbody>\n",
       "</table>\n",
       "</div>"
      ],
      "text/plain": [
       "              Adj Close\n",
       "Date                   \n",
       "2021-10-08  1602.650024\n",
       "2021-10-11  1633.800049\n",
       "2021-10-12  1629.599976\n",
       "2021-10-13  1639.400024\n",
       "2021-10-14  1687.400024"
      ]
     },
     "execution_count": 19,
     "metadata": {},
     "output_type": "execute_result"
    }
   ],
   "source": [
    "print(\"Data we will be forecasting\")\n",
    "test_data.head(5)\n"
   ]
  },
  {
   "cell_type": "markdown",
   "id": "2612aa99",
   "metadata": {},
   "source": [
    "**Note: We will forecast from 8th October, so our training data ends on 7th October and our\n",
    "test data begins on 8th October**\n",
    "\n",
    "(Furthermore: 9th and 10th October of year 2021 were weekends and as such, the market remains closed: so there\n",
    "is no data for those days)"
   ]
  },
  {
   "cell_type": "code",
   "execution_count": 20,
   "id": "68e5524d",
   "metadata": {},
   "outputs": [
    {
     "name": "stdout",
     "output_type": "stream",
     "text": [
      "We have:\n",
      "- 110 rows for model building\n",
      "- 5 rows for testing our forecast\n"
     ]
    }
   ],
   "source": [
    "print(f\"\"\"We have:\n",
    "- {model_data.shape[0]} rows for model building\n",
    "- {test_data.shape[0]} rows for testing our forecast\"\"\")\n"
   ]
  },
  {
   "cell_type": "markdown",
   "id": "bfcbabbd",
   "metadata": {},
   "source": [
    "So we will now perform our forecasting on the data in ```model_data``` and observe our results on ```test_data```"
   ]
  },
  {
   "cell_type": "markdown",
   "id": "2df69ddb",
   "metadata": {},
   "source": [
    "# Check for stationarity\n",
    "We employ the follwing tests:\n",
    "- Phillip Perron Test (pp)\n",
    "- Augmented Dickey Fuller Test (adf)\n",
    "- Kwiatkowski Phillips Schmidt Shin Test (kpss)\n",
    "\n",
    "The hypotheses for the tests are as follows:\n",
    "- For pp and adf\n",
    "    - Null: There is a unit root (implying time series is not stationary)\n",
    "    - Alter: The time series is stationary\n",
    "\n",
    "- For kpss\n",
    "    - Null: The time series is stationary\n",
    "    - Alter: The time series is not stationary\n",
    "\n",
    "Thus, for check stationarity of our data we need pp and adf tests to reject null hypothesis\n",
    "but kpss should not be able to reject null hypothesis.\n",
    "\n",
    "As such, for the function ```station_check()```, we print ```True``` for pp and adf in case they\n",
    "reject null in favor of considering the time series as stationary.\n",
    "\n",
    "Whereas for kpss we print ```True``` in the case it can't reject null and hence, cannot reject the possibility\n",
    "of the time series being stationary."
   ]
  },
  {
   "cell_type": "code",
   "execution_count": 21,
   "id": "11110b72",
   "metadata": {},
   "outputs": [],
   "source": [
    "def station_check(entries, pvalue=0.05):\n",
    "    pp = stat_tests.PhillipsPerron(entries)\n",
    "    adf = stat_tests.ADF(entries)\n",
    "    kpss = stat_tests.KPSS(entries)\n",
    "    # (calculated_pvalue < provided_pvalue) --> reject null\n",
    "    pp_res, adf_res, kpss_res = pp.pvalue < pvalue, adf.pvalue < pvalue, kpss.pvalue < pvalue\n",
    "    print(f\"\"\"Stationary Checks:\n",
    "(True = Test suggests data is stationary. False = Test suggests data is *not* stationary)\n",
    "    - pp   verdict: {pp_res == True}\n",
    "    - adf  verdict: {adf_res == True}\n",
    "    - kpss verdict: {kpss_res == False} \n",
    "    \"\"\")\n",
    "# kpss has a different null that's why '== False' for kpss\n"
   ]
  },
  {
   "cell_type": "code",
   "execution_count": 22,
   "id": "8343cedc",
   "metadata": {},
   "outputs": [
    {
     "name": "stdout",
     "output_type": "stream",
     "text": [
      "Stationary Checks:\n",
      "(True = Test suggests data is stationary. False = Test suggests data is *not* stationary)\n",
      "    - pp   verdict: False\n",
      "    - adf  verdict: False\n",
      "    - kpss verdict: False \n",
      "    \n"
     ]
    }
   ],
   "source": [
    "station_check(model_data['Adj Close'])\n"
   ]
  },
  {
   "cell_type": "markdown",
   "id": "26167290",
   "metadata": {},
   "source": [
    "All 3 Tests show False, so the data is not stationary.  \n",
    "We shall now transform our data in hopes to make it stationary"
   ]
  },
  {
   "cell_type": "code",
   "execution_count": 23,
   "id": "6c926e56",
   "metadata": {},
   "outputs": [],
   "source": [
    "def transformer1(data):\n",
    "    # taking first difference values\n",
    "    return data.diff()[1:]\n",
    "\n",
    "def transformer2(data):\n",
    "    # transforming values into log\n",
    "    return np.log(data)\n",
    "\n",
    "def transformer3(data):\n",
    "    # transforming values and then taking first difference\n",
    "    return np.log(data).diff()[1:]\n"
   ]
  },
  {
   "cell_type": "code",
   "execution_count": 24,
   "id": "2e8d961d",
   "metadata": {},
   "outputs": [],
   "source": [
    "transform1 = transformer1(model_data['Adj Close'])\n",
    "transform2 = transformer2(model_data['Adj Close'])\n",
    "transform3 = transformer3(model_data['Adj Close'])\n"
   ]
  },
  {
   "cell_type": "code",
   "execution_count": 25,
   "id": "470ca2c5",
   "metadata": {},
   "outputs": [
    {
     "name": "stdout",
     "output_type": "stream",
     "text": [
      "-- No Transform --\n",
      "Stationary Checks:\n",
      "(True = Test suggests data is stationary. False = Test suggests data is *not* stationary)\n",
      "    - pp   verdict: False\n",
      "    - adf  verdict: False\n",
      "    - kpss verdict: False \n",
      "    \n",
      "\n",
      "-- Transform 1: First difference --\n",
      "Stationary Checks:\n",
      "(True = Test suggests data is stationary. False = Test suggests data is *not* stationary)\n",
      "    - pp   verdict: True\n",
      "    - adf  verdict: True\n",
      "    - kpss verdict: True \n",
      "    \n",
      "\n",
      "-- Transform 2: Taking log of the values --\n",
      "Stationary Checks:\n",
      "(True = Test suggests data is stationary. False = Test suggests data is *not* stationary)\n",
      "    - pp   verdict: False\n",
      "    - adf  verdict: False\n",
      "    - kpss verdict: False \n",
      "    \n",
      "\n",
      "-- Transform 3: Taking log of the values and then taking first difference --\n",
      "Stationary Checks:\n",
      "(True = Test suggests data is stationary. False = Test suggests data is *not* stationary)\n",
      "    - pp   verdict: True\n",
      "    - adf  verdict: True\n",
      "    - kpss verdict: True \n",
      "    \n"
     ]
    }
   ],
   "source": [
    "print(\"-- No Transform --\")\n",
    "station_check(model_data['Adj Close'])\n",
    "\n",
    "print(\"\\n-- Transform 1: First difference --\")\n",
    "station_check(transform1)\n",
    "\n",
    "print(\"\\n-- Transform 2: Taking log of the values --\")\n",
    "station_check(transform2)\n",
    "\n",
    "print(\"\\n-- Transform 3: Taking log of the values and then taking first difference --\")\n",
    "station_check(transform3)\n"
   ]
  },
  {
   "cell_type": "markdown",
   "id": "f3e2314d",
   "metadata": {},
   "source": [
    "From the above we can see that ```transform1``` i.e. taking first difference, is a simple way of making \n",
    "our times series data stationary"
   ]
  },
  {
   "cell_type": "code",
   "execution_count": 26,
   "id": "ff5affd6",
   "metadata": {},
   "outputs": [],
   "source": [
    "data_diff1 = transformer1(model_data['Adj Close'])\n"
   ]
  },
  {
   "cell_type": "markdown",
   "id": "e6d2b216",
   "metadata": {},
   "source": [
    "Let us now plot this data"
   ]
  },
  {
   "cell_type": "code",
   "execution_count": 27,
   "id": "8755fae4",
   "metadata": {},
   "outputs": [
    {
     "data": {
      "text/plain": [
       "<AxesSubplot:title={'center':'Plot of first difference of adj. close price of HDFC stock'}, xlabel='Date'>"
      ]
     },
     "execution_count": 27,
     "metadata": {},
     "output_type": "execute_result"
    },
    {
     "data": {
      "image/png": "[encoded data removed]",
      "text/plain": [
       "<Figure size 432x288 with 1 Axes>"
      ]
     },
     "metadata": {
      "needs_background": "light"
     },
     "output_type": "display_data"
    }
   ],
   "source": [
    "data_diff1.plot(title='Plot of first difference of adj. close price of HDFC stock')\n"
   ]
  },
  {
   "cell_type": "markdown",
   "id": "3797ed9f",
   "metadata": {},
   "source": [
    "# Estimating p,q in ARMA(p,q)"
   ]
  },
  {
   "cell_type": "code",
   "execution_count": 28,
   "id": "f204948f",
   "metadata": {},
   "outputs": [],
   "source": [
    "p_lim = 15\n",
    "q_lim = 15\n",
    "p_range = [i for i in range(p_lim+1)]\n",
    "q_range = [i for i in range(q_lim+1)]\n",
    "aic_matrix = [[None for _ in range(p_lim+1)] for __ in range(q_lim+1)]\n",
    "bic_matrix = [[None for _ in range(p_lim+1)] for __ in range(q_lim+1)]\n"
   ]
  },
  {
   "cell_type": "code",
   "execution_count": 29,
   "id": "33ea713c",
   "metadata": {},
   "outputs": [
    {
     "name": "stdout",
     "output_type": "stream",
     "text": [
      "Scores Calculation Done\n"
     ]
    }
   ],
   "source": [
    "for p in p_range:\n",
    "    for q in q_range:\n",
    "        if p == 0 and q == 0:\n",
    "            # arma(0,0) set to a high number (basically no prediction)\n",
    "            aic_matrix[q][p] = 9999\n",
    "            bic_matrix[q][p] = 9999\n",
    "        else:\n",
    "            # initializing arma(p,q) model\n",
    "            model = ARIMA(data_diff1, order=(p,0,q))\n",
    "            \n",
    "            # fitting model to data\n",
    "            results = model.fit()\n",
    "            \n",
    "            # recording the calculated aic and bic scores\n",
    "            aic_matrix[q][p] = round(results.aic,3) # Imp: we set it as (q,p) not the usual (p,q)\n",
    "            bic_matrix[q][p] = round(results.bic,3) # Imp: we set it as (q,p) not the usual (p,q)\n",
    "print(\"Scores Calculation Done\")  \n"
   ]
  },
  {
   "cell_type": "code",
   "execution_count": 30,
   "id": "44c6feab",
   "metadata": {},
   "outputs": [],
   "source": [
    "# converting to numpy array for better computations\n",
    "aic_matrix = np.array(aic_matrix)\n",
    "bic_matrix = np.array(bic_matrix)\n"
   ]
  },
  {
   "cell_type": "code",
   "execution_count": 31,
   "id": "e7b4db6e",
   "metadata": {},
   "outputs": [
    {
     "name": "stdout",
     "output_type": "stream",
     "text": [
      "Best index as per aic:[[10  0]], score: 917.693\n",
      "Best index as per bic:[[0 2]], score: 936.753\n"
     ]
    }
   ],
   "source": [
    "print(f\"Best index as per aic:{np.argwhere(aic_matrix == np.min(aic_matrix))}, score: {np.min(aic_matrix)}\")\n",
    "print(f\"Best index as per bic:{np.argwhere(bic_matrix == np.min(bic_matrix))}, score: {np.min(bic_matrix)}\")\n"
   ]
  },
  {
   "cell_type": "markdown",
   "id": "00632904",
   "metadata": {},
   "source": [
    "For fitting ARMA(p,q) model:\n",
    "- aic recommends (q,p) = (10,0)\n",
    "- bic recommends (q,p) = (0,2)\n",
    "\n",
    "\n",
    "We will use bic's recommendation\n",
    "because bic is emperically better as per this:\n",
    "https://stats.stackexchange.com/questions/577/is-there-any-reason-to-prefer-the-aic-or-bic-over-the-other"
   ]
  },
  {
   "cell_type": "markdown",
   "id": "638f18dd",
   "metadata": {},
   "source": [
    "## Building our ARMA(p,q) model"
   ]
  },
  {
   "cell_type": "code",
   "execution_count": 32,
   "id": "3226806b",
   "metadata": {},
   "outputs": [],
   "source": [
    "final_model = ARIMA(data_diff1, order=(2,0,0))\n",
    "results = final_model.fit()\n"
   ]
  },
  {
   "cell_type": "code",
   "execution_count": 33,
   "id": "11bfdac7",
   "metadata": {},
   "outputs": [
    {
     "data": {
      "text/html": [
       "<table class=\"simpletable\">\n",
       "<caption>SARIMAX Results</caption>\n",
       "<tr>\n",
       "  <th>Dep. Variable:</th>       <td>Adj Close</td>    <th>  No. Observations:  </th>    <td>109</td>  \n",
       "</tr>\n",
       "<tr>\n",
       "  <th>Model:</th>            <td>ARIMA(2, 0, 0)</td>  <th>  Log Likelihood     </th> <td>-458.994</td>\n",
       "</tr>\n",
       "<tr>\n",
       "  <th>Date:</th>            <td>Wed, 03 Nov 2021</td> <th>  AIC                </th>  <td>925.988</td>\n",
       "</tr>\n",
       "<tr>\n",
       "  <th>Time:</th>                <td>23:26:34</td>     <th>  BIC                </th>  <td>936.753</td>\n",
       "</tr>\n",
       "<tr>\n",
       "  <th>Sample:</th>                  <td>0</td>        <th>  HQIC               </th>  <td>930.354</td>\n",
       "</tr>\n",
       "<tr>\n",
       "  <th></th>                      <td> - 109</td>      <th>                     </th>     <td> </td>   \n",
       "</tr>\n",
       "<tr>\n",
       "  <th>Covariance Type:</th>        <td>opg</td>       <th>                     </th>     <td> </td>   \n",
       "</tr>\n",
       "</table>\n",
       "<table class=\"simpletable\">\n",
       "<tr>\n",
       "     <td></td>       <th>coef</th>     <th>std err</th>      <th>z</th>      <th>P>|z|</th>  <th>[0.025</th>    <th>0.975]</th>  \n",
       "</tr>\n",
       "<tr>\n",
       "  <th>const</th>  <td>    1.8269</td> <td>    1.446</td> <td>    1.264</td> <td> 0.206</td> <td>   -1.007</td> <td>    4.660</td>\n",
       "</tr>\n",
       "<tr>\n",
       "  <th>ar.L1</th>  <td>    0.1819</td> <td>    0.096</td> <td>    1.897</td> <td> 0.058</td> <td>   -0.006</td> <td>    0.370</td>\n",
       "</tr>\n",
       "<tr>\n",
       "  <th>ar.L2</th>  <td>   -0.3417</td> <td>    0.103</td> <td>   -3.323</td> <td> 0.001</td> <td>   -0.543</td> <td>   -0.140</td>\n",
       "</tr>\n",
       "<tr>\n",
       "  <th>sigma2</th> <td>  265.5471</td> <td>   31.396</td> <td>    8.458</td> <td> 0.000</td> <td>  204.012</td> <td>  327.083</td>\n",
       "</tr>\n",
       "</table>\n",
       "<table class=\"simpletable\">\n",
       "<tr>\n",
       "  <th>Ljung-Box (L1) (Q):</th>     <td>0.11</td> <th>  Jarque-Bera (JB):  </th> <td>19.61</td>\n",
       "</tr>\n",
       "<tr>\n",
       "  <th>Prob(Q):</th>                <td>0.74</td> <th>  Prob(JB):          </th> <td>0.00</td> \n",
       "</tr>\n",
       "<tr>\n",
       "  <th>Heteroskedasticity (H):</th> <td>0.61</td> <th>  Skew:              </th> <td>0.64</td> \n",
       "</tr>\n",
       "<tr>\n",
       "  <th>Prob(H) (two-sided):</th>    <td>0.15</td> <th>  Kurtosis:          </th> <td>4.64</td> \n",
       "</tr>\n",
       "</table><br/><br/>Warnings:<br/>[1] Covariance matrix calculated using the outer product of gradients (complex-step)."
      ],
      "text/plain": [
       "<class 'statsmodels.iolib.summary.Summary'>\n",
       "\"\"\"\n",
       "                               SARIMAX Results                                \n",
       "==============================================================================\n",
       "Dep. Variable:              Adj Close   No. Observations:                  109\n",
       "Model:                 ARIMA(2, 0, 0)   Log Likelihood                -458.994\n",
       "Date:                Wed, 03 Nov 2021   AIC                            925.988\n",
       "Time:                        23:26:34   BIC                            936.753\n",
       "Sample:                             0   HQIC                           930.354\n",
       "                                - 109                                         \n",
       "Covariance Type:                  opg                                         \n",
       "==============================================================================\n",
       "                 coef    std err          z      P>|z|      [0.025      0.975]\n",
       "------------------------------------------------------------------------------\n",
       "const          1.8269      1.446      1.264      0.206      -1.007       4.660\n",
       "ar.L1          0.1819      0.096      1.897      0.058      -0.006       0.370\n",
       "ar.L2         -0.3417      0.103     -3.323      0.001      -0.543      -0.140\n",
       "sigma2       265.5471     31.396      8.458      0.000     204.012     327.083\n",
       "===================================================================================\n",
       "Ljung-Box (L1) (Q):                   0.11   Jarque-Bera (JB):                19.61\n",
       "Prob(Q):                              0.74   Prob(JB):                         0.00\n",
       "Heteroskedasticity (H):               0.61   Skew:                             0.64\n",
       "Prob(H) (two-sided):                  0.15   Kurtosis:                         4.64\n",
       "===================================================================================\n",
       "\n",
       "Warnings:\n",
       "[1] Covariance matrix calculated using the outer product of gradients (complex-step).\n",
       "\"\"\""
      ]
     },
     "execution_count": 33,
     "metadata": {},
     "output_type": "execute_result"
    }
   ],
   "source": [
    "results.summary()\n"
   ]
  },
  {
   "cell_type": "markdown",
   "id": "5e372016",
   "metadata": {},
   "source": [
    "# Forecasting\n",
    "\n",
    "We try to forecast the next 5 values (i.e. values in the ```test_data``` as seen before"
   ]
  },
  {
   "cell_type": "code",
   "execution_count": 34,
   "id": "97fefb92",
   "metadata": {},
   "outputs": [
    {
     "data": {
      "text/plain": [
       "Adj Close    1610.5\n",
       "Name: 2021-10-07 00:00:00, dtype: float64"
      ]
     },
     "execution_count": 34,
     "metadata": {},
     "output_type": "execute_result"
    }
   ],
   "source": [
    "# Value of $Y_T$ i.e. last recorded value\n",
    "model_data.iloc[109]\n"
   ]
  },
  {
   "cell_type": "markdown",
   "id": "d3fa71a1",
   "metadata": {},
   "source": [
    "We use the inbuilt functions to find the forecasts for the next 5 values"
   ]
  },
  {
   "cell_type": "code",
   "execution_count": 35,
   "id": "878f17ea",
   "metadata": {},
   "outputs": [],
   "source": [
    "# finding the forecasts of first difference time series\n",
    "forecasts = results.predict(start=109, end=113)\n"
   ]
  },
  {
   "cell_type": "code",
   "execution_count": 36,
   "id": "0e2c4db3",
   "metadata": {},
   "outputs": [
    {
     "data": {
      "text/plain": [
       "109   -5.327282\n",
       "110    2.653411\n",
       "111    4.421674\n",
       "112    2.016345\n",
       "113    0.974696\n",
       "Name: predicted_mean, dtype: float64"
      ]
     },
     "execution_count": 36,
     "metadata": {},
     "output_type": "execute_result"
    }
   ],
   "source": [
    "# let us look at the forecasts\n",
    "forecasts\n"
   ]
  },
  {
   "cell_type": "code",
   "execution_count": 37,
   "id": "e7bce319",
   "metadata": {},
   "outputs": [],
   "source": [
    "# predicting the value for date '2021-10-08' i.e. 8th october 2021\n",
    "# we need to add since we had trained on first difference\n",
    "forecasts.iloc[0] += 1610.5\n"
   ]
  },
  {
   "cell_type": "code",
   "execution_count": 38,
   "id": "b4c127dc",
   "metadata": {},
   "outputs": [
    {
     "data": {
      "text/plain": [
       "109    1605.172718\n",
       "110       2.653411\n",
       "111       4.421674\n",
       "112       2.016345\n",
       "113       0.974696\n",
       "Name: predicted_mean, dtype: float64"
      ]
     },
     "execution_count": 38,
     "metadata": {},
     "output_type": "execute_result"
    }
   ],
   "source": [
    "forecasts"
   ]
  },
  {
   "cell_type": "code",
   "execution_count": 39,
   "id": "79add5ac",
   "metadata": {},
   "outputs": [],
   "source": [
    "# cumsum() just outputs the cumulative sum:\n",
    "# which is basically some sort of an inverse transformation\n",
    "# of the first difference\n",
    "predicted_values = forecasts.cumsum()\n"
   ]
  },
  {
   "cell_type": "code",
   "execution_count": 40,
   "id": "e9b547d5",
   "metadata": {},
   "outputs": [
    {
     "data": {
      "text/plain": [
       "109    1605.172718\n",
       "110    1607.826129\n",
       "111    1612.247803\n",
       "112    1614.264148\n",
       "113    1615.238844\n",
       "Name: predicted_mean, dtype: float64"
      ]
     },
     "execution_count": 40,
     "metadata": {},
     "output_type": "execute_result"
    }
   ],
   "source": [
    "# here are our final predicted values\n",
    "predicted_values\n"
   ]
  },
  {
   "cell_type": "code",
   "execution_count": 41,
   "id": "f941896f",
   "metadata": {},
   "outputs": [
    {
     "data": {
      "text/html": [
       "<div>\n",
       "<style scoped>\n",
       "    .dataframe tbody tr th:only-of-type {\n",
       "        vertical-align: middle;\n",
       "    }\n",
       "\n",
       "    .dataframe tbody tr th {\n",
       "        vertical-align: top;\n",
       "    }\n",
       "\n",
       "    .dataframe thead th {\n",
       "        text-align: right;\n",
       "    }\n",
       "</style>\n",
       "<table border=\"1\" class=\"dataframe\">\n",
       "  <thead>\n",
       "    <tr style=\"text-align: right;\">\n",
       "      <th></th>\n",
       "      <th>Adj Close</th>\n",
       "    </tr>\n",
       "    <tr>\n",
       "      <th>Date</th>\n",
       "      <th></th>\n",
       "    </tr>\n",
       "  </thead>\n",
       "  <tbody>\n",
       "    <tr>\n",
       "      <th>2021-10-08</th>\n",
       "      <td>1602.650024</td>\n",
       "    </tr>\n",
       "    <tr>\n",
       "      <th>2021-10-11</th>\n",
       "      <td>1633.800049</td>\n",
       "    </tr>\n",
       "    <tr>\n",
       "      <th>2021-10-12</th>\n",
       "      <td>1629.599976</td>\n",
       "    </tr>\n",
       "    <tr>\n",
       "      <th>2021-10-13</th>\n",
       "      <td>1639.400024</td>\n",
       "    </tr>\n",
       "    <tr>\n",
       "      <th>2021-10-14</th>\n",
       "      <td>1687.400024</td>\n",
       "    </tr>\n",
       "  </tbody>\n",
       "</table>\n",
       "</div>"
      ],
      "text/plain": [
       "              Adj Close\n",
       "Date                   \n",
       "2021-10-08  1602.650024\n",
       "2021-10-11  1633.800049\n",
       "2021-10-12  1629.599976\n",
       "2021-10-13  1639.400024\n",
       "2021-10-14  1687.400024"
      ]
     },
     "execution_count": 41,
     "metadata": {},
     "output_type": "execute_result"
    }
   ],
   "source": [
    "# what were the true values:\n",
    "test_data\n"
   ]
  },
  {
   "cell_type": "code",
   "execution_count": 42,
   "id": "e2171196",
   "metadata": {},
   "outputs": [],
   "source": [
    "# we now plot our data\n",
    "x = [str(y) for y in test_data.index]\n"
   ]
  },
  {
   "cell_type": "code",
   "execution_count": 43,
   "id": "980f3678",
   "metadata": {},
   "outputs": [
    {
     "data": {
      "image/png": "[encoded data removed]",
      "text/plain": [
       "<Figure size 432x288 with 1 Axes>"
      ]
     },
     "metadata": {
      "needs_background": "light"
     },
     "output_type": "display_data"
    }
   ],
   "source": [
    "# plotting code\n",
    "plt.scatter(x, predicted_values, label='predicted points', color='r')\n",
    "plt.plot(x, test_data['Adj Close'], label='true')\n",
    "plt.plot(x, predicted_values, label='predicted', color='g')\n",
    "plt.scatter(x, test_data['Adj Close'], label='true points', color='m')\n",
    "plt.legend()\n",
    "plt.xticks(rotation=90)\n",
    "plt.title(\"Plot of forecasted values vs True Values\")\n",
    "plt.show()\n"
   ]
  },
  {
   "cell_type": "code",
   "execution_count": 44,
   "id": "14fca0e5",
   "metadata": {},
   "outputs": [
    {
     "name": "stdout",
     "output_type": "stream",
     "text": [
      "MSE of forecasts: 1364.2309221650949\n",
      "RMSE of forecasts: 36.93549677701783\n",
      "------\n",
      "Squared error of first forecast: 2.5226944353059935\n"
     ]
    }
   ],
   "source": [
    "# calculation of error scores code\n",
    "predicted_values.index = [1,2,3,4,5]\n",
    "test_data.index = [1,2,3,4,5]\n",
    "mse = np.mean( (predicted_values - test_data['Adj Close'])**2 )\n",
    "print(f\"MSE of forecasts: {mse}\")\n",
    "print(f\"RMSE of forecasts: {np.sqrt(mse)}\")\n",
    "print(\"------\")\n",
    "print(f\"Squared error of first forecast: {predicted_values.iloc[0] - test_data['Adj Close'].iloc[0]}\")"
   ]
  },
  {
   "cell_type": "markdown",
   "id": "368b7a43",
   "metadata": {},
   "source": [
    "# Findings\n",
    "\n",
    "We see that our ARMA model has a decent first step forecast prediction after which\n",
    "it quickly becomes worse.\n",
    "\n",
    "We do not find that very surprising due to 2 major factors:  \n",
    "   - Covid is still going: and hence, any forecast during these uncertain times are bound to fail quickly  \n",
    "   - Stocks are hard to predict: if all it took to predict adjusted close of a stock was an ARIMA model then\n",
    "   there would be no need to study further. In general, we have failed to consider a lot of factors: Trends,\n",
    "   impact of our predictions on models, decisions of other traders based on our actions, etc"
   ]
  },
  {
   "cell_type": "code",
   "execution_count": null,
   "id": "f3042d8d",
   "metadata": {},
   "outputs": [],
   "source": []
  }
 ],
 "metadata": {
  "kernelspec": {
   "display_name": "Python 3 (ipykernel)",
   "language": "python",
   "name": "python3"
  },
  "language_info": {
   "codemirror_mode": {
    "name": "ipython",
    "version": 3
   },
   "file_extension": ".py",
   "mimetype": "text/x-python",
   "name": "python",
   "nbconvert_exporter": "python",
   "pygments_lexer": "ipython3",
   "version": "3.9.7"
  }
 },
 "nbformat": 4,
 "nbformat_minor": 5
}
