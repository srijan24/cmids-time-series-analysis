{
 "cells": [
  {
   "cell_type": "markdown",
   "id": "cb6f495f",
   "metadata": {},
   "source": [
    "## Srijan Bhushan\n",
    "## TSA Assignment 2\n",
    "#### Code attached below"
   ]
  },
  {
   "cell_type": "code",
   "execution_count": 418,
   "id": "176d7756",
   "metadata": {},
   "outputs": [
    {
     "name": "stdout",
     "output_type": "stream",
     "text": [
      "This is python code output.\n"
     ]
    }
   ],
   "source": [
    "\n",
    "# ------------------------- #\n",
    "# By Srijan Bhushan         #\n",
    "# Roll No: MDS202039        #\n",
    "# email: srijanb@cmi.ac.in  #\n",
    "# Time Series Analysis      #\n",
    "# Assignment 2              #\n",
    "# ------------------------- #\n",
    "\n",
    "# All python code will be in boxes like these\n",
    "# and the relevant output below\n",
    "print(\"This is python code output.\")\n"
   ]
  },
  {
   "cell_type": "markdown",
   "id": "105661a3",
   "metadata": {},
   "source": [
    "# Initial Programming"
   ]
  },
  {
   "cell_type": "code",
   "execution_count": 78,
   "id": "2c7724b5",
   "metadata": {},
   "outputs": [],
   "source": [
    "# importing required libraries\n",
    "import pandas as pd\n",
    "import numpy as np\n",
    "import matplotlib.pyplot as plt\n",
    "import seaborn as sns\n",
    "import arch.unitroot as stat_tests\n",
    "import datetime\n",
    "from statsmodels.tsa.arima.model import ARIMA\n",
    "import warnings\n",
    "from arch import arch_model\n",
    "import statsmodels.api as sm # for applying the Ljung - Box test\n",
    "\n",
    "warnings.filterwarnings('ignore')"
   ]
  },
  {
   "cell_type": "markdown",
   "id": "eb4c45b7",
   "metadata": {},
   "source": [
    "## Loading the data\n",
    "\n",
    "The data is the Adjusted Close price of NASDAQ composite stock data in USD.\n",
    "We have taken data from 28 Novemeber 2014 to 28 November 2018 so as to avoid\n",
    "any effects covid may have had on the stock.\n",
    "\n",
    "The dataset was taken from:  \n",
    "https://finance.yahoo.com/quote/%5EIXIC/history?period1=\n",
    "1417132800&period2=1543363200&interval=1d&filter=history&\n",
    "frequency=1d&includeAdjustedClose=true"
   ]
  },
  {
   "cell_type": "code",
   "execution_count": 79,
   "id": "ce1c6204",
   "metadata": {},
   "outputs": [
    {
     "data": {
      "text/plain": [
       "''"
      ]
     },
     "execution_count": 79,
     "metadata": {},
     "output_type": "execute_result"
    }
   ],
   "source": [
    "\n",
    "\"\"\"\n",
    "Dataset link:\n",
    "https://finance.yahoo.com/quote/%5EIXIC/history?period1=\n",
    "1417132800&period2=1543363200&interval=1d&filter=history&\n",
    "frequency=1d&includeAdjustedClose=true\n",
    "\n",
    "NASDAQ Composite data\n",
    "28 Nov 2014 to 28 Nov 2018\n",
    "\n",
    "taken so old to ensure lack of covid effects\n",
    "\"\"\"\n",
    "\n",
    "## IMPORTING THE DATA\n",
    "data = pd.read_csv('IXIC.csv')[['Date', 'Adj Close']]\n",
    "data['Date'] = pd.to_datetime(data['Date'], format='%Y-%m-%d')\n",
    "data = data.set_index('Date')\n",
    ";\n"
   ]
  },
  {
   "cell_type": "markdown",
   "id": "f5f9305a",
   "metadata": {},
   "source": [
    "## Basic Data Preprocessing"
   ]
  },
  {
   "cell_type": "code",
   "execution_count": 195,
   "id": "57e6a710",
   "metadata": {},
   "outputs": [
    {
     "data": {
      "text/html": [
       "<div>\n",
       "<style scoped>\n",
       "    .dataframe tbody tr th:only-of-type {\n",
       "        vertical-align: middle;\n",
       "    }\n",
       "\n",
       "    .dataframe tbody tr th {\n",
       "        vertical-align: top;\n",
       "    }\n",
       "\n",
       "    .dataframe thead th {\n",
       "        text-align: right;\n",
       "    }\n",
       "</style>\n",
       "<table border=\"1\" class=\"dataframe\">\n",
       "  <thead>\n",
       "    <tr style=\"text-align: right;\">\n",
       "      <th></th>\n",
       "      <th>Adj Close</th>\n",
       "    </tr>\n",
       "    <tr>\n",
       "      <th>Date</th>\n",
       "      <th></th>\n",
       "    </tr>\n",
       "  </thead>\n",
       "  <tbody>\n",
       "    <tr>\n",
       "      <th>2014-11-28</th>\n",
       "      <td>4791.629883</td>\n",
       "    </tr>\n",
       "    <tr>\n",
       "      <th>2014-12-01</th>\n",
       "      <td>4727.350098</td>\n",
       "    </tr>\n",
       "    <tr>\n",
       "      <th>2014-12-02</th>\n",
       "      <td>4755.810059</td>\n",
       "    </tr>\n",
       "    <tr>\n",
       "      <th>2014-12-03</th>\n",
       "      <td>4774.470215</td>\n",
       "    </tr>\n",
       "    <tr>\n",
       "      <th>2014-12-04</th>\n",
       "      <td>4769.439941</td>\n",
       "    </tr>\n",
       "    <tr>\n",
       "      <th>2014-12-05</th>\n",
       "      <td>4780.759766</td>\n",
       "    </tr>\n",
       "    <tr>\n",
       "      <th>2014-12-08</th>\n",
       "      <td>4740.689941</td>\n",
       "    </tr>\n",
       "    <tr>\n",
       "      <th>2014-12-09</th>\n",
       "      <td>4766.470215</td>\n",
       "    </tr>\n",
       "    <tr>\n",
       "      <th>2014-12-10</th>\n",
       "      <td>4684.020020</td>\n",
       "    </tr>\n",
       "    <tr>\n",
       "      <th>2014-12-11</th>\n",
       "      <td>4708.160156</td>\n",
       "    </tr>\n",
       "  </tbody>\n",
       "</table>\n",
       "</div>"
      ],
      "text/plain": [
       "              Adj Close\n",
       "Date                   \n",
       "2014-11-28  4791.629883\n",
       "2014-12-01  4727.350098\n",
       "2014-12-02  4755.810059\n",
       "2014-12-03  4774.470215\n",
       "2014-12-04  4769.439941\n",
       "2014-12-05  4780.759766\n",
       "2014-12-08  4740.689941\n",
       "2014-12-09  4766.470215\n",
       "2014-12-10  4684.020020\n",
       "2014-12-11  4708.160156"
      ]
     },
     "execution_count": 195,
     "metadata": {},
     "output_type": "execute_result"
    }
   ],
   "source": [
    "# We have a look at the first few rows of the data\n",
    "data.head(10)\n"
   ]
  },
  {
   "cell_type": "markdown",
   "id": "f499d391",
   "metadata": {},
   "source": [
    "### Data Plot"
   ]
  },
  {
   "cell_type": "code",
   "execution_count": 81,
   "id": "48e3d132",
   "metadata": {},
   "outputs": [
    {
     "data": {
      "text/plain": [
       "<AxesSubplot:title={'center':'Plot of NASDAQ Composite Adj Close data from 2014 to 2018'}, xlabel='Date'>"
      ]
     },
     "execution_count": 81,
     "metadata": {},
     "output_type": "execute_result"
    },
    {
     "data": {
      "image/png": "[encoded data removed]",
      "text/plain": [
       "<Figure size 432x288 with 1 Axes>"
      ]
     },
     "metadata": {
      "needs_background": "light"
     },
     "output_type": "display_data"
    }
   ],
   "source": [
    "# let us plot our data\n",
    "data.plot(title='Plot of NASDAQ Composite Adj Close data from 2014 to 2018')\n"
   ]
  },
  {
   "cell_type": "markdown",
   "id": "70287966",
   "metadata": {},
   "source": [
    "### Ensuring no missing values"
   ]
  },
  {
   "cell_type": "code",
   "execution_count": 82,
   "id": "3de670dc",
   "metadata": {},
   "outputs": [
    {
     "name": "stdout",
     "output_type": "stream",
     "text": [
      "Our data contains 1007 rows\n",
      "Our data contains 0 missing values\n"
     ]
    }
   ],
   "source": [
    "print(f\"Our data contains {data.shape[0]} rows\")\n",
    "print(f\"Our data contains {data.isna().sum()[-1]} missing values\")\n"
   ]
  },
  {
   "cell_type": "markdown",
   "id": "80058dd4",
   "metadata": {},
   "source": [
    "### Printing the range of data from 3 standard deviations"
   ]
  },
  {
   "cell_type": "code",
   "execution_count": 83,
   "id": "b477cef1",
   "metadata": {},
   "outputs": [
    {
     "name": "stdout",
     "output_type": "stream",
     "text": [
      "Range is:(2629.3083363129717, 9068.25482699984)\n"
     ]
    }
   ],
   "source": [
    "print(f\"Range is:({data.mean()[-1] - 3*data.std()[-1]}, {data.mean()[-1] + 3*data.std()[-1]})\")\n"
   ]
  },
  {
   "cell_type": "markdown",
   "id": "b69e813b",
   "metadata": {},
   "source": [
    "### Capping data on above mentioned range"
   ]
  },
  {
   "cell_type": "code",
   "execution_count": 84,
   "id": "f31ed1b7",
   "metadata": {},
   "outputs": [],
   "source": [
    "lim_sup = data.mean()[-1] + 3*data.std()[-1]\n",
    "lim_inf = data.mean()[-1] - 3*data.std()[-1]\n",
    "\n",
    "# capping on lim_sup\n",
    "temp_copy = data[\"Adj Close\"].copy()\n",
    "data[\"Adj Close\"] = np.where(temp_copy > lim_sup, lim_sup, temp_copy)\n",
    "\n",
    "# capping on lim_inf\n",
    "temp_copy = data[\"Adj Close\"].copy()\n",
    "data[\"Adj Close\"] = np.where(temp_copy < lim_inf, lim_inf, temp_copy)\n"
   ]
  },
  {
   "cell_type": "markdown",
   "id": "40191732",
   "metadata": {},
   "source": [
    "### Plotting the capped data"
   ]
  },
  {
   "cell_type": "code",
   "execution_count": 85,
   "id": "eaa53cea",
   "metadata": {},
   "outputs": [
    {
     "data": {
      "text/plain": [
       "<AxesSubplot:title={'center':'Plot of NASDAQ Composite Adj Close data from 2014 to 2018\\nAfter Outlier Capping'}, xlabel='Date'>"
      ]
     },
     "execution_count": 85,
     "metadata": {},
     "output_type": "execute_result"
    },
    {
     "data": {
      "image/png": "[encoded data removed]",
      "text/plain": [
       "<Figure size 432x288 with 1 Axes>"
      ]
     },
     "metadata": {
      "needs_background": "light"
     },
     "output_type": "display_data"
    }
   ],
   "source": [
    "# let us plot our data\n",
    "data.plot(title='Plot of NASDAQ Composite Adj Close data from 2014 to 2018\\nAfter Outlier Capping')\n"
   ]
  },
  {
   "cell_type": "markdown",
   "id": "1ff09192",
   "metadata": {},
   "source": [
    "### Descriptive Statistics of the data"
   ]
  },
  {
   "cell_type": "code",
   "execution_count": 86,
   "id": "23f7a39a",
   "metadata": {},
   "outputs": [
    {
     "data": {
      "text/html": [
       "<div>\n",
       "<style scoped>\n",
       "    .dataframe tbody tr th:only-of-type {\n",
       "        vertical-align: middle;\n",
       "    }\n",
       "\n",
       "    .dataframe tbody tr th {\n",
       "        vertical-align: top;\n",
       "    }\n",
       "\n",
       "    .dataframe thead th {\n",
       "        text-align: right;\n",
       "    }\n",
       "</style>\n",
       "<table border=\"1\" class=\"dataframe\">\n",
       "  <thead>\n",
       "    <tr style=\"text-align: right;\">\n",
       "      <th></th>\n",
       "      <th>Adj Close</th>\n",
       "    </tr>\n",
       "  </thead>\n",
       "  <tbody>\n",
       "    <tr>\n",
       "      <th>count</th>\n",
       "      <td>1007.000000</td>\n",
       "    </tr>\n",
       "    <tr>\n",
       "      <th>mean</th>\n",
       "      <td>5848.781582</td>\n",
       "    </tr>\n",
       "    <tr>\n",
       "      <th>std</th>\n",
       "      <td>1073.157748</td>\n",
       "    </tr>\n",
       "    <tr>\n",
       "      <th>min</th>\n",
       "      <td>4266.839844</td>\n",
       "    </tr>\n",
       "    <tr>\n",
       "      <th>25%</th>\n",
       "      <td>4952.239990</td>\n",
       "    </tr>\n",
       "    <tr>\n",
       "      <th>50%</th>\n",
       "      <td>5339.520020</td>\n",
       "    </tr>\n",
       "    <tr>\n",
       "      <th>75%</th>\n",
       "      <td>6803.064942</td>\n",
       "    </tr>\n",
       "    <tr>\n",
       "      <th>max</th>\n",
       "      <td>8109.689941</td>\n",
       "    </tr>\n",
       "  </tbody>\n",
       "</table>\n",
       "</div>"
      ],
      "text/plain": [
       "         Adj Close\n",
       "count  1007.000000\n",
       "mean   5848.781582\n",
       "std    1073.157748\n",
       "min    4266.839844\n",
       "25%    4952.239990\n",
       "50%    5339.520020\n",
       "75%    6803.064942\n",
       "max    8109.689941"
      ]
     },
     "execution_count": 86,
     "metadata": {},
     "output_type": "execute_result"
    }
   ],
   "source": [
    "data.describe()\n"
   ]
  },
  {
   "cell_type": "markdown",
   "id": "a8327e4c",
   "metadata": {},
   "source": [
    "### How much data is in the IQR"
   ]
  },
  {
   "cell_type": "code",
   "execution_count": 87,
   "id": "4868cd2c",
   "metadata": {},
   "outputs": [
    {
     "name": "stdout",
     "output_type": "stream",
     "text": [
      "There is approx 89.37% of data in IQR range\n"
     ]
    }
   ],
   "source": [
    "# We find the IQR range here\n",
    "\n",
    "# iqr upper bound\n",
    "iqr_sup = data.mean()[-1] + (1.5)*data.std()[-1]\n",
    "\n",
    "# iqr lower bound\n",
    "iqr_inf = data.mean()[-1] - (1.5)*data.std()[-1]\n",
    "\n",
    "# no. of values in irq range\n",
    "count = data['Adj Close'].between(iqr_inf, iqr_sup).sum()\n",
    "\n",
    "print(f\"There is approx {round(count/data.shape[0]*100,2)}% of data in IQR range\")\n"
   ]
  },
  {
   "cell_type": "markdown",
   "id": "8119b132",
   "metadata": {},
   "source": [
    "### Split data"
   ]
  },
  {
   "cell_type": "code",
   "execution_count": 88,
   "id": "d584f6b7",
   "metadata": {},
   "outputs": [
    {
     "name": "stdout",
     "output_type": "stream",
     "text": [
      "<class 'pandas.core.frame.DataFrame'>\n",
      "DatetimeIndex: 1007 entries, 2014-11-28 to 2018-11-27\n",
      "Data columns (total 1 columns):\n",
      " #   Column     Non-Null Count  Dtype  \n",
      "---  ------     --------------  -----  \n",
      " 0   Adj Close  1007 non-null   float64\n",
      "dtypes: float64(1)\n",
      "memory usage: 15.7 KB\n"
     ]
    }
   ],
   "source": [
    "# we look at a description of the data\n",
    "data.info()\n"
   ]
  },
  {
   "cell_type": "code",
   "execution_count": 89,
   "id": "df9288a6",
   "metadata": {},
   "outputs": [],
   "source": [
    "# This data will be used for testing our forecasting\n",
    "test_data = data[-7:]\n",
    "\n",
    "# This data will be used for building our ARIMA model\n",
    "model_data = data[:-7]\n"
   ]
  },
  {
   "cell_type": "markdown",
   "id": "f82ae670",
   "metadata": {},
   "source": [
    "## Using Stationary Data\n",
    "\n",
    "### Calculating returns of the data"
   ]
  },
  {
   "cell_type": "code",
   "execution_count": 94,
   "id": "0634a269",
   "metadata": {},
   "outputs": [],
   "source": [
    "### returns of our financial data\n",
    "def returns(data):\n",
    "    # transforming values and then taking first difference\n",
    "    return np.log(data).diff()[1:]\n"
   ]
  },
  {
   "cell_type": "code",
   "execution_count": 95,
   "id": "28a6e162",
   "metadata": {},
   "outputs": [],
   "source": [
    "r_model_data = returns(model_data)\n"
   ]
  },
  {
   "cell_type": "markdown",
   "id": "c29beaf7",
   "metadata": {},
   "source": [
    "### Plotting returns data"
   ]
  },
  {
   "cell_type": "code",
   "execution_count": 96,
   "id": "57087a2a",
   "metadata": {},
   "outputs": [
    {
     "data": {
      "text/plain": [
       "<AxesSubplot:title={'center':'Plot of NASDAQ Composite Adj Close data from 2014 to 2018\\n On Model Returns Data After Outlier Capping'}, xlabel='Date'>"
      ]
     },
     "execution_count": 96,
     "metadata": {},
     "output_type": "execute_result"
    },
    {
     "data": {
      "image/png": "[encoded data removed]",
      "text/plain": [
       "<Figure size 432x288 with 1 Axes>"
      ]
     },
     "metadata": {
      "needs_background": "light"
     },
     "output_type": "display_data"
    }
   ],
   "source": [
    "# let us plot our data\n",
    "r_model_data.plot(title='Plot of NASDAQ Composite Adj Close data from 2014 to 2018\\n \\\n",
    "On Model Returns Data After Outlier Capping')\n"
   ]
  },
  {
   "cell_type": "markdown",
   "id": "6e28dd36",
   "metadata": {},
   "source": [
    "### Stationarity Check"
   ]
  },
  {
   "cell_type": "code",
   "execution_count": 97,
   "id": "b16f6e9c",
   "metadata": {},
   "outputs": [],
   "source": [
    "def station_check(entries, pvalue=0.05):\n",
    "    pp = stat_tests.PhillipsPerron(entries)\n",
    "    adf = stat_tests.ADF(entries)\n",
    "    kpss = stat_tests.KPSS(entries)\n",
    "    # (calculated_pvalue < provided_pvalue) --> reject null\n",
    "    pp_res, adf_res, kpss_res = pp.pvalue < pvalue, adf.pvalue < pvalue, kpss.pvalue < pvalue\n",
    "    print(f\"\"\"Stationary Checks:\n",
    "(True = Test suggests data is stationary. False = Test suggests data is *not* stationary)\n",
    "    - pp   verdict: {pp_res == True}\n",
    "    - adf  verdict: {adf_res == True}\n",
    "    - kpss verdict: {kpss_res == False} \n",
    "    \"\"\")\n",
    "# kpss has a different null that's why '== False' for kpss\n"
   ]
  },
  {
   "cell_type": "code",
   "execution_count": 419,
   "id": "c90d2487",
   "metadata": {},
   "outputs": [
    {
     "name": "stdout",
     "output_type": "stream",
     "text": [
      "Stationary Checks:\n",
      "(True = Test suggests data is stationary. False = Test suggests data is *not* stationary)\n",
      "    - pp   verdict: False\n",
      "    - adf  verdict: False\n",
      "    - kpss verdict: False \n",
      "    \n"
     ]
    }
   ],
   "source": [
    "## Checking stationarity on un-transformed data\n",
    "station_check(model_data)\n"
   ]
  },
  {
   "cell_type": "code",
   "execution_count": 98,
   "id": "ea97f93b",
   "metadata": {},
   "outputs": [
    {
     "name": "stdout",
     "output_type": "stream",
     "text": [
      "Stationary Checks:\n",
      "(True = Test suggests data is stationary. False = Test suggests data is *not* stationary)\n",
      "    - pp   verdict: True\n",
      "    - adf  verdict: True\n",
      "    - kpss verdict: True \n",
      "    \n"
     ]
    }
   ],
   "source": [
    "## Checking stationarity on returns data\n",
    "station_check(r_model_data)\n"
   ]
  },
  {
   "cell_type": "markdown",
   "id": "a787de1d",
   "metadata": {},
   "source": [
    "## Fitting Model\n",
    "Instead of fitting ARMA(p,q) on returns data,  \n",
    "we fit ARIMA(p,1,q) on log of the data,  \n",
    "both of the models are essentially the same"
   ]
  },
  {
   "cell_type": "code",
   "execution_count": 217,
   "id": "e1ae88f8",
   "metadata": {},
   "outputs": [],
   "source": [
    "## We take the log of the untransformed data and store in the variable log_model_data\n",
    "log_model_data = np.log(model_data)"
   ]
  },
  {
   "cell_type": "code",
   "execution_count": 218,
   "id": "9eaa060c",
   "metadata": {},
   "outputs": [
    {
     "name": "stdout",
     "output_type": "stream",
     "text": [
      "1. Setup: Basic Variables Set\n",
      "\n",
      "2. Processing: Scores Calculation Done\n",
      "\n",
      "\n",
      "3. Outputs:\n",
      "Best index as per aic:[[0 8]], score: -6395.178\n",
      "\n",
      "Best index as per bic:[[0 1]\n",
      " [1 0]], score: -6383.383\n",
      "Wall time: 5min 43s\n"
     ]
    }
   ],
   "source": [
    "%%time\n",
    "\n",
    "p_lim = 15\n",
    "q_lim = 15\n",
    "p_range = [i for i in range(p_lim+1)]\n",
    "q_range = [i for i in range(q_lim+1)]\n",
    "aic_matrix = [[None for _ in range(p_lim+1)] for __ in range(q_lim+1)]\n",
    "bic_matrix = [[None for _ in range(p_lim+1)] for __ in range(q_lim+1)]\n",
    "print(\"1. Setup: Basic Variables Set\")\n",
    "\n",
    "for p in p_range:\n",
    "    for q in q_range:\n",
    "        if p == 0 and q == 0:\n",
    "            # arma(0,0) set to a high number (basically no prediction)\n",
    "            aic_matrix[q][p] = 9999\n",
    "            bic_matrix[q][p] = 9999\n",
    "        else:\n",
    "            # initializing arma(p,q) model\n",
    "            \n",
    "            ######################################################\n",
    "            ## IMPORTANT: (p,1,q) does the first difference\n",
    "            ##             in-built\n",
    "            model = ARIMA(log_model_data, order=(p,1,q)) \n",
    "            ######################################################\n",
    "            \n",
    "            # fitting model to data\n",
    "            results = model.fit()\n",
    "            \n",
    "            # recording the calculated aic and bic scores\n",
    "            aic_matrix[q][p] = round(results.aic,3) # Imp: we set it as (q,p) not the usual (p,q)\n",
    "            bic_matrix[q][p] = round(results.bic,3) # Imp: we set it as (q,p) not the usual (p,q)\n",
    "print(\"\\n2. Processing: Scores Calculation Done\")  \n",
    "\n",
    "# converting to numpy array for better computations\n",
    "aic_matrix = np.array(aic_matrix)\n",
    "bic_matrix = np.array(bic_matrix)\n",
    "\n",
    "# Printing the best results\n",
    "print(\"\\n\\n3. Outputs:\")\n",
    "print(f\"Best index as per aic:{np.argwhere(aic_matrix == np.min(aic_matrix))}, score: {np.min(aic_matrix)}\")\n",
    "print(f\"\\nBest index as per bic:{np.argwhere(bic_matrix == np.min(bic_matrix))}, score: {np.min(bic_matrix)}\")\n",
    "best_tuples = list(np.argwhere(aic_matrix == np.min(aic_matrix)))\n",
    "temp = list(np.argwhere(bic_matrix == np.min(bic_matrix)))\n",
    "best_tuples.extend(temp)\n"
   ]
  },
  {
   "cell_type": "markdown",
   "id": "02962ae6",
   "metadata": {},
   "source": [
    "### Deciding which p,q to pick\n",
    "From calculating the minimum values, we have 3 optins to pick.  \n",
    "We will pick the one with the least MSE on train_data"
   ]
  },
  {
   "cell_type": "code",
   "execution_count": null,
   "id": "64eac377",
   "metadata": {},
   "outputs": [],
   "source": [
    "## OPTIONS WE HAVE:\n",
    "## (q,p) = (0, 8)\n",
    "## (q,p) = (0, 1)\n",
    "## (q,p) = (1 ,0)\n",
    "## i.e. (p,q) options are (8,0), (1,0), (0,1)"
   ]
  },
  {
   "cell_type": "code",
   "execution_count": 226,
   "id": "2dd59a75",
   "metadata": {},
   "outputs": [],
   "source": [
    "def mse_arma_cal(p,q, model_data=log_model_data.copy(), test_data=test_data.copy()):\n",
    "    \n",
    "    ### note: we take first difference, as shown below\n",
    "    model = ARIMA(log_model_data, order=(p,1,q))\n",
    "    \n",
    "    results = model.fit()\n",
    "    \n",
    "    # prediction from:\n",
    "    start_pred = r_model_data.shape[0]\n",
    "    end_pred = start_pred + test_data.shape[0] -1\n",
    "    \n",
    "    forecasts = results.predict(start=start_pred, end=end_pred)\n",
    "    # remove the log\n",
    "    predicted_values = np.exp(forecasts)\n",
    "    \n",
    "    # calculate mse\n",
    "    total_predicted_points = test_data.shape[0] \n",
    "    predicted_values.index = [x for x in range(total_predicted_points)]\n",
    "    test_data.index = [x for x in range(total_predicted_points)]\n",
    "    mse = np.mean( (predicted_values - test_data['Adj Close'])**2 )\n",
    "    \n",
    "    return mse\n"
   ]
  },
  {
   "cell_type": "code",
   "execution_count": 420,
   "id": "a4e8bd8f",
   "metadata": {},
   "outputs": [
    {
     "data": {
      "text/plain": [
       "[array([1, 2], dtype=int64), array([1, 1], dtype=int64)]"
      ]
     },
     "execution_count": 420,
     "metadata": {},
     "output_type": "execute_result"
    }
   ],
   "source": [
    "best_tuples"
   ]
  },
  {
   "cell_type": "code",
   "execution_count": 227,
   "id": "4e139956",
   "metadata": {
    "scrolled": true
   },
   "outputs": [
    {
     "name": "stdout",
     "output_type": "stream",
     "text": [
      "ARMA(8,0) gives MSE: 66312.37946645282\n",
      "ARMA(0,1) gives MSE: 62050.57239113515\n",
      "ARMA(1,0) gives MSE: 61991.30819082364\n"
     ]
    }
   ],
   "source": [
    "\n",
    "for q,p in best_tuples:\n",
    "    print(f\"ARMA({p},{q}) gives MSE: {mse_arma_cal(p,q)}\")\n"
   ]
  },
  {
   "cell_type": "markdown",
   "id": "f0d95825",
   "metadata": {},
   "source": [
    "### Building the chosen model\n",
    "Arma(1,0) gives the lowest mse, so we pick Arma(1,0) itself."
   ]
  },
  {
   "cell_type": "code",
   "execution_count": 232,
   "id": "5c6e4d39",
   "metadata": {},
   "outputs": [],
   "source": [
    "# ARMA(1,0) on returns = ARIMA(1,1,0) on log-prices\n",
    "chosen_model = ARIMA(log_model_data, order=(1,1,0)).fit()\n"
   ]
  },
  {
   "cell_type": "code",
   "execution_count": 233,
   "id": "28ddc3f7",
   "metadata": {},
   "outputs": [
    {
     "data": {
      "text/html": [
       "<table class=\"simpletable\">\n",
       "<caption>SARIMAX Results</caption>\n",
       "<tr>\n",
       "  <th>Dep. Variable:</th>       <td>Adj Close</td>    <th>  No. Observations:  </th>   <td>1000</td>   \n",
       "</tr>\n",
       "<tr>\n",
       "  <th>Model:</th>            <td>ARIMA(1, 1, 0)</td>  <th>  Log Likelihood     </th> <td>3198.598</td> \n",
       "</tr>\n",
       "<tr>\n",
       "  <th>Date:</th>            <td>Sun, 28 Nov 2021</td> <th>  AIC                </th> <td>-6393.197</td>\n",
       "</tr>\n",
       "<tr>\n",
       "  <th>Time:</th>                <td>18:54:09</td>     <th>  BIC                </th> <td>-6383.383</td>\n",
       "</tr>\n",
       "<tr>\n",
       "  <th>Sample:</th>                  <td>0</td>        <th>  HQIC               </th> <td>-6389.467</td>\n",
       "</tr>\n",
       "<tr>\n",
       "  <th></th>                      <td> - 1000</td>     <th>                     </th>     <td> </td>    \n",
       "</tr>\n",
       "<tr>\n",
       "  <th>Covariance Type:</th>        <td>opg</td>       <th>                     </th>     <td> </td>    \n",
       "</tr>\n",
       "</table>\n",
       "<table class=\"simpletable\">\n",
       "<tr>\n",
       "     <td></td>       <th>coef</th>     <th>std err</th>      <th>z</th>      <th>P>|z|</th>  <th>[0.025</th>    <th>0.975]</th>  \n",
       "</tr>\n",
       "<tr>\n",
       "  <th>ar.L1</th>  <td>   -0.0037</td> <td>    0.022</td> <td>   -0.171</td> <td> 0.864</td> <td>   -0.046</td> <td>    0.039</td>\n",
       "</tr>\n",
       "<tr>\n",
       "  <th>sigma2</th> <td> 9.685e-05</td> <td> 2.86e-06</td> <td>   33.878</td> <td> 0.000</td> <td> 9.12e-05</td> <td>    0.000</td>\n",
       "</tr>\n",
       "</table>\n",
       "<table class=\"simpletable\">\n",
       "<tr>\n",
       "  <th>Ljung-Box (L1) (Q):</th>     <td>0.00</td> <th>  Jarque-Bera (JB):  </th> <td>368.92</td>\n",
       "</tr>\n",
       "<tr>\n",
       "  <th>Prob(Q):</th>                <td>0.95</td> <th>  Prob(JB):          </th>  <td>0.00</td> \n",
       "</tr>\n",
       "<tr>\n",
       "  <th>Heteroskedasticity (H):</th> <td>0.83</td> <th>  Skew:              </th>  <td>-0.60</td>\n",
       "</tr>\n",
       "<tr>\n",
       "  <th>Prob(H) (two-sided):</th>    <td>0.09</td> <th>  Kurtosis:          </th>  <td>5.72</td> \n",
       "</tr>\n",
       "</table><br/><br/>Warnings:<br/>[1] Covariance matrix calculated using the outer product of gradients (complex-step)."
      ],
      "text/plain": [
       "<class 'statsmodels.iolib.summary.Summary'>\n",
       "\"\"\"\n",
       "                               SARIMAX Results                                \n",
       "==============================================================================\n",
       "Dep. Variable:              Adj Close   No. Observations:                 1000\n",
       "Model:                 ARIMA(1, 1, 0)   Log Likelihood                3198.598\n",
       "Date:                Sun, 28 Nov 2021   AIC                          -6393.197\n",
       "Time:                        18:54:09   BIC                          -6383.383\n",
       "Sample:                             0   HQIC                         -6389.467\n",
       "                               - 1000                                         \n",
       "Covariance Type:                  opg                                         \n",
       "==============================================================================\n",
       "                 coef    std err          z      P>|z|      [0.025      0.975]\n",
       "------------------------------------------------------------------------------\n",
       "ar.L1         -0.0037      0.022     -0.171      0.864      -0.046       0.039\n",
       "sigma2      9.685e-05   2.86e-06     33.878      0.000    9.12e-05       0.000\n",
       "===================================================================================\n",
       "Ljung-Box (L1) (Q):                   0.00   Jarque-Bera (JB):               368.92\n",
       "Prob(Q):                              0.95   Prob(JB):                         0.00\n",
       "Heteroskedasticity (H):               0.83   Skew:                            -0.60\n",
       "Prob(H) (two-sided):                  0.09   Kurtosis:                         5.72\n",
       "===================================================================================\n",
       "\n",
       "Warnings:\n",
       "[1] Covariance matrix calculated using the outer product of gradients (complex-step).\n",
       "\"\"\""
      ]
     },
     "execution_count": 233,
     "metadata": {},
     "output_type": "execute_result"
    }
   ],
   "source": [
    "chosen_model.summary()\n"
   ]
  },
  {
   "cell_type": "markdown",
   "id": "557e7b53",
   "metadata": {},
   "source": [
    "## Predictions for ARMA"
   ]
  },
  {
   "cell_type": "code",
   "execution_count": 239,
   "id": "0599d808",
   "metadata": {},
   "outputs": [],
   "source": [
    "predictions = np.exp(chosen_model.predict(start=0,end=model_data.shape[0]-1))\n",
    "predictions.index = model_data.index"
   ]
  },
  {
   "cell_type": "code",
   "execution_count": 240,
   "id": "8988e6b6",
   "metadata": {},
   "outputs": [
    {
     "data": {
      "text/plain": [
       "Date\n",
       "2014-11-28       1.000000\n",
       "2014-12-01    4791.629883\n",
       "2014-12-02    4727.584778\n",
       "2014-12-03    4755.705139\n",
       "2014-12-04    4774.401494\n",
       "                 ...     \n",
       "2018-11-09    7531.026044\n",
       "2018-11-12    7407.351843\n",
       "2018-11-13    7201.616805\n",
       "2018-11-14    7200.870117\n",
       "2018-11-15    7136.626078\n",
       "Name: predicted_mean, Length: 1000, dtype: float64"
      ]
     },
     "execution_count": 240,
     "metadata": {},
     "output_type": "execute_result"
    }
   ],
   "source": [
    "predictions"
   ]
  },
  {
   "cell_type": "code",
   "execution_count": 285,
   "id": "ab5737a6",
   "metadata": {},
   "outputs": [],
   "source": [
    "ARIMA_predictions = np.exp(chosen_model.predict(start=model_data.shape[0], end=model_data.shape[0]+6))\n",
    "ARIMA_predictions.index = test_data.index"
   ]
  },
  {
   "cell_type": "code",
   "execution_count": 286,
   "id": "18e2a69a",
   "metadata": {},
   "outputs": [
    {
     "data": {
      "text/plain": [
       "Date\n",
       "2018-11-16    7258.575175\n",
       "2018-11-19    7258.576846\n",
       "2018-11-20    7258.576840\n",
       "2018-11-21    7258.576840\n",
       "2018-11-23    7258.576840\n",
       "2018-11-26    7258.576840\n",
       "2018-11-27    7258.576840\n",
       "Name: predicted_mean, dtype: float64"
      ]
     },
     "execution_count": 286,
     "metadata": {},
     "output_type": "execute_result"
    }
   ],
   "source": [
    "ARIMA_predictions"
   ]
  },
  {
   "cell_type": "code",
   "execution_count": 234,
   "id": "ef428725",
   "metadata": {},
   "outputs": [
    {
     "data": {
      "text/html": [
       "<div>\n",
       "<style scoped>\n",
       "    .dataframe tbody tr th:only-of-type {\n",
       "        vertical-align: middle;\n",
       "    }\n",
       "\n",
       "    .dataframe tbody tr th {\n",
       "        vertical-align: top;\n",
       "    }\n",
       "\n",
       "    .dataframe thead th {\n",
       "        text-align: right;\n",
       "    }\n",
       "</style>\n",
       "<table border=\"1\" class=\"dataframe\">\n",
       "  <thead>\n",
       "    <tr style=\"text-align: right;\">\n",
       "      <th></th>\n",
       "      <th>Adj Close</th>\n",
       "    </tr>\n",
       "    <tr>\n",
       "      <th>Date</th>\n",
       "      <th></th>\n",
       "    </tr>\n",
       "  </thead>\n",
       "  <tbody>\n",
       "    <tr>\n",
       "      <th>2018-11-16</th>\n",
       "      <td>7247.870117</td>\n",
       "    </tr>\n",
       "    <tr>\n",
       "      <th>2018-11-19</th>\n",
       "      <td>7028.479980</td>\n",
       "    </tr>\n",
       "    <tr>\n",
       "      <th>2018-11-20</th>\n",
       "      <td>6908.819824</td>\n",
       "    </tr>\n",
       "    <tr>\n",
       "      <th>2018-11-21</th>\n",
       "      <td>6972.250000</td>\n",
       "    </tr>\n",
       "    <tr>\n",
       "      <th>2018-11-23</th>\n",
       "      <td>6938.979980</td>\n",
       "    </tr>\n",
       "    <tr>\n",
       "      <th>2018-11-26</th>\n",
       "      <td>7081.850098</td>\n",
       "    </tr>\n",
       "    <tr>\n",
       "      <th>2018-11-27</th>\n",
       "      <td>7082.700195</td>\n",
       "    </tr>\n",
       "  </tbody>\n",
       "</table>\n",
       "</div>"
      ],
      "text/plain": [
       "              Adj Close\n",
       "Date                   \n",
       "2018-11-16  7247.870117\n",
       "2018-11-19  7028.479980\n",
       "2018-11-20  6908.819824\n",
       "2018-11-21  6972.250000\n",
       "2018-11-23  6938.979980\n",
       "2018-11-26  7081.850098\n",
       "2018-11-27  7082.700195"
      ]
     },
     "execution_count": 234,
     "metadata": {},
     "output_type": "execute_result"
    }
   ],
   "source": [
    "test_data"
   ]
  },
  {
   "cell_type": "code",
   "execution_count": null,
   "id": "a3a8761c",
   "metadata": {},
   "outputs": [],
   "source": []
  },
  {
   "cell_type": "code",
   "execution_count": 180,
   "id": "045e5a12",
   "metadata": {},
   "outputs": [
    {
     "data": {
      "text/html": [
       "<div>\n",
       "<style scoped>\n",
       "    .dataframe tbody tr th:only-of-type {\n",
       "        vertical-align: middle;\n",
       "    }\n",
       "\n",
       "    .dataframe tbody tr th {\n",
       "        vertical-align: top;\n",
       "    }\n",
       "\n",
       "    .dataframe thead th {\n",
       "        text-align: right;\n",
       "    }\n",
       "</style>\n",
       "<table border=\"1\" class=\"dataframe\">\n",
       "  <thead>\n",
       "    <tr style=\"text-align: right;\">\n",
       "      <th></th>\n",
       "      <th>Adj Close</th>\n",
       "    </tr>\n",
       "    <tr>\n",
       "      <th>Date</th>\n",
       "      <th></th>\n",
       "    </tr>\n",
       "  </thead>\n",
       "  <tbody>\n",
       "    <tr>\n",
       "      <th>2014-11-28</th>\n",
       "      <td>4791.629883</td>\n",
       "    </tr>\n",
       "    <tr>\n",
       "      <th>2014-12-01</th>\n",
       "      <td>4727.350098</td>\n",
       "    </tr>\n",
       "    <tr>\n",
       "      <th>2014-12-02</th>\n",
       "      <td>4755.810059</td>\n",
       "    </tr>\n",
       "    <tr>\n",
       "      <th>2014-12-03</th>\n",
       "      <td>4774.470215</td>\n",
       "    </tr>\n",
       "    <tr>\n",
       "      <th>2014-12-04</th>\n",
       "      <td>4769.439941</td>\n",
       "    </tr>\n",
       "    <tr>\n",
       "      <th>...</th>\n",
       "      <td>...</td>\n",
       "    </tr>\n",
       "    <tr>\n",
       "      <th>2018-11-09</th>\n",
       "      <td>7406.899902</td>\n",
       "    </tr>\n",
       "    <tr>\n",
       "      <th>2018-11-12</th>\n",
       "      <td>7200.870117</td>\n",
       "    </tr>\n",
       "    <tr>\n",
       "      <th>2018-11-13</th>\n",
       "      <td>7200.870117</td>\n",
       "    </tr>\n",
       "    <tr>\n",
       "      <th>2018-11-14</th>\n",
       "      <td>7136.390137</td>\n",
       "    </tr>\n",
       "    <tr>\n",
       "      <th>2018-11-15</th>\n",
       "      <td>7259.029785</td>\n",
       "    </tr>\n",
       "  </tbody>\n",
       "</table>\n",
       "<p>1000 rows × 1 columns</p>\n",
       "</div>"
      ],
      "text/plain": [
       "              Adj Close\n",
       "Date                   \n",
       "2014-11-28  4791.629883\n",
       "2014-12-01  4727.350098\n",
       "2014-12-02  4755.810059\n",
       "2014-12-03  4774.470215\n",
       "2014-12-04  4769.439941\n",
       "...                 ...\n",
       "2018-11-09  7406.899902\n",
       "2018-11-12  7200.870117\n",
       "2018-11-13  7200.870117\n",
       "2018-11-14  7136.390137\n",
       "2018-11-15  7259.029785\n",
       "\n",
       "[1000 rows x 1 columns]"
      ]
     },
     "execution_count": 180,
     "metadata": {},
     "output_type": "execute_result"
    }
   ],
   "source": [
    "model_data\n"
   ]
  },
  {
   "cell_type": "code",
   "execution_count": 287,
   "id": "62ad5209",
   "metadata": {},
   "outputs": [
    {
     "data": {
      "text/plain": [
       "''"
      ]
     },
     "execution_count": 287,
     "metadata": {},
     "output_type": "execute_result"
    },
    {
     "data": {
      "image/png": "[encoded data removed]",
      "text/plain": [
       "<Figure size 432x288 with 1 Axes>"
      ]
     },
     "metadata": {
      "needs_background": "light"
     },
     "output_type": "display_data"
    }
   ],
   "source": [
    "plt.title(\"Predicted vs Actual values\\nOn Seen Data\")\n",
    "plt.plot(model_data[1:],label=\"Actual\")\n",
    "plt.plot(predictions[1:],label=\"Predicted\")\n",
    "plt.legend()\n",
    "plt.xticks(rotation=90)\n",
    ";"
   ]
  },
  {
   "cell_type": "code",
   "execution_count": 289,
   "id": "32e63534",
   "metadata": {},
   "outputs": [
    {
     "data": {
      "image/png": "[encoded data removed]",
      "text/plain": [
       "<Figure size 432x288 with 1 Axes>"
      ]
     },
     "metadata": {
      "needs_background": "light"
     },
     "output_type": "display_data"
    }
   ],
   "source": [
    "plt.plot(model_data[1:],label=\"Actual\")\n",
    "plt.title(\"Actual Seen Data\")\n",
    "plt.xticks(rotation=90);"
   ]
  },
  {
   "cell_type": "code",
   "execution_count": 291,
   "id": "f15da45e",
   "metadata": {},
   "outputs": [
    {
     "data": {
      "image/png": "[encoded data removed]",
      "text/plain": [
       "<Figure size 432x288 with 1 Axes>"
      ]
     },
     "metadata": {
      "needs_background": "light"
     },
     "output_type": "display_data"
    }
   ],
   "source": [
    "plt.plot(predictions[1:],label=\"Pred\", color='orange')\n",
    "plt.title(\"Predicted Seen Data\")\n",
    "plt.xticks(rotation=90);"
   ]
  },
  {
   "cell_type": "code",
   "execution_count": 294,
   "id": "3c78102d",
   "metadata": {},
   "outputs": [
    {
     "data": {
      "text/plain": [
       "Date\n",
       "2018-11-16    7258.575175\n",
       "2018-11-19    7258.576846\n",
       "2018-11-20    7258.576840\n",
       "2018-11-21    7258.576840\n",
       "2018-11-23    7258.576840\n",
       "2018-11-26    7258.576840\n",
       "2018-11-27    7258.576840\n",
       "Name: predicted_mean, dtype: float64"
      ]
     },
     "execution_count": 294,
     "metadata": {},
     "output_type": "execute_result"
    }
   ],
   "source": [
    "ARIMA_predictions"
   ]
  },
  {
   "cell_type": "code",
   "execution_count": 295,
   "id": "4cdf8062",
   "metadata": {},
   "outputs": [
    {
     "data": {
      "text/plain": [
       "''"
      ]
     },
     "execution_count": 295,
     "metadata": {},
     "output_type": "execute_result"
    },
    {
     "data": {
      "image/png": "[encoded data removed]",
      "text/plain": [
       "<Figure size 432x288 with 1 Axes>"
      ]
     },
     "metadata": {
      "needs_background": "light"
     },
     "output_type": "display_data"
    }
   ],
   "source": [
    "plt.title(\"Predicted vs Actual values\\nOn Test Data\")\n",
    "plt.plot(test_data,label=\"Actual Test Data\")\n",
    "plt.plot(ARIMA_predictions,label=\"Predicted Test Data\")\n",
    "plt.legend()\n",
    "plt.xticks(rotation=90)\n",
    ";"
   ]
  },
  {
   "cell_type": "markdown",
   "id": "882ba2f9",
   "metadata": {},
   "source": [
    "# Procedure 1\n",
    "## Calculating Ljung Box test statistic"
   ]
  },
  {
   "cell_type": "code",
   "execution_count": 331,
   "id": "25b1e10c",
   "metadata": {},
   "outputs": [
    {
     "name": "stdout",
     "output_type": "stream",
     "text": [
      "For the Ljung-Box test\n",
      "We shall take lag as approx. 7\n"
     ]
    }
   ],
   "source": [
    "\n",
    "\n",
    "# Ljung - Box test is the function\n",
    "# sm.stats.acorr_ljungbox\n",
    "taken_lag = round(np.log(model_data.shape[0]))\n",
    "print(\"For the Ljung-Box test\")\n",
    "print(f\"We shall take lag as approx. {taken_lag}\")\n"
   ]
  },
  {
   "cell_type": "code",
   "execution_count": 332,
   "id": "d11dc9b8",
   "metadata": {},
   "outputs": [
    {
     "data": {
      "text/plain": [
       "Date\n",
       "2014-11-28    8.474626\n",
       "2014-12-01   -0.013506\n",
       "2014-12-02    0.005953\n",
       "2014-12-03    0.003938\n",
       "2014-12-04   -0.001040\n",
       "                ...   \n",
       "2018-11-09   -0.016619\n",
       "2018-11-12   -0.028271\n",
       "2018-11-13   -0.000104\n",
       "2018-11-14   -0.008995\n",
       "2018-11-15    0.017006\n",
       "Length: 1000, dtype: float64"
      ]
     },
     "execution_count": 332,
     "metadata": {},
     "output_type": "execute_result"
    }
   ],
   "source": [
    "chosen_model.resid"
   ]
  },
  {
   "cell_type": "code",
   "execution_count": 338,
   "id": "740172f6",
   "metadata": {},
   "outputs": [
    {
     "data": {
      "text/html": [
       "<div>\n",
       "<style scoped>\n",
       "    .dataframe tbody tr th:only-of-type {\n",
       "        vertical-align: middle;\n",
       "    }\n",
       "\n",
       "    .dataframe tbody tr th {\n",
       "        vertical-align: top;\n",
       "    }\n",
       "\n",
       "    .dataframe thead th {\n",
       "        text-align: right;\n",
       "    }\n",
       "</style>\n",
       "<table border=\"1\" class=\"dataframe\">\n",
       "  <thead>\n",
       "    <tr style=\"text-align: right;\">\n",
       "      <th></th>\n",
       "      <th>lb_stat</th>\n",
       "      <th>lb_pvalue</th>\n",
       "    </tr>\n",
       "  </thead>\n",
       "  <tbody>\n",
       "    <tr>\n",
       "      <th>7</th>\n",
       "      <td>5.121045</td>\n",
       "      <td>0.645194</td>\n",
       "    </tr>\n",
       "  </tbody>\n",
       "</table>\n",
       "</div>"
      ],
      "text/plain": [
       "    lb_stat  lb_pvalue\n",
       "7  5.121045   0.645194"
      ]
     },
     "execution_count": 338,
     "metadata": {},
     "output_type": "execute_result"
    }
   ],
   "source": [
    "# Ljung - Box test on residuals\n",
    "sm.stats.acorr_ljungbox(chosen_model.resid[1:], lags=[taken_lag])\n"
   ]
  },
  {
   "cell_type": "code",
   "execution_count": 339,
   "id": "23a15585",
   "metadata": {},
   "outputs": [
    {
     "data": {
      "text/html": [
       "<div>\n",
       "<style scoped>\n",
       "    .dataframe tbody tr th:only-of-type {\n",
       "        vertical-align: middle;\n",
       "    }\n",
       "\n",
       "    .dataframe tbody tr th {\n",
       "        vertical-align: top;\n",
       "    }\n",
       "\n",
       "    .dataframe thead th {\n",
       "        text-align: right;\n",
       "    }\n",
       "</style>\n",
       "<table border=\"1\" class=\"dataframe\">\n",
       "  <thead>\n",
       "    <tr style=\"text-align: right;\">\n",
       "      <th></th>\n",
       "      <th>lb_stat</th>\n",
       "      <th>lb_pvalue</th>\n",
       "    </tr>\n",
       "  </thead>\n",
       "  <tbody>\n",
       "    <tr>\n",
       "      <th>7</th>\n",
       "      <td>260.410446</td>\n",
       "      <td>1.682438e-52</td>\n",
       "    </tr>\n",
       "  </tbody>\n",
       "</table>\n",
       "</div>"
      ],
      "text/plain": [
       "      lb_stat     lb_pvalue\n",
       "7  260.410446  1.682438e-52"
      ]
     },
     "execution_count": 339,
     "metadata": {},
     "output_type": "execute_result"
    }
   ],
   "source": [
    "# jung - Box test on squared residuals\n",
    "sm.stats.acorr_ljungbox(chosen_model.resid[1:]**2, lags=[taken_lag])\n"
   ]
  },
  {
   "cell_type": "markdown",
   "id": "d51e8860",
   "metadata": {},
   "source": [
    "As per Ljung-Box, we reject null on the squared residual errors and  \n",
    "not-reject null for the usual residual errors"
   ]
  },
  {
   "cell_type": "markdown",
   "id": "08d845e9",
   "metadata": {},
   "source": [
    "## Finding GARCH"
   ]
  },
  {
   "cell_type": "code",
   "execution_count": 353,
   "id": "2c231c7b",
   "metadata": {},
   "outputs": [
    {
     "name": "stdout",
     "output_type": "stream",
     "text": [
      "Iteration:      1,   Func. Count:      5,   Neg. LLF: 783129500792.2668\n",
      "Iteration:      2,   Func. Count:     17,   Neg. LLF: 6310350016140.84\n",
      "Iteration:      3,   Func. Count:     31,   Neg. LLF: 55482465612.59042\n",
      "Iteration:      4,   Func. Count:     45,   Neg. LLF: 20048211493681.027\n",
      "Iteration:      5,   Func. Count:     59,   Neg. LLF: 58423840.105398424\n",
      "Iteration:      6,   Func. Count:     70,   Neg. LLF: 117684997.60084875\n",
      "Iteration:      7,   Func. Count:     81,   Neg. LLF: 26622068.13607467\n",
      "Iteration:      8,   Func. Count:     92,   Neg. LLF: -3197.7997033528536\n",
      "Optimization terminated successfully    (Exit mode 0)\n",
      "            Current function value: -3197.7997005514944\n",
      "            Iterations: 12\n",
      "            Function evaluations: 92\n",
      "            Gradient evaluations: 8\n",
      "Iteration:      1,   Func. Count:      6,   Neg. LLF: 1.2461464574822445e+17\n",
      "Iteration:      2,   Func. Count:     19,   Neg. LLF: 2016427826.8538053\n",
      "Iteration:      3,   Func. Count:     31,   Neg. LLF: 120888278499.23726\n",
      "Iteration:      4,   Func. Count:     43,   Neg. LLF: 56118799.913226955\n",
      "Optimization terminated successfully    (Exit mode 0)\n",
      "            Current function value: -3293.7075984793164\n",
      "            Iterations: 6\n",
      "            Function evaluations: 52\n",
      "            Gradient evaluations: 4\n",
      "Iteration:      1,   Func. Count:      7,   Neg. LLF: 182442534479.32184\n",
      "Iteration:      2,   Func. Count:     21,   Neg. LLF: -3198.579973645892\n",
      "Iteration:      3,   Func. Count:     28,   Neg. LLF: 17400044.23503697\n",
      "Iteration:      4,   Func. Count:     39,   Neg. LLF: -3296.315817847242\n",
      "Optimization terminated successfully    (Exit mode 0)\n",
      "            Current function value: -3296.3158180819437\n",
      "            Iterations: 8\n",
      "            Function evaluations: 39\n",
      "            Gradient evaluations: 4\n",
      "Iteration:      1,   Func. Count:      8,   Neg. LLF: 2.979090157540753e+20\n",
      "Iteration:      2,   Func. Count:     23,   Neg. LLF: 8.961160983253371e+16\n",
      "Optimization terminated successfully    (Exit mode 0)\n",
      "            Current function value: -3296.5248194573605\n",
      "            Iterations: 2\n",
      "            Function evaluations: 32\n",
      "            Gradient evaluations: 2\n",
      "Iteration:      1,   Func. Count:      9,   Neg. LLF: 2.7015769221826508e+20\n",
      "Iteration:      2,   Func. Count:     24,   Neg. LLF: -3292.48510092559\n",
      "Optimization terminated successfully    (Exit mode 0)\n",
      "            Current function value: -3292.4851017725955\n",
      "            Iterations: 6\n",
      "            Function evaluations: 24\n",
      "            Gradient evaluations: 2\n",
      "Iteration:      1,   Func. Count:     10,   Neg. LLF: 14736888226.685818\n",
      "Iteration:      2,   Func. Count:     26,   Neg. LLF: -3290.93563701945\n",
      "Optimization terminated successfully    (Exit mode 0)\n",
      "            Current function value: -3290.935637942295\n",
      "            Iterations: 6\n",
      "            Function evaluations: 26\n",
      "            Gradient evaluations: 2\n",
      "Iteration:      1,   Func. Count:     11,   Neg. LLF: 15627161630.629427\n",
      "Iteration:      2,   Func. Count:     29,   Neg. LLF: 4.458444538147653e+18\n",
      "Optimization terminated successfully    (Exit mode 0)\n",
      "            Current function value: -3287.8440829893557\n",
      "            Iterations: 2\n",
      "            Function evaluations: 38\n",
      "            Gradient evaluations: 2\n",
      "Iteration:      1,   Func. Count:     12,   Neg. LLF: 13818746091.76705\n",
      "Iteration:      2,   Func. Count:     30,   Neg. LLF: -3285.1843310674944\n",
      "Optimization terminated successfully    (Exit mode 0)\n",
      "            Current function value: -3285.184332211035\n",
      "            Iterations: 6\n",
      "            Function evaluations: 30\n",
      "            Gradient evaluations: 2\n",
      "Iteration:      1,   Func. Count:     13,   Neg. LLF: 12497518207.167658\n",
      "Iteration:      2,   Func. Count:     33,   Neg. LLF: 3003239554.566101\n",
      "Optimization terminated successfully    (Exit mode 0)\n",
      "            Current function value: -3283.2951444197306\n",
      "            Iterations: 2\n",
      "            Function evaluations: 42\n",
      "            Gradient evaluations: 2\n",
      "Iteration:      1,   Func. Count:     14,   Neg. LLF: 13403545010.575191\n",
      "Iteration:      2,   Func. Count:     34,   Neg. LLF: -3283.3858875907613\n",
      "Optimization terminated successfully    (Exit mode 0)\n",
      "            Current function value: -3283.3858885691006\n",
      "            Iterations: 6\n",
      "            Function evaluations: 34\n",
      "            Gradient evaluations: 2\n",
      "Iteration:      1,   Func. Count:      6,   Neg. LLF: 2.3649118440750832e+20\n",
      "Iteration:      2,   Func. Count:     19,   Neg. LLF: 4846.021045329133\n",
      "Iteration:      3,   Func. Count:     29,   Neg. LLF: 3327062714170408.0\n",
      "Iteration:      4,   Func. Count:     43,   Neg. LLF: 3783355979258.2275\n",
      "Iteration:      5,   Func. Count:     58,   Neg. LLF: 120684558739174.78\n",
      "Iteration:      6,   Func. Count:     73,   Neg. LLF: 11721678136171.982\n",
      "Iteration:      7,   Func. Count:     88,   Neg. LLF: 84257239.6157118\n",
      "Iteration:      8,   Func. Count:    100,   Neg. LLF: 19873668936806.86\n",
      "Iteration:      9,   Func. Count:    114,   Neg. LLF: -3221.4339580002206\n",
      "Optimization terminated successfully    (Exit mode 0)\n",
      "            Current function value: -3221.4339551478124\n",
      "            Iterations: 13\n",
      "            Function evaluations: 114\n",
      "            Gradient evaluations: 9\n",
      "Iteration:      1,   Func. Count:      7,   Neg. LLF: 166781133016.14746\n",
      "Iteration:      2,   Func. Count:     21,   Neg. LLF: 1568246765.2000885\n",
      "Optimization terminated successfully    (Exit mode 0)\n",
      "            Current function value: -3290.3607123906404\n",
      "            Iterations: 2\n",
      "            Function evaluations: 31\n",
      "            Gradient evaluations: 2\n",
      "Iteration:      1,   Func. Count:      8,   Neg. LLF: 41329829515.04915\n",
      "Iteration:      2,   Func. Count:     23,   Neg. LLF: 1109125.039882481\n",
      "Iteration:      3,   Func. Count:     32,   Neg. LLF: 43581856826.86383\n",
      "Iteration:      4,   Func. Count:     47,   Neg. LLF: 24471.196616749145\n",
      "Optimization terminated successfully    (Exit mode 0)\n",
      "            Current function value: -3293.38143517722\n",
      "            Iterations: 5\n",
      "            Function evaluations: 54\n",
      "            Gradient evaluations: 4\n",
      "Iteration:      1,   Func. Count:      9,   Neg. LLF: 11966226535.628628\n",
      "Iteration:      2,   Func. Count:     25,   Neg. LLF: 133857044.49425505\n",
      "Optimization terminated successfully    (Exit mode 0)\n",
      "            Current function value: -3291.715305860238\n",
      "            Iterations: 2\n",
      "            Function evaluations: 34\n",
      "            Gradient evaluations: 2\n",
      "Iteration:      1,   Func. Count:     10,   Neg. LLF: 106651964423.80148\n",
      "Iteration:      2,   Func. Count:     27,   Neg. LLF: 79103.26270791281\n",
      "Iteration:      3,   Func. Count:     42,   Neg. LLF: -3290.162082304629\n",
      "Optimization terminated successfully    (Exit mode 0)\n",
      "            Current function value: -3290.1620832830836\n",
      "            Iterations: 7\n",
      "            Function evaluations: 42\n",
      "            Gradient evaluations: 3\n",
      "Iteration:      1,   Func. Count:     11,   Neg. LLF: 102368342594.6382\n",
      "Iteration:      2,   Func. Count:     28,   Neg. LLF: -3288.788475925569\n",
      "Optimization terminated successfully    (Exit mode 0)\n",
      "            Current function value: -3288.7884771342124\n",
      "            Iterations: 6\n",
      "            Function evaluations: 28\n",
      "            Gradient evaluations: 2\n",
      "Iteration:      1,   Func. Count:     12,   Neg. LLF: 98259022043.98741\n",
      "Iteration:      2,   Func. Count:     30,   Neg. LLF: -3286.871593171448\n",
      "Optimization terminated successfully    (Exit mode 0)\n",
      "            Current function value: -3286.8715945524436\n",
      "            Iterations: 6\n",
      "            Function evaluations: 30\n",
      "            Gradient evaluations: 2\n",
      "Iteration:      1,   Func. Count:     13,   Neg. LLF: 8604218064.517025\n",
      "Iteration:      2,   Func. Count:     33,   Neg. LLF: 18422284972.732952\n",
      "Optimization terminated successfully    (Exit mode 0)\n",
      "            Current function value: -3285.3657298372204\n",
      "            Iterations: 2\n",
      "            Function evaluations: 43\n",
      "            Gradient evaluations: 2\n",
      "Iteration:      1,   Func. Count:     14,   Neg. LLF: 88508312879.6067\n",
      "Iteration:      2,   Func. Count:     35,   Neg. LLF: 26318.44143248034\n",
      "Iteration:      3,   Func. Count:     54,   Neg. LLF: 854668.8669683256\n",
      "Iteration:      4,   Func. Count:     75,   Neg. LLF: 424297038.48196805\n",
      "Iteration:      5,   Func. Count:     97,   Neg. LLF: 414444509.99980783\n",
      "Optimization terminated successfully    (Exit mode 0)\n",
      "            Current function value: -3285.379311488454\n",
      "            Iterations: 7\n",
      "            Function evaluations: 107\n",
      "            Gradient evaluations: 5\n",
      "Iteration:      1,   Func. Count:     15,   Neg. LLF: 8335810904.325762\n",
      "Iteration:      2,   Func. Count:     37,   Neg. LLF: 98674957711.2112\n",
      "Optimization terminated successfully    (Exit mode 0)\n",
      "            Current function value: -3284.864350208435\n",
      "            Iterations: 2\n",
      "            Function evaluations: 47\n",
      "            Gradient evaluations: 2\n",
      "Iteration:      1,   Func. Count:      7,   Neg. LLF: 12386785376.690716\n",
      "Iteration:      2,   Func. Count:     21,   Neg. LLF: 57137417118.10214\n",
      "Optimization terminated successfully    (Exit mode 0)\n",
      "            Current function value: -3238.0569939355782\n",
      "            Iterations: 2\n",
      "            Function evaluations: 31\n",
      "            Gradient evaluations: 2\n",
      "Iteration:      1,   Func. Count:      8,   Neg. LLF: 105105994999.0895\n",
      "Iteration:      2,   Func. Count:     23,   Neg. LLF: 6785.243755713035\n",
      "Iteration:      3,   Func. Count:     36,   Neg. LLF: 8463697.502791598\n",
      "Iteration:      4,   Func. Count:     50,   Neg. LLF: 78208538.87445161\n",
      "Optimization terminated successfully    (Exit mode 0)\n",
      "            Current function value: -3288.3465412913333\n",
      "            Iterations: 5\n",
      "            Function evaluations: 59\n",
      "            Gradient evaluations: 4\n",
      "Iteration:      1,   Func. Count:      9,   Neg. LLF: 95558612716.52847\n",
      "Iteration:      2,   Func. Count:     25,   Neg. LLF: 586.5924286806089\n",
      "Iteration:      3,   Func. Count:     37,   Neg. LLF: 4216.777262463893\n",
      "Iteration:      4,   Func. Count:     50,   Neg. LLF: -2126.157141937171\n",
      "Iteration:      5,   Func. Count:     62,   Neg. LLF: 24164.689105963935\n"
     ]
    },
    {
     "name": "stdout",
     "output_type": "stream",
     "text": [
      "Iteration:      6,   Func. Count:     76,   Neg. LLF: 1186156.7702792818\n",
      "Iteration:      7,   Func. Count:     91,   Neg. LLF: 4223.3960506989815\n",
      "Iteration:      8,   Func. Count:    105,   Neg. LLF: 25840.86182822718\n",
      "Optimization terminated successfully    (Exit mode 0)\n",
      "            Current function value: -3289.142903608709\n",
      "            Iterations: 10\n",
      "            Function evaluations: 112\n",
      "            Gradient evaluations: 8\n",
      "Iteration:      1,   Func. Count:     10,   Neg. LLF: 8500637918.356193\n",
      "Iteration:      2,   Func. Count:     26,   Neg. LLF: -3289.3402856346856\n",
      "Optimization terminated successfully    (Exit mode 0)\n",
      "            Current function value: -3289.3402864884483\n",
      "            Iterations: 6\n",
      "            Function evaluations: 26\n",
      "            Gradient evaluations: 2\n",
      "Iteration:      1,   Func. Count:     11,   Neg. LLF: 8253409254.820987\n",
      "Iteration:      2,   Func. Count:     29,   Neg. LLF: 4553604.226491937\n",
      "Optimization terminated successfully    (Exit mode 0)\n",
      "            Current function value: -3288.4462199819827\n",
      "            Iterations: 2\n",
      "            Function evaluations: 37\n",
      "            Gradient evaluations: 2\n",
      "Iteration:      1,   Func. Count:     12,   Neg. LLF: 7928562009.138162\n",
      "Iteration:      2,   Func. Count:     31,   Neg. LLF: 1325812280.9151342\n",
      "Optimization terminated successfully    (Exit mode 0)\n",
      "            Current function value: -3287.5218995876653\n",
      "            Iterations: 2\n",
      "            Function evaluations: 41\n",
      "            Gradient evaluations: 2\n",
      "Iteration:      1,   Func. Count:     13,   Neg. LLF: 81156447515.26353\n",
      "Iteration:      2,   Func. Count:     33,   Neg. LLF: 2245724762.9655313\n",
      "Optimization terminated successfully    (Exit mode 0)\n",
      "            Current function value: -3286.2206592695816\n",
      "            Iterations: 2\n",
      "            Function evaluations: 43\n",
      "            Gradient evaluations: 2\n",
      "Iteration:      1,   Func. Count:     14,   Neg. LLF: 7314656784.4666\n",
      "Iteration:      2,   Func. Count:     35,   Neg. LLF: 12570844045.158905\n",
      "Optimization terminated successfully    (Exit mode 0)\n",
      "            Current function value: -3286.0331979086345\n",
      "            Iterations: 2\n",
      "            Function evaluations: 45\n",
      "            Gradient evaluations: 2\n",
      "Iteration:      1,   Func. Count:     15,   Neg. LLF: 80300935512.46655\n",
      "Iteration:      2,   Func. Count:     37,   Neg. LLF: 10480397826.29747\n",
      "Optimization terminated successfully    (Exit mode 0)\n",
      "            Current function value: -3285.7847723796012\n",
      "            Iterations: 2\n",
      "            Function evaluations: 47\n",
      "            Gradient evaluations: 2\n",
      "Iteration:      1,   Func. Count:     16,   Neg. LLF: 7056225517.937431\n",
      "Iteration:      2,   Func. Count:     39,   Neg. LLF: 10827.217368797978\n",
      "Iteration:      3,   Func. Count:     59,   Neg. LLF: 641384856.3373798\n",
      "Iteration:      4,   Func. Count:     81,   Neg. LLF: -3285.124262322068\n",
      "Optimization terminated successfully    (Exit mode 0)\n",
      "            Current function value: -3285.124264365272\n",
      "            Iterations: 8\n",
      "            Function evaluations: 81\n",
      "            Gradient evaluations: 4\n",
      "Iteration:      1,   Func. Count:      8,   Neg. LLF: 163992836746.86365\n",
      "Iteration:      2,   Func. Count:     23,   Neg. LLF: 5693.591558846789\n",
      "Iteration:      3,   Func. Count:     35,   Neg. LLF: 137258052816.71078\n",
      "Iteration:      4,   Func. Count:     51,   Neg. LLF: 24167595424.31777\n",
      "Optimization terminated successfully    (Exit mode 0)\n",
      "            Current function value: -3253.108924412663\n",
      "            Iterations: 5\n",
      "            Function evaluations: 61\n",
      "            Gradient evaluations: 4\n",
      "Iteration:      1,   Func. Count:      9,   Neg. LLF: 73231767880.34651\n",
      "Iteration:      2,   Func. Count:     25,   Neg. LLF: 454901410.39497846\n",
      "Optimization terminated successfully    (Exit mode 0)\n",
      "            Current function value: -3285.369338879331\n",
      "            Iterations: 2\n",
      "            Function evaluations: 35\n",
      "            Gradient evaluations: 2\n",
      "Iteration:      1,   Func. Count:     10,   Neg. LLF: 7087528746.207875\n",
      "Iteration:      2,   Func. Count:     27,   Neg. LLF: 44077.315179369776\n",
      "Iteration:      3,   Func. Count:     42,   Neg. LLF: 1562831.6490563024\n",
      "Iteration:      4,   Func. Count:     58,   Neg. LLF: 63895.523713790804\n",
      "Iteration:      5,   Func. Count:     73,   Neg. LLF: 345.9238201702799\n",
      "Iteration:      6,   Func. Count:     86,   Neg. LLF: -2445.7902159975256\n",
      "Iteration:      7,   Func. Count:     99,   Neg. LLF: 200767454.14218414\n",
      "Iteration:      8,   Func. Count:    115,   Neg. LLF: 44364430.978272185\n",
      "Iteration:      9,   Func. Count:    131,   Neg. LLF: 9814823.199505981\n",
      "Iteration:     10,   Func. Count:    147,   Neg. LLF: 36056.49521722012\n",
      "Iteration:     11,   Func. Count:    162,   Neg. LLF: 51028.9732022578\n",
      "Iteration:     12,   Func. Count:    177,   Neg. LLF: -3286.6376377500505\n",
      "Optimization terminated successfully    (Exit mode 0)\n",
      "            Current function value: -3286.6376385395324\n",
      "            Iterations: 16\n",
      "            Function evaluations: 177\n",
      "            Gradient evaluations: 12\n",
      "Iteration:      1,   Func. Count:     11,   Neg. LLF: 76666407637.839\n",
      "Iteration:      2,   Func. Count:     28,   Neg. LLF: -3286.9161987557836\n",
      "Optimization terminated successfully    (Exit mode 0)\n",
      "            Current function value: -3286.916199644303\n",
      "            Iterations: 6\n",
      "            Function evaluations: 28\n",
      "            Gradient evaluations: 2\n",
      "Iteration:      1,   Func. Count:     12,   Neg. LLF: 74196525707.26146\n",
      "Iteration:      2,   Func. Count:     30,   Neg. LLF: 4371760686.863262\n",
      "Iteration:      3,   Func. Count:     48,   Neg. LLF: 296289.7432487154\n",
      "Iteration:      4,   Func. Count:     64,   Neg. LLF: -3286.6857379852913\n",
      "Optimization terminated successfully    (Exit mode 0)\n",
      "            Current function value: -3286.6857392331885\n",
      "            Iterations: 8\n",
      "            Function evaluations: 64\n",
      "            Gradient evaluations: 4\n",
      "Iteration:      1,   Func. Count:     13,   Neg. LLF: 72125049535.44891\n",
      "Iteration:      2,   Func. Count:     32,   Neg. LLF: 3824542584.189999\n",
      "Iteration:      3,   Func. Count:     51,   Neg. LLF: 98713910.88371274\n",
      "Iteration:      4,   Func. Count:     69,   Neg. LLF: -3286.4184500768083\n",
      "Optimization terminated successfully    (Exit mode 0)\n",
      "            Current function value: -3286.418451573426\n",
      "            Iterations: 8\n",
      "            Function evaluations: 69\n",
      "            Gradient evaluations: 4\n",
      "Iteration:      1,   Func. Count:     14,   Neg. LLF: 6879770396.669999\n",
      "Iteration:      2,   Func. Count:     34,   Neg. LLF: 480658.0058808702\n",
      "Iteration:      3,   Func. Count:     52,   Neg. LLF: -3286.306729076704\n",
      "Optimization terminated successfully    (Exit mode 0)\n",
      "            Current function value: -3286.3067307755464\n",
      "            Iterations: 7\n",
      "            Function evaluations: 52\n",
      "            Gradient evaluations: 3\n",
      "Iteration:      1,   Func. Count:     15,   Neg. LLF: 71994176151.47087\n",
      "Iteration:      2,   Func. Count:     36,   Neg. LLF: 3471004667.2412705\n",
      "Iteration:      3,   Func. Count:     57,   Neg. LLF: 427087771.8268418\n",
      "Iteration:      4,   Func. Count:     78,   Neg. LLF: 253115680.1202606\n",
      "Iteration:      5,   Func. Count:    100,   Neg. LLF: 145239006.21096897\n",
      "Optimization terminated successfully    (Exit mode 0)\n",
      "            Current function value: -3286.280121588283\n",
      "            Iterations: 6\n",
      "            Function evaluations: 109\n",
      "            Gradient evaluations: 5\n",
      "Iteration:      1,   Func. Count:     16,   Neg. LLF: 6842097001.207967\n",
      "Iteration:      2,   Func. Count:     38,   Neg. LLF: 1209760687.0974164\n",
      "Iteration:      3,   Func. Count:     60,   Neg. LLF: 746940.7758027919\n",
      "Optimization terminated successfully    (Exit mode 0)\n",
      "            Current function value: -3286.096715703308\n",
      "            Iterations: 4\n",
      "            Function evaluations: 68\n",
      "            Gradient evaluations: 3\n",
      "Iteration:      1,   Func. Count:     17,   Neg. LLF: 73802633317.47987\n",
      "Iteration:      2,   Func. Count:     40,   Neg. LLF: 71694279.19139312\n",
      "Iteration:      3,   Func. Count:     62,   Neg. LLF: -3285.737770826363\n",
      "Optimization terminated successfully    (Exit mode 0)\n",
      "            Current function value: -3285.7377730303306\n",
      "            Iterations: 7\n",
      "            Function evaluations: 62\n",
      "            Gradient evaluations: 3\n",
      "Iteration:      1,   Func. Count:      9,   Neg. LLF: 110041013166.9117\n",
      "Iteration:      2,   Func. Count:     24,   Neg. LLF: 75338521232.23625\n",
      "Iteration:      3,   Func. Count:     39,   Neg. LLF: 293069819715.1903\n",
      "Iteration:      4,   Func. Count:     54,   Neg. LLF: 234859134.90778604\n",
      "Iteration:      5,   Func. Count:     69,   Neg. LLF: 191148614944.92407\n"
     ]
    },
    {
     "name": "stdout",
     "output_type": "stream",
     "text": [
      "Iteration:      6,   Func. Count:     86,   Neg. LLF: 174788911.94540325\n",
      "Optimization terminated successfully    (Exit mode 0)\n",
      "            Current function value: -3249.0502070339717\n",
      "            Iterations: 8\n",
      "            Function evaluations: 95\n",
      "            Gradient evaluations: 6\n",
      "Iteration:      1,   Func. Count:     10,   Neg. LLF: 55487570725.32197\n",
      "Iteration:      2,   Func. Count:     26,   Neg. LLF: 13251721844.488403\n",
      "Iteration:      3,   Func. Count:     42,   Neg. LLF: 1757582960.3675275\n",
      "Iteration:      4,   Func. Count:     58,   Neg. LLF: 24759470791.60256\n",
      "Iteration:      5,   Func. Count:     75,   Neg. LLF: -661.9563219046418\n",
      "Iteration:      6,   Func. Count:     87,   Neg. LLF: 17104519938.706379\n",
      "Iteration:      7,   Func. Count:    103,   Neg. LLF: 4087849297.117597\n",
      "Iteration:      8,   Func. Count:    119,   Neg. LLF: 3994542455.312476\n",
      "Iteration:      9,   Func. Count:    136,   Neg. LLF: 1436430415.9011266\n",
      "Optimization terminated successfully    (Exit mode 0)\n",
      "            Current function value: -3280.95421448337\n",
      "            Iterations: 13\n",
      "            Function evaluations: 146\n",
      "            Gradient evaluations: 9\n",
      "Iteration:      1,   Func. Count:     11,   Neg. LLF: 6065923572.230462\n",
      "Iteration:      2,   Func. Count:     28,   Neg. LLF: 26320777881.32128\n",
      "Iteration:      3,   Func. Count:     45,   Neg. LLF: 171253.52278714807\n",
      "Iteration:      4,   Func. Count:     61,   Neg. LLF: 4518591.323494775\n",
      "Iteration:      5,   Func. Count:     78,   Neg. LLF: 98466.09250317952\n",
      "Iteration:      6,   Func. Count:     95,   Neg. LLF: 7963844.662171885\n",
      "Iteration:      7,   Func. Count:    111,   Neg. LLF: -3281.1877020925353\n",
      "Optimization terminated successfully    (Exit mode 0)\n",
      "            Current function value: -3281.1877023890006\n",
      "            Iterations: 11\n",
      "            Function evaluations: 111\n",
      "            Gradient evaluations: 7\n",
      "Iteration:      1,   Func. Count:     12,   Neg. LLF: 6089906767.991784\n",
      "Iteration:      2,   Func. Count:     30,   Neg. LLF: -479.82753014919314\n",
      "Iteration:      3,   Func. Count:     44,   Neg. LLF: -2071.156369304601\n",
      "Iteration:      4,   Func. Count:     57,   Neg. LLF: 10438822374.974632\n",
      "Iteration:      5,   Func. Count:     76,   Neg. LLF: 1314.843853407273\n",
      "Iteration:      6,   Func. Count:     91,   Neg. LLF: 1846953204.2560916\n",
      "Iteration:      7,   Func. Count:    109,   Neg. LLF: 6558.354904227477\n",
      "Iteration:      8,   Func. Count:    125,   Neg. LLF: 646.3872871540796\n",
      "Iteration:      9,   Func. Count:    140,   Neg. LLF: -64.7314543440813\n",
      "Iteration:     10,   Func. Count:    155,   Neg. LLF: 178640.87464929256\n",
      "Iteration:     11,   Func. Count:    173,   Neg. LLF: 222429.68086436501\n",
      "Iteration:     12,   Func. Count:    191,   Neg. LLF: 1395.8531329167677\n",
      "Iteration:     13,   Func. Count:    208,   Neg. LLF: 103216.65476949021\n",
      "Iteration:     14,   Func. Count:    226,   Neg. LLF: 1698.9410346163925\n",
      "Iteration:     15,   Func. Count:    242,   Neg. LLF: -3284.180920442952\n",
      "Optimization terminated successfully    (Exit mode 0)\n",
      "            Current function value: -3284.1809212517983\n",
      "            Iterations: 19\n",
      "            Function evaluations: 242\n",
      "            Gradient evaluations: 15\n",
      "Iteration:      1,   Func. Count:     13,   Neg. LLF: 60130845526.340546\n",
      "Iteration:      2,   Func. Count:     32,   Neg. LLF: 1885321862.0124207\n",
      "Iteration:      3,   Func. Count:     51,   Neg. LLF: 109289.1087373315\n",
      "Iteration:      4,   Func. Count:     69,   Neg. LLF: 531799.6440957435\n",
      "Iteration:      5,   Func. Count:     88,   Neg. LLF: 233118.3520087333\n",
      "Iteration:      6,   Func. Count:    108,   Neg. LLF: 244007.42498779268\n",
      "Iteration:      7,   Func. Count:    127,   Neg. LLF: 2226598.114151264\n",
      "Iteration:      8,   Func. Count:    146,   Neg. LLF: -3281.141431089749\n",
      "Optimization terminated successfully    (Exit mode 0)\n",
      "            Current function value: -3281.141432096545\n",
      "            Iterations: 12\n",
      "            Function evaluations: 146\n",
      "            Gradient evaluations: 8\n",
      "Iteration:      1,   Func. Count:     14,   Neg. LLF: 5570264170.725822\n",
      "Iteration:      2,   Func. Count:     34,   Neg. LLF: 1508479530.1040525\n",
      "Iteration:      3,   Func. Count:     54,   Neg. LLF: 1706041.4441867974\n",
      "Iteration:      4,   Func. Count:     73,   Neg. LLF: 4399581.945456559\n",
      "Iteration:      5,   Func. Count:     93,   Neg. LLF: 63919905.82633419\n",
      "Iteration:      6,   Func. Count:    114,   Neg. LLF: 32401.533619172144\n",
      "Iteration:      7,   Func. Count:    133,   Neg. LLF: 31511364.40027161\n",
      "Iteration:      8,   Func. Count:    153,   Neg. LLF: -3281.3423023130454\n",
      "Optimization terminated successfully    (Exit mode 0)\n",
      "            Current function value: -3281.342303559674\n",
      "            Iterations: 12\n",
      "            Function evaluations: 153\n",
      "            Gradient evaluations: 8\n",
      "Iteration:      1,   Func. Count:     15,   Neg. LLF: 5447752998.516354\n",
      "Iteration:      2,   Func. Count:     36,   Neg. LLF: 919366.3824737298\n",
      "Iteration:      3,   Func. Count:     56,   Neg. LLF: 518714237.02754945\n",
      "Optimization terminated successfully    (Exit mode 0)\n",
      "            Current function value: -3281.112055523873\n",
      "            Iterations: 3\n",
      "            Function evaluations: 65\n",
      "            Gradient evaluations: 3\n",
      "Iteration:      1,   Func. Count:     16,   Neg. LLF: 5390144836.382438\n",
      "Iteration:      2,   Func. Count:     38,   Neg. LLF: 10509817.491789198\n",
      "Iteration:      3,   Func. Count:     59,   Neg. LLF: 87701.04719124798\n",
      "Iteration:      4,   Func. Count:     80,   Neg. LLF: 1807656.650651264\n",
      "Iteration:      5,   Func. Count:    102,   Neg. LLF: 3078774.9760470614\n",
      "Iteration:      6,   Func. Count:    123,   Neg. LLF: -3280.8589327593845\n",
      "Optimization terminated successfully    (Exit mode 0)\n",
      "            Current function value: -3280.8589344252728\n",
      "            Iterations: 10\n",
      "            Function evaluations: 123\n",
      "            Gradient evaluations: 6\n",
      "Iteration:      1,   Func. Count:     17,   Neg. LLF: 5169343487.967179\n",
      "Iteration:      2,   Func. Count:     40,   Neg. LLF: 789202015.292352\n",
      "Iteration:      3,   Func. Count:     63,   Neg. LLF: 275727416.62980056\n",
      "Iteration:      4,   Func. Count:     86,   Neg. LLF: 43463551.34175404\n",
      "Iteration:      5,   Func. Count:    109,   Neg. LLF: 660204.6948262706\n",
      "Optimization terminated successfully    (Exit mode 0)\n",
      "            Current function value: -3280.5722690674943\n",
      "            Iterations: 8\n",
      "            Function evaluations: 117\n",
      "            Gradient evaluations: 5\n",
      "Iteration:      1,   Func. Count:     18,   Neg. LLF: 4857906320.042459\n",
      "Iteration:      2,   Func. Count:     42,   Neg. LLF: 10973446.669404155\n",
      "Iteration:      3,   Func. Count:     65,   Neg. LLF: 50321939.01639095\n",
      "Iteration:      4,   Func. Count:     88,   Neg. LLF: -3280.261658950835\n",
      "Optimization terminated successfully    (Exit mode 0)\n",
      "            Current function value: -3280.2616609051493\n",
      "            Iterations: 8\n",
      "            Function evaluations: 88\n",
      "            Gradient evaluations: 4\n",
      "Iteration:      1,   Func. Count:     10,   Neg. LLF: 178798638487.54886\n",
      "Iteration:      2,   Func. Count:     26,   Neg. LLF: 1264845981.7913034\n",
      "Iteration:      3,   Func. Count:     42,   Neg. LLF: 1.1347659520090767e+18\n",
      "Iteration:      4,   Func. Count:     58,   Neg. LLF: 3.71135204772562e+19\n",
      "Optimization terminated successfully    (Exit mode 0)\n",
      "            Current function value: -3250.443629412557\n",
      "            Iterations: 5\n",
      "            Function evaluations: 68\n",
      "            Gradient evaluations: 4\n",
      "Iteration:      1,   Func. Count:     11,   Neg. LLF: 45801393291.80309\n",
      "Iteration:      2,   Func. Count:     28,   Neg. LLF: 11865085968.67879\n",
      "Iteration:      3,   Func. Count:     45,   Neg. LLF: 2878260781.701526\n",
      "Iteration:      4,   Func. Count:     62,   Neg. LLF: 654231232.3940104\n",
      "Iteration:      5,   Func. Count:     79,   Neg. LLF: 14178770.132861841\n",
      "Iteration:      6,   Func. Count:     96,   Neg. LLF: 12164533290.425507\n",
      "Iteration:      7,   Func. Count:    115,   Neg. LLF: 12859098443.831024\n",
      "Optimization terminated successfully    (Exit mode 0)\n",
      "            Current function value: -3277.301041855012\n",
      "            Iterations: 10\n",
      "            Function evaluations: 125\n",
      "            Gradient evaluations: 7\n",
      "Iteration:      1,   Func. Count:     12,   Neg. LLF: 49313206359.68549\n",
      "Iteration:      2,   Func. Count:     30,   Neg. LLF: 10140678043.975098\n",
      "Iteration:      3,   Func. Count:     48,   Neg. LLF: 6576585.067300607\n",
      "Iteration:      4,   Func. Count:     66,   Neg. LLF: 44515930.57745931\n",
      "Optimization terminated successfully    (Exit mode 0)\n",
      "            Current function value: -3277.807868381903\n",
      "            Iterations: 5\n",
      "            Function evaluations: 74\n",
      "            Gradient evaluations: 4\n",
      "Iteration:      1,   Func. Count:     13,   Neg. LLF: 48052398860.77416\n",
      "Iteration:      2,   Func. Count:     32,   Neg. LLF: -32.825483786488604\n",
      "Iteration:      3,   Func. Count:     49,   Neg. LLF: 10134919000.85838\n",
      "Iteration:      4,   Func. Count:     68,   Neg. LLF: -888.6158260311236\n",
      "Iteration:      5,   Func. Count:     82,   Neg. LLF: 18457.055031315067\n",
      "Iteration:      6,   Func. Count:     99,   Neg. LLF: 3108420566.925472\n",
      "Iteration:      7,   Func. Count:    118,   Neg. LLF: -247.07894385077958\n",
      "Iteration:      8,   Func. Count:    134,   Neg. LLF: 2960.138226170168\n",
      "Iteration:      9,   Func. Count:    149,   Neg. LLF: 11097322.501594743\n",
      "Iteration:     10,   Func. Count:    168,   Neg. LLF: -2431.934810750988\n",
      "Iteration:     11,   Func. Count:    184,   Neg. LLF: 2358330.3526947564\n",
      "Iteration:     12,   Func. Count:    203,   Neg. LLF: 496796.0758509945\n",
      "Iteration:     13,   Func. Count:    222,   Neg. LLF: 40179.478339135865\n",
      "Iteration:     14,   Func. Count:    240,   Neg. LLF: 5990.0056867551775\n",
      "Iteration:     15,   Func. Count:    257,   Neg. LLF: -3280.5670739590105\n",
      "Optimization terminated successfully    (Exit mode 0)\n",
      "            Current function value: -3280.5670749388664\n",
      "            Iterations: 19\n",
      "            Function evaluations: 257\n",
      "            Gradient evaluations: 15\n",
      "Iteration:      1,   Func. Count:     14,   Neg. LLF: 45154123299.44035\n",
      "Iteration:      2,   Func. Count:     34,   Neg. LLF: 701.2648988280749\n",
      "Iteration:      3,   Func. Count:     51,   Neg. LLF: 11612.45812140085\n",
      "Iteration:      4,   Func. Count:     69,   Neg. LLF: 45105614.507631436\n",
      "Iteration:      5,   Func. Count:     89,   Neg. LLF: 8094263.929457531\n",
      "Iteration:      6,   Func. Count:    109,   Neg. LLF: 143956.73665191894\n",
      "Iteration:      7,   Func. Count:    129,   Neg. LLF: 28131.845337146282\n",
      "Optimization terminated successfully    (Exit mode 0)\n",
      "            Current function value: -3278.2175640807654\n",
      "            Iterations: 11\n",
      "            Function evaluations: 136\n",
      "            Gradient evaluations: 7\n",
      "Iteration:      1,   Func. Count:     15,   Neg. LLF: 42917519176.62129\n",
      "Iteration:      2,   Func. Count:     36,   Neg. LLF: 697229625.647908\n",
      "Iteration:      3,   Func. Count:     57,   Neg. LLF: 13172410.355128476\n",
      "Iteration:      4,   Func. Count:     78,   Neg. LLF: 14711674.764770338\n",
      "Optimization terminated successfully    (Exit mode 0)\n",
      "            Current function value: -3278.110818144647\n",
      "            Iterations: 5\n",
      "            Function evaluations: 87\n",
      "            Gradient evaluations: 4\n"
     ]
    },
    {
     "name": "stdout",
     "output_type": "stream",
     "text": [
      "Iteration:      1,   Func. Count:     16,   Neg. LLF: 41837631523.67529\n",
      "Iteration:      2,   Func. Count:     38,   Neg. LLF: 205968.460067651\n",
      "Iteration:      3,   Func. Count:     58,   Neg. LLF: 132174255.32096136\n",
      "Iteration:      4,   Func. Count:     81,   Neg. LLF: -3277.8777553041823\n",
      "Optimization terminated successfully    (Exit mode 0)\n",
      "            Current function value: -3277.8777566727254\n",
      "            Iterations: 8\n",
      "            Function evaluations: 81\n",
      "            Gradient evaluations: 4\n",
      "Iteration:      1,   Func. Count:     17,   Neg. LLF: 40266622716.98047\n",
      "Iteration:      2,   Func. Count:     40,   Neg. LLF: 594617421.608782\n",
      "Iteration:      3,   Func. Count:     63,   Neg. LLF: 93197179.172616\n",
      "Iteration:      4,   Func. Count:     86,   Neg. LLF: 89160748.67026852\n",
      "Iteration:      5,   Func. Count:    108,   Neg. LLF: -3277.674113947236\n",
      "Optimization terminated successfully    (Exit mode 0)\n",
      "            Current function value: -3277.674115483266\n",
      "            Iterations: 9\n",
      "            Function evaluations: 108\n",
      "            Gradient evaluations: 5\n",
      "Iteration:      1,   Func. Count:     18,   Neg. LLF: 38938144056.377335\n",
      "Iteration:      2,   Func. Count:     42,   Neg. LLF: 2991637.3966640425\n",
      "Iteration:      3,   Func. Count:     65,   Neg. LLF: 770542819.5718912\n",
      "Optimization terminated successfully    (Exit mode 0)\n",
      "            Current function value: -3277.524272267295\n",
      "            Iterations: 3\n",
      "            Function evaluations: 75\n",
      "            Gradient evaluations: 3\n",
      "Iteration:      1,   Func. Count:     19,   Neg. LLF: 3628078576.244638\n",
      "Iteration:      2,   Func. Count:     44,   Neg. LLF: 12847493.419620864\n",
      "Iteration:      3,   Func. Count:     68,   Neg. LLF: 376545330.65273\n",
      "Optimization terminated successfully    (Exit mode 0)\n",
      "            Current function value: -3277.160193849951\n",
      "            Iterations: 3\n",
      "            Function evaluations: 78\n",
      "            Gradient evaluations: 3\n",
      "Iteration:      1,   Func. Count:     11,   Neg. LLF: 101536755625.34468\n",
      "Iteration:      2,   Func. Count:     28,   Neg. LLF: 24514698431.559864\n",
      "Iteration:      3,   Func. Count:     45,   Neg. LLF: 4.0263850554142065e+19\n",
      "Iteration:      4,   Func. Count:     63,   Neg. LLF: 1.0898612971838331e+20\n",
      "Optimization terminated successfully    (Exit mode 0)\n",
      "            Current function value: -3245.5593345455286\n",
      "            Iterations: 5\n",
      "            Function evaluations: 73\n",
      "            Gradient evaluations: 4\n",
      "Iteration:      1,   Func. Count:     12,   Neg. LLF: 55960593219.472946\n",
      "Iteration:      2,   Func. Count:     30,   Neg. LLF: 1462073423.1705964\n",
      "Iteration:      3,   Func. Count:     48,   Neg. LLF: 320678039.9074592\n",
      "Iteration:      4,   Func. Count:     66,   Neg. LLF: 743309391.0934399\n",
      "Iteration:      5,   Func. Count:     84,   Neg. LLF: 161435346.58259508\n",
      "Iteration:      6,   Func. Count:    102,   Neg. LLF: 1403014151.3779562\n",
      "Iteration:      7,   Func. Count:    121,   Neg. LLF: 14134764.421580447\n",
      "Optimization terminated successfully    (Exit mode 0)\n",
      "            Current function value: -3273.6836505852825\n",
      "            Iterations: 11\n",
      "            Function evaluations: 130\n",
      "            Gradient evaluations: 7\n",
      "Iteration:      1,   Func. Count:     13,   Neg. LLF: 57302001698.26653\n",
      "Iteration:      2,   Func. Count:     32,   Neg. LLF: 16666317819.010965\n",
      "Iteration:      3,   Func. Count:     51,   Neg. LLF: 319980493.90170103\n",
      "Iteration:      4,   Func. Count:     70,   Neg. LLF: 15841455.13896766\n",
      "Iteration:      5,   Func. Count:     89,   Neg. LLF: 16207699.179126244\n",
      "Optimization terminated successfully    (Exit mode 0)\n",
      "            Current function value: -3273.8019277964586\n",
      "            Iterations: 7\n",
      "            Function evaluations: 99\n",
      "            Gradient evaluations: 5\n",
      "Iteration:      1,   Func. Count:     14,   Neg. LLF: 54522938518.49336\n",
      "Iteration:      2,   Func. Count:     34,   Neg. LLF: 12348290215.338903\n",
      "Iteration:      3,   Func. Count:     54,   Neg. LLF: 7134.332095579608\n",
      "Iteration:      4,   Func. Count:     72,   Neg. LLF: 13304541.767413056\n",
      "Iteration:      5,   Func. Count:     92,   Neg. LLF: 48761.28266743889\n",
      "Iteration:      6,   Func. Count:    111,   Neg. LLF: 22718366.96580513\n",
      "Iteration:      7,   Func. Count:    131,   Neg. LLF: 158274.69112187866\n",
      "Iteration:      8,   Func. Count:    151,   Neg. LLF: 1637.2711687219517\n",
      "Iteration:      9,   Func. Count:    169,   Neg. LLF: 488000.7890263308\n",
      "Iteration:     10,   Func. Count:    188,   Neg. LLF: 3916.242919855307\n",
      "Iteration:     11,   Func. Count:    207,   Neg. LLF: 301318.32918180805\n",
      "Iteration:     12,   Func. Count:    227,   Neg. LLF: 114973.77711643293\n",
      "Iteration:     13,   Func. Count:    245,   Neg. LLF: -3274.05015201016\n",
      "Optimization terminated successfully    (Exit mode 0)\n",
      "            Current function value: -3274.050152519192\n",
      "            Iterations: 17\n",
      "            Function evaluations: 245\n",
      "            Gradient evaluations: 13\n",
      "Iteration:      1,   Func. Count:     15,   Neg. LLF: 4828913053.906571\n",
      "Iteration:      2,   Func. Count:     36,   Neg. LLF: 502.5774038747859\n",
      "Iteration:      3,   Func. Count:     52,   Neg. LLF: -2464.2600449340707\n",
      "Iteration:      4,   Func. Count:     70,   Neg. LLF: 3113944.225678683\n",
      "Iteration:      5,   Func. Count:     89,   Neg. LLF: 6142375721.935005\n",
      "Iteration:      6,   Func. Count:    110,   Neg. LLF: 70622.22643419713\n",
      "Iteration:      7,   Func. Count:    129,   Neg. LLF: 192192954.43230078\n",
      "Iteration:      8,   Func. Count:    150,   Neg. LLF: 35052569.136275135\n",
      "Iteration:      9,   Func. Count:    171,   Neg. LLF: 66027492.205081955\n",
      "Iteration:     10,   Func. Count:    191,   Neg. LLF: -3277.554336989385\n",
      "Optimization terminated successfully    (Exit mode 0)\n",
      "            Current function value: -3277.5543380122367\n",
      "            Iterations: 14\n",
      "            Function evaluations: 191\n",
      "            Gradient evaluations: 10\n",
      "Iteration:      1,   Func. Count:     16,   Neg. LLF: 4497744441.174486\n",
      "Iteration:      2,   Func. Count:     38,   Neg. LLF: 221454.75807453122\n",
      "Iteration:      3,   Func. Count:     58,   Neg. LLF: 531535.9997013927\n",
      "Iteration:      4,   Func. Count:     80,   Neg. LLF: 29128.39202103787\n",
      "Iteration:      5,   Func. Count:    101,   Neg. LLF: 15029.672693291755\n",
      "Iteration:      6,   Func. Count:    121,   Neg. LLF: 6163446.246994517\n",
      "Iteration:      7,   Func. Count:    143,   Neg. LLF: 10232405.992191415\n",
      "Iteration:      8,   Func. Count:    165,   Neg. LLF: -127.25743011151464\n",
      "Iteration:      9,   Func. Count:    185,   Neg. LLF: 815735127.6043292\n",
      "Iteration:     10,   Func. Count:    209,   Neg. LLF: 548.8130907838297\n",
      "Iteration:     11,   Func. Count:    228,   Neg. LLF: 10355.388596805824\n",
      "Iteration:     12,   Func. Count:    247,   Neg. LLF: 92.44622402408976\n",
      "Iteration:     13,   Func. Count:    265,   Neg. LLF: 1281781.689286591\n",
      "Iteration:     14,   Func. Count:    285,   Neg. LLF: 5599893.732110838\n",
      "Iteration:     15,   Func. Count:    307,   Neg. LLF: 291.37292065669783\n",
      "Iteration:     16,   Func. Count:    328,   Neg. LLF: 471331960.98500884\n",
      "Optimization terminated successfully    (Exit mode 0)\n",
      "            Current function value: -3274.0206536438545\n",
      "            Iterations: 19\n",
      "            Function evaluations: 337\n",
      "            Gradient evaluations: 16\n",
      "Iteration:      1,   Func. Count:     17,   Neg. LLF: 44333189199.147705\n",
      "Iteration:      2,   Func. Count:     40,   Neg. LLF: 53358.11865771751\n",
      "Iteration:      3,   Func. Count:     61,   Neg. LLF: 4379933.271453933\n",
      "Iteration:      4,   Func. Count:     84,   Neg. LLF: 2077.7605292728927\n",
      "Iteration:      5,   Func. Count:    104,   Neg. LLF: 645885.9596989732\n",
      "Iteration:      6,   Func. Count:    126,   Neg. LLF: 234503.0556048595\n",
      "Iteration:      7,   Func. Count:    149,   Neg. LLF: -3273.291441299468\n",
      "Optimization terminated successfully    (Exit mode 0)\n",
      "            Current function value: -3273.2914424284277\n",
      "            Iterations: 11\n",
      "            Function evaluations: 149\n",
      "            Gradient evaluations: 7\n",
      "Iteration:      1,   Func. Count:     18,   Neg. LLF: 3992848563.478539\n",
      "Iteration:      2,   Func. Count:     42,   Neg. LLF: 1934774.2494942695\n",
      "Iteration:      3,   Func. Count:     65,   Neg. LLF: 3157011.8278520936\n",
      "Optimization terminated successfully    (Exit mode 0)\n",
      "            Current function value: -3273.0491006868515\n",
      "            Iterations: 3\n",
      "            Function evaluations: 74\n",
      "            Gradient evaluations: 3\n",
      "Iteration:      1,   Func. Count:     19,   Neg. LLF: 3878988913.550318\n",
      "Iteration:      2,   Func. Count:     44,   Neg. LLF: 535699520.6365637\n",
      "Iteration:      3,   Func. Count:     69,   Neg. LLF: 77507254.84911527\n",
      "Iteration:      4,   Func. Count:     94,   Neg. LLF: 10953739.646338552\n",
      "Iteration:      5,   Func. Count:    119,   Neg. LLF: 774456.7278681325\n",
      "Iteration:      6,   Func. Count:    143,   Neg. LLF: -3272.7514447461017\n",
      "Optimization terminated successfully    (Exit mode 0)\n",
      "            Current function value: -3272.7514461807377\n",
      "            Iterations: 10\n",
      "            Function evaluations: 143\n",
      "            Gradient evaluations: 6\n"
     ]
    },
    {
     "name": "stdout",
     "output_type": "stream",
     "text": [
      "Iteration:      1,   Func. Count:     20,   Neg. LLF: 3779886726.2453237\n",
      "Iteration:      2,   Func. Count:     46,   Neg. LLF: 6288885.470079885\n",
      "Iteration:      3,   Func. Count:     71,   Neg. LLF: 259002694.64124447\n",
      "Iteration:      4,   Func. Count:     97,   Neg. LLF: 17443471.318638902\n",
      "Iteration:      5,   Func. Count:    123,   Neg. LLF: 99496046.9057103\n",
      "Iteration:      6,   Func. Count:    149,   Neg. LLF: -3272.533399668894\n",
      "Optimization terminated successfully    (Exit mode 0)\n",
      "            Current function value: -3272.5334012217772\n",
      "            Iterations: 10\n",
      "            Function evaluations: 149\n",
      "            Gradient evaluations: 6\n",
      "Iteration:      1,   Func. Count:     12,   Neg. LLF: 3189804744.2874994\n",
      "Iteration:      2,   Func. Count:     30,   Neg. LLF: 18968274783.36748\n",
      "Iteration:      3,   Func. Count:     48,   Neg. LLF: 77070362.4106887\n",
      "Iteration:      4,   Func. Count:     66,   Neg. LLF: 1337329675.357569\n",
      "Optimization terminated successfully    (Exit mode 0)\n",
      "            Current function value: -3242.2415355499384\n",
      "            Iterations: 5\n",
      "            Function evaluations: 76\n",
      "            Gradient evaluations: 4\n",
      "Iteration:      1,   Func. Count:     13,   Neg. LLF: 56024025890.625206\n",
      "Iteration:      2,   Func. Count:     32,   Neg. LLF: 15678168032.080648\n",
      "Iteration:      3,   Func. Count:     51,   Neg. LLF: 319425440.7683885\n",
      "Iteration:      4,   Func. Count:     70,   Neg. LLF: 67196585.78814875\n",
      "Iteration:      5,   Func. Count:     89,   Neg. LLF: 14191318.956668759\n",
      "Iteration:      6,   Func. Count:    107,   Neg. LLF: -3271.5980827914073\n",
      "Optimization terminated successfully    (Exit mode 0)\n",
      "            Current function value: -3271.5980825020947\n",
      "            Iterations: 10\n",
      "            Function evaluations: 107\n",
      "            Gradient evaluations: 6\n",
      "Iteration:      1,   Func. Count:     14,   Neg. LLF: 55752216109.074844\n",
      "Iteration:      2,   Func. Count:     34,   Neg. LLF: 14267657723.00881\n",
      "Iteration:      3,   Func. Count:     54,   Neg. LLF: 2738709276.6154456\n",
      "Iteration:      4,   Func. Count:     74,   Neg. LLF: 255924455.18076432\n",
      "Iteration:      5,   Func. Count:     94,   Neg. LLF: 471941.71328380704\n",
      "Iteration:      6,   Func. Count:    114,   Neg. LLF: 9421653.31573011\n",
      "Iteration:      7,   Func. Count:    134,   Neg. LLF: 1810594.8452326085\n",
      "Iteration:      8,   Func. Count:    154,   Neg. LLF: 107758952.58250804\n",
      "Iteration:      9,   Func. Count:    174,   Neg. LLF: -3271.2312019606643\n",
      "Optimization terminated successfully    (Exit mode 0)\n",
      "            Current function value: -3271.2312020153126\n",
      "            Iterations: 13\n",
      "            Function evaluations: 174\n",
      "            Gradient evaluations: 9\n",
      "Iteration:      1,   Func. Count:     15,   Neg. LLF: 50732663710.982895\n",
      "Iteration:      2,   Func. Count:     36,   Neg. LLF: -1100.7145871028545\n",
      "Iteration:      3,   Func. Count:     54,   Neg. LLF: 12283837.684439555\n",
      "Iteration:      4,   Func. Count:     74,   Neg. LLF: 183066982.68350044\n",
      "Iteration:      5,   Func. Count:     95,   Neg. LLF: 29786593.6506744\n",
      "Iteration:      6,   Func. Count:    116,   Neg. LLF: 6697.248576817699\n",
      "Iteration:      7,   Func. Count:    135,   Neg. LLF: 600467967.6081488\n",
      "Iteration:      8,   Func. Count:    156,   Neg. LLF: 9445507.149275538\n",
      "Iteration:      9,   Func. Count:    177,   Neg. LLF: 18719.40946134422\n",
      "Iteration:     10,   Func. Count:    197,   Neg. LLF: 651040.3491596638\n",
      "Optimization terminated successfully    (Exit mode 0)\n",
      "            Current function value: -3271.1119868581\n",
      "            Iterations: 14\n",
      "            Function evaluations: 205\n",
      "            Gradient evaluations: 10\n",
      "Iteration:      1,   Func. Count:     16,   Neg. LLF: 45001793071.1567\n",
      "Iteration:      2,   Func. Count:     38,   Neg. LLF: -242.97601657927748\n",
      "Iteration:      3,   Func. Count:     56,   Neg. LLF: 2037410331.5508316\n",
      "Iteration:      4,   Func. Count:     78,   Neg. LLF: 397.66608332013936\n",
      "Iteration:      5,   Func. Count:     96,   Neg. LLF: 41405793599.27549\n",
      "Iteration:      6,   Func. Count:    118,   Neg. LLF: -553.6898862396092\n",
      "Iteration:      7,   Func. Count:    137,   Neg. LLF: 12082467378.860666\n",
      "Iteration:      8,   Func. Count:    159,   Neg. LLF: 5629.09188799551\n",
      "Iteration:      9,   Func. Count:    179,   Neg. LLF: 149844.9217985226\n",
      "Iteration:     10,   Func. Count:    201,   Neg. LLF: 128724.47075962259\n",
      "Iteration:     11,   Func. Count:    222,   Neg. LLF: 3012.9942193130773\n",
      "Iteration:     12,   Func. Count:    242,   Neg. LLF: 1177379330.1290352\n",
      "Iteration:     13,   Func. Count:    264,   Neg. LLF: 14773.511842799664\n",
      "Iteration:     14,   Func. Count:    284,   Neg. LLF: -129.2939898268578\n",
      "Iteration:     15,   Func. Count:    303,   Neg. LLF: 2771299.0495268228\n",
      "Iteration:     16,   Func. Count:    324,   Neg. LLF: -3271.251781753043\n",
      "Optimization terminated successfully    (Exit mode 0)\n",
      "            Current function value: -3271.251782740741\n",
      "            Iterations: 20\n",
      "            Function evaluations: 324\n",
      "            Gradient evaluations: 16\n",
      "Iteration:      1,   Func. Count:     17,   Neg. LLF: 41030367902.4936\n",
      "Iteration:      2,   Func. Count:     40,   Neg. LLF: 608751237.8727823\n",
      "Iteration:      3,   Func. Count:     63,   Neg. LLF: 3199.259295176988\n",
      "Iteration:      4,   Func. Count:     84,   Neg. LLF: 7319767.676403205\n",
      "Iteration:      5,   Func. Count:    107,   Neg. LLF: 6022.330542131197\n",
      "Iteration:      6,   Func. Count:    129,   Neg. LLF: 116342.34744155119\n",
      "Iteration:      7,   Func. Count:    152,   Neg. LLF: 2815228.0669844463\n",
      "Iteration:      8,   Func. Count:    175,   Neg. LLF: 779.9546197330924\n",
      "Iteration:      9,   Func. Count:    196,   Neg. LLF: 45993521.139274955\n",
      "Iteration:     10,   Func. Count:    219,   Neg. LLF: 5400.643133880272\n",
      "Iteration:     11,   Func. Count:    240,   Neg. LLF: -3270.0244698641336\n",
      "Optimization terminated successfully    (Exit mode 0)\n",
      "            Current function value: -3270.024470719991\n",
      "            Iterations: 15\n",
      "            Function evaluations: 240\n",
      "            Gradient evaluations: 11\n",
      "Iteration:      1,   Func. Count:     18,   Neg. LLF: 3628395584.355118\n",
      "Iteration:      2,   Func. Count:     42,   Neg. LLF: 532078780.0706495\n",
      "Iteration:      3,   Func. Count:     66,   Neg. LLF: 66947.83807614869\n",
      "Iteration:      4,   Func. Count:     89,   Neg. LLF: 6850.096175834881\n",
      "Iteration:      5,   Func. Count:    113,   Neg. LLF: 74067.94273095501\n",
      "Iteration:      6,   Func. Count:    137,   Neg. LLF: 108988.50733290403\n",
      "Iteration:      7,   Func. Count:    160,   Neg. LLF: 29760.122714805733\n",
      "Iteration:      8,   Func. Count:    183,   Neg. LLF: 584553.1118139147\n",
      "Iteration:      9,   Func. Count:    207,   Neg. LLF: 38905.19154870523\n",
      "Iteration:     10,   Func. Count:    229,   Neg. LLF: -3269.681262843437\n",
      "Optimization terminated successfully    (Exit mode 0)\n",
      "            Current function value: -3269.68126379043\n",
      "            Iterations: 14\n",
      "            Function evaluations: 229\n",
      "            Gradient evaluations: 10\n",
      "Iteration:      1,   Func. Count:     19,   Neg. LLF: 3363460204.406953\n",
      "Iteration:      2,   Func. Count:     44,   Neg. LLF: 111406.84863346828\n",
      "Iteration:      3,   Func. Count:     67,   Neg. LLF: 26204619.715977907\n",
      "Iteration:      4,   Func. Count:     92,   Neg. LLF: 368374.459909428\n",
      "Iteration:      5,   Func. Count:    117,   Neg. LLF: 7078048.776771987\n",
      "Optimization terminated successfully    (Exit mode 0)\n",
      "            Current function value: -3269.3154983997747\n",
      "            Iterations: 7\n",
      "            Function evaluations: 126\n",
      "            Gradient evaluations: 5\n",
      "Iteration:      1,   Func. Count:     20,   Neg. LLF: 3204410918.035225\n",
      "Iteration:      2,   Func. Count:     46,   Neg. LLF: 2213261.6481119804\n",
      "Iteration:      3,   Func. Count:     71,   Neg. LLF: 18123581.107731134\n",
      "Optimization terminated successfully    (Exit mode 0)\n",
      "            Current function value: -3269.1586769062383\n",
      "            Iterations: 3\n",
      "            Function evaluations: 80\n",
      "            Gradient evaluations: 3\n",
      "Iteration:      1,   Func. Count:     21,   Neg. LLF: 3082029066.991724\n",
      "Iteration:      2,   Func. Count:     48,   Neg. LLF: 747030.1783349153\n",
      "Iteration:      3,   Func. Count:     73,   Neg. LLF: 6114685.883788203\n",
      "Iteration:      4,   Func. Count:    100,   Neg. LLF: 4633397.915393901\n",
      "Optimization terminated successfully    (Exit mode 0)\n",
      "            Current function value: -3269.0296924852673\n",
      "            Iterations: 4\n",
      "            Function evaluations: 109\n",
      "            Gradient evaluations: 4\n",
      "Iteration:      1,   Func. Count:     13,   Neg. LLF: 2988818246.08079\n",
      "Iteration:      2,   Func. Count:     32,   Neg. LLF: 1124861156.6146119\n",
      "Iteration:      3,   Func. Count:     51,   Neg. LLF: 6.264279546363695e+18\n",
      "Iteration:      4,   Func. Count:     70,   Neg. LLF: 85752197.18000335\n",
      "Iteration:      5,   Func. Count:     89,   Neg. LLF: 4.061304612845526e+18\n",
      "Iteration:      6,   Func. Count:    109,   Neg. LLF: 9.20777950813338e+19\n",
      "Optimization terminated successfully    (Exit mode 0)\n",
      "            Current function value: -3239.9156253164438\n",
      "            Iterations: 8\n",
      "            Function evaluations: 119\n",
      "            Gradient evaluations: 6\n",
      "Iteration:      1,   Func. Count:     14,   Neg. LLF: 5724771145.026532\n",
      "Iteration:      2,   Func. Count:     34,   Neg. LLF: 34744784.42194782\n",
      "Iteration:      3,   Func. Count:     53,   Neg. LLF: 75943836.13184515\n"
     ]
    },
    {
     "name": "stdout",
     "output_type": "stream",
     "text": [
      "Iteration:      4,   Func. Count:     75,   Neg. LLF: 516680.3980240404\n",
      "Iteration:      5,   Func. Count:     95,   Neg. LLF: 737092.2308066845\n",
      "Iteration:      6,   Func. Count:    115,   Neg. LLF: 3656136.9444431355\n",
      "Iteration:      7,   Func. Count:    135,   Neg. LLF: 1382156887.3067074\n",
      "Iteration:      8,   Func. Count:    157,   Neg. LLF: 5864.645776247432\n",
      "Iteration:      9,   Func. Count:    175,   Neg. LLF: 1993457.6201371711\n",
      "Iteration:     10,   Func. Count:    194,   Neg. LLF: 4056308.5960016283\n",
      "Iteration:     11,   Func. Count:    214,   Neg. LLF: 8545183.483504117\n",
      "Iteration:     12,   Func. Count:    233,   Neg. LLF: -3270.7344173329934\n",
      "Optimization terminated successfully    (Exit mode 0)\n",
      "            Current function value: -3270.73441715442\n",
      "            Iterations: 16\n",
      "            Function evaluations: 233\n",
      "            Gradient evaluations: 12\n",
      "Iteration:      1,   Func. Count:     15,   Neg. LLF: 5411767793.803518\n",
      "Iteration:      2,   Func. Count:     36,   Neg. LLF: 234285.97948927537\n",
      "Iteration:      3,   Func. Count:     55,   Neg. LLF: 1891708.4880040765\n",
      "Iteration:      4,   Func. Count:     76,   Neg. LLF: 35721.57132937912\n",
      "Iteration:      5,   Func. Count:     96,   Neg. LLF: 105595805.83377905\n",
      "Iteration:      6,   Func. Count:    117,   Neg. LLF: 560980307.4032239\n",
      "Iteration:      7,   Func. Count:    139,   Neg. LLF: 119804287.13652335\n",
      "Optimization terminated successfully    (Exit mode 0)\n",
      "            Current function value: -3269.4541051954184\n",
      "            Iterations: 9\n",
      "            Function evaluations: 149\n",
      "            Gradient evaluations: 7\n",
      "Iteration:      1,   Func. Count:     16,   Neg. LLF: 49216083136.62342\n",
      "Iteration:      2,   Func. Count:     38,   Neg. LLF: 64852.01694691105\n",
      "Iteration:      3,   Func. Count:     58,   Neg. LLF: 63206455.62649508\n",
      "Iteration:      4,   Func. Count:     80,   Neg. LLF: 24391.484230489536\n",
      "Iteration:      5,   Func. Count:    101,   Neg. LLF: 9503087.797664035\n",
      "Iteration:      6,   Func. Count:    123,   Neg. LLF: 1626115.7408132544\n",
      "Iteration:      7,   Func. Count:    145,   Neg. LLF: 189845.9322625831\n",
      "Iteration:      8,   Func. Count:    166,   Neg. LLF: 19231568.61056525\n",
      "Iteration:      9,   Func. Count:    188,   Neg. LLF: 496907.61972362804\n",
      "Iteration:     10,   Func. Count:    210,   Neg. LLF: 145954.06830397042\n",
      "Iteration:     11,   Func. Count:    232,   Neg. LLF: 19510.578217788137\n",
      "Iteration:     12,   Func. Count:    251,   Neg. LLF: -3268.708541014843\n",
      "Optimization terminated successfully    (Exit mode 0)\n",
      "            Current function value: -3268.70854132918\n",
      "            Iterations: 16\n",
      "            Function evaluations: 251\n",
      "            Gradient evaluations: 12\n",
      "Iteration:      1,   Func. Count:     17,   Neg. LLF: 43051550319.647095\n",
      "Iteration:      2,   Func. Count:     40,   Neg. LLF: 656350171.0057291\n",
      "Iteration:      3,   Func. Count:     63,   Neg. LLF: 1120.6925100157578\n",
      "Iteration:      4,   Func. Count:     83,   Neg. LLF: -2650.688854844124\n",
      "Iteration:      5,   Func. Count:    102,   Neg. LLF: 130547794791.81976\n",
      "Iteration:      6,   Func. Count:    125,   Neg. LLF: -3274.113331992533\n",
      "Optimization terminated successfully    (Exit mode 0)\n",
      "            Current function value: -3274.1133352735233\n",
      "            Iterations: 10\n",
      "            Function evaluations: 125\n",
      "            Gradient evaluations: 6\n",
      "Iteration:      1,   Func. Count:     18,   Neg. LLF: 38129553359.42207\n",
      "Iteration:      2,   Func. Count:     42,   Neg. LLF: -1205.2462901025465\n",
      "Iteration:      3,   Func. Count:     63,   Neg. LLF: 3342800.736874165\n",
      "Iteration:      4,   Func. Count:     86,   Neg. LLF: 24665503.714098528\n",
      "Iteration:      5,   Func. Count:    110,   Neg. LLF: 2085831.6684576191\n",
      "Iteration:      6,   Func. Count:    134,   Neg. LLF: 121978.98856585137\n",
      "Iteration:      7,   Func. Count:    157,   Neg. LLF: 64269.883060944034\n",
      "Iteration:      8,   Func. Count:    181,   Neg. LLF: 889611.0570621782\n",
      "Iteration:      9,   Func. Count:    205,   Neg. LLF: 927.0094879187366\n",
      "Iteration:     10,   Func. Count:    226,   Neg. LLF: 537655392.5724131\n",
      "Iteration:     11,   Func. Count:    250,   Neg. LLF: 77934921.78987643\n",
      "Iteration:     12,   Func. Count:    274,   Neg. LLF: 117319509.60719118\n",
      "Iteration:     13,   Func. Count:    297,   Neg. LLF: -3267.779832663912\n",
      "Optimization terminated successfully    (Exit mode 0)\n",
      "            Current function value: -3267.779833630817\n",
      "            Iterations: 17\n",
      "            Function evaluations: 297\n",
      "            Gradient evaluations: 13\n",
      "Iteration:      1,   Func. Count:     19,   Neg. LLF: 35015208807.52054\n",
      "Iteration:      2,   Func. Count:     44,   Neg. LLF: 4993367711.68277\n",
      "Iteration:      3,   Func. Count:     69,   Neg. LLF: 319509.5279908627\n",
      "Iteration:      4,   Func. Count:     93,   Neg. LLF: 127.79155402803943\n",
      "Iteration:      5,   Func. Count:    115,   Neg. LLF: 64030731.34842742\n",
      "Iteration:      6,   Func. Count:    140,   Neg. LLF: 9055263.260601012\n",
      "Iteration:      7,   Func. Count:    165,   Neg. LLF: 257117.88283193755\n",
      "Iteration:      8,   Func. Count:    190,   Neg. LLF: -376.7215958046338\n",
      "Iteration:      9,   Func. Count:    213,   Neg. LLF: 4388314.221803305\n",
      "Iteration:     10,   Func. Count:    238,   Neg. LLF: 77546.05394649069\n",
      "Iteration:     11,   Func. Count:    261,   Neg. LLF: -3267.0997061540606\n",
      "Optimization terminated successfully    (Exit mode 0)\n",
      "            Current function value: -3267.099707183479\n",
      "            Iterations: 15\n",
      "            Function evaluations: 261\n",
      "            Gradient evaluations: 11\n",
      "Iteration:      1,   Func. Count:     20,   Neg. LLF: 3129866988.561778\n",
      "Iteration:      2,   Func. Count:     46,   Neg. LLF: 433089.08667253616\n",
      "Iteration:      3,   Func. Count:     70,   Neg. LLF: 2510943.983902267\n",
      "Iteration:      4,   Func. Count:     96,   Neg. LLF: 34794.52333328269\n",
      "Optimization terminated successfully    (Exit mode 0)\n",
      "            Current function value: -3266.8229217598096\n",
      "            Iterations: 5\n",
      "            Function evaluations: 103\n",
      "            Gradient evaluations: 4\n",
      "Iteration:      1,   Func. Count:     21,   Neg. LLF: 3040374550.405962\n",
      "Iteration:      2,   Func. Count:     48,   Neg. LLF: 4150011532.350402\n",
      "Iteration:      3,   Func. Count:     75,   Neg. LLF: 54080976.73963685\n",
      "Iteration:      4,   Func. Count:    102,   Neg. LLF: 6526050.163402235\n",
      "Iteration:      5,   Func. Count:    129,   Neg. LLF: 3358440.7032974875\n",
      "Optimization terminated successfully    (Exit mode 0)\n",
      "            Current function value: -3266.7042339266236\n",
      "            Iterations: 7\n",
      "            Function evaluations: 137\n",
      "            Gradient evaluations: 5\n",
      "Iteration:      1,   Func. Count:     22,   Neg. LLF: 29773959874.628216\n",
      "Iteration:      2,   Func. Count:     50,   Neg. LLF: 372541545.01343054\n",
      "Iteration:      3,   Func. Count:     78,   Neg. LLF: 71904489.59292683\n",
      "Iteration:      4,   Func. Count:    106,   Neg. LLF: 20445604.984732024\n",
      "Iteration:      5,   Func. Count:    134,   Neg. LLF: 2638849.339817375\n",
      "Iteration:      6,   Func. Count:    162,   Neg. LLF: 343098.65094751044\n",
      "Iteration:      7,   Func. Count:    190,   Neg. LLF: -3266.450358181876\n",
      "Optimization terminated successfully    (Exit mode 0)\n",
      "            Current function value: -3266.4503594440584\n",
      "            Iterations: 11\n",
      "            Function evaluations: 190\n",
      "            Gradient evaluations: 7\n",
      "Best index as per aic:[[1 2]], score: -6582.631636163887\n",
      "\n",
      "Best index as per bic:[[1 1]], score: -6559.788177844039\n"
     ]
    }
   ],
   "source": [
    "### finding GARCH model\n",
    "pq_range=10\n",
    "aic_matrix = [[0 for i in range(pq_range)] for j in range(pq_range)]\n",
    "bic_matrix = [[0 for i in range(pq_range)] for j in range(pq_range)]\n",
    "for p in range(pq_range):\n",
    "    for q in range(pq_range):\n",
    "        if p==0:\n",
    "            # GARCH requires positive p\n",
    "            aic_matrix[p][q] = 9999999999\n",
    "            bic_matrix[p][q] = 9999999999\n",
    "        else:\n",
    "            gar = arch_model(r_model_data, vol=\"GARCH\", p=p, q=q).fit()\n",
    "            aic_matrix[p][q] = gar.aic\n",
    "            bic_matrix[p][q] = gar.bic\n",
    "\n",
    "\n",
    "# converting to numpy array for better computations\n",
    "aic_matrix = np.array(aic_matrix)\n",
    "bic_matrix = np.array(bic_matrix)\n",
    "\n",
    "# Printing the best results\n",
    "print(f\"Best index as per aic:{np.argwhere(aic_matrix == np.min(aic_matrix))}, score: {np.min(aic_matrix)}\")\n",
    "print(f\"\\nBest index as per bic:{np.argwhere(bic_matrix == np.min(bic_matrix))}, score: {np.min(bic_matrix)}\")\n",
    "best_tuples = list(np.argwhere(aic_matrix == np.min(aic_matrix)))\n",
    "temp = list(np.argwhere(bic_matrix == np.min(bic_matrix)))\n",
    "best_tuples.extend(temp)\n"
   ]
  },
  {
   "cell_type": "markdown",
   "id": "8e3300df",
   "metadata": {},
   "source": [
    "We find different values for n,m in garch based on whether we pick AIC or BIC,  \n",
    "we shall use both and try to see which would be better"
   ]
  },
  {
   "cell_type": "code",
   "execution_count": 355,
   "id": "5e124fc9",
   "metadata": {},
   "outputs": [
    {
     "name": "stdout",
     "output_type": "stream",
     "text": [
      "Iteration:      1,   Func. Count:      7,   Neg. LLF: 182442534479.32184\n",
      "Iteration:      2,   Func. Count:     21,   Neg. LLF: -3198.579973645892\n",
      "Iteration:      3,   Func. Count:     28,   Neg. LLF: 17400044.23503697\n",
      "Iteration:      4,   Func. Count:     39,   Neg. LLF: -3296.315817847242\n",
      "Optimization terminated successfully    (Exit mode 0)\n",
      "            Current function value: -3296.3158180819437\n",
      "            Iterations: 8\n",
      "            Function evaluations: 39\n",
      "            Gradient evaluations: 4\n",
      "Iteration:      1,   Func. Count:      6,   Neg. LLF: 1.2461464574822445e+17\n",
      "Iteration:      2,   Func. Count:     19,   Neg. LLF: 2016427826.8538053\n",
      "Iteration:      3,   Func. Count:     31,   Neg. LLF: 120888278499.23726\n",
      "Iteration:      4,   Func. Count:     43,   Neg. LLF: 56118799.913226955\n",
      "Optimization terminated successfully    (Exit mode 0)\n",
      "            Current function value: -3293.7075984793164\n",
      "            Iterations: 6\n",
      "            Function evaluations: 52\n",
      "            Gradient evaluations: 4\n"
     ]
    }
   ],
   "source": [
    "aic_garch = arch_model(r_model_data, vol=\"GARCH\", p=1, q=2).fit()\n",
    "bic_garch = arch_model(r_model_data, vol=\"GARCH\", p=1, q=1).fit()\n"
   ]
  },
  {
   "cell_type": "code",
   "execution_count": 356,
   "id": "acc3087e",
   "metadata": {},
   "outputs": [
    {
     "name": "stdout",
     "output_type": "stream",
     "text": [
      "AIC GARCH\n"
     ]
    },
    {
     "data": {
      "text/plain": [
       "                     Constant Mean - GARCH Model Results                      \n",
       "==============================================================================\n",
       "Dep. Variable:              Adj Close   R-squared:                       0.000\n",
       "Mean Model:             Constant Mean   Adj. R-squared:                  0.000\n",
       "Vol Model:                      GARCH   Log-Likelihood:                3296.32\n",
       "Distribution:                  Normal   AIC:                          -6582.63\n",
       "Method:            Maximum Likelihood   BIC:                          -6558.10\n",
       "                                        No. Observations:                  999\n",
       "Date:                Sun, Nov 28 2021   Df Residuals:                      998\n",
       "Time:                        21:08:04   Df Model:                            1\n",
       "                                 Mean Model                                 \n",
       "============================================================================\n",
       "                 coef    std err          t      P>|t|      95.0% Conf. Int.\n",
       "----------------------------------------------------------------------------\n",
       "mu         7.9091e-04  3.614e-06    218.861      0.000 [7.838e-04,7.980e-04]\n",
       "                              Volatility Model                              \n",
       "============================================================================\n",
       "                 coef    std err          t      P>|t|      95.0% Conf. Int.\n",
       "----------------------------------------------------------------------------\n",
       "omega      8.7086e-06  2.152e-11  4.047e+05      0.000 [8.709e-06,8.709e-06]\n",
       "alpha[1]       0.1800  4.216e-02      4.269  1.963e-05   [9.736e-02,  0.263]\n",
       "beta[1]        0.4150      0.139      2.996  2.736e-03     [  0.144,  0.686]\n",
       "beta[2]        0.3150      0.124      2.532  1.134e-02   [7.118e-02,  0.559]\n",
       "============================================================================\n",
       "\n",
       "Covariance estimator: robust\n",
       "ARCHModelResult, id: 0x290d985ff10"
      ]
     },
     "execution_count": 356,
     "metadata": {},
     "output_type": "execute_result"
    }
   ],
   "source": [
    "print(\"AIC GARCH\")\n",
    "aic_garch\n"
   ]
  },
  {
   "cell_type": "code",
   "execution_count": 357,
   "id": "ed63798a",
   "metadata": {},
   "outputs": [
    {
     "name": "stdout",
     "output_type": "stream",
     "text": [
      "BIC GARCH\n"
     ]
    },
    {
     "data": {
      "text/plain": [
       "                     Constant Mean - GARCH Model Results                      \n",
       "==============================================================================\n",
       "Dep. Variable:              Adj Close   R-squared:                       0.000\n",
       "Mean Model:             Constant Mean   Adj. R-squared:                  0.000\n",
       "Vol Model:                      GARCH   Log-Likelihood:                3293.71\n",
       "Distribution:                  Normal   AIC:                          -6579.42\n",
       "Method:            Maximum Likelihood   BIC:                          -6559.79\n",
       "                                        No. Observations:                  999\n",
       "Date:                Sun, Nov 28 2021   Df Residuals:                      998\n",
       "Time:                        21:08:04   Df Model:                            1\n",
       "                                 Mean Model                                 \n",
       "============================================================================\n",
       "                 coef    std err          t      P>|t|      95.0% Conf. Int.\n",
       "----------------------------------------------------------------------------\n",
       "mu         8.5771e-04  1.520e-06    564.374      0.000 [8.547e-04,8.607e-04]\n",
       "                              Volatility Model                              \n",
       "============================================================================\n",
       "                 coef    std err          t      P>|t|      95.0% Conf. Int.\n",
       "----------------------------------------------------------------------------\n",
       "omega      9.6763e-06  2.428e-11  3.985e+05      0.000 [9.676e-06,9.676e-06]\n",
       "alpha[1]       0.2000  4.281e-02      4.672  2.989e-06     [  0.116,  0.284]\n",
       "beta[1]        0.7000  3.440e-02     20.347  4.894e-92     [  0.633,  0.767]\n",
       "============================================================================\n",
       "\n",
       "Covariance estimator: robust\n",
       "ARCHModelResult, id: 0x290d9863730"
      ]
     },
     "execution_count": 357,
     "metadata": {},
     "output_type": "execute_result"
    }
   ],
   "source": [
    "print(\"BIC GARCH\")\n",
    "bic_garch\n"
   ]
  },
  {
   "cell_type": "markdown",
   "id": "85b030fd",
   "metadata": {},
   "source": [
    "## Forecasting sigma^2 with GARCH"
   ]
  },
  {
   "cell_type": "code",
   "execution_count": 386,
   "id": "df9fcbc9",
   "metadata": {},
   "outputs": [
    {
     "data": {
      "text/plain": [
       "array([0.00020965, 0.00019991, 0.00019369, 0.00018693, 0.00018094,\n",
       "       0.00017525, 0.00016998])"
      ]
     },
     "execution_count": 386,
     "metadata": {},
     "output_type": "execute_result"
    }
   ],
   "source": [
    "aic_sigmas = aic_garch.forecast(horizon=7).variance.values[-1]\n",
    "aic_sigmas # sigma-squares\n"
   ]
  },
  {
   "cell_type": "code",
   "execution_count": 387,
   "id": "9b208399",
   "metadata": {},
   "outputs": [
    {
     "data": {
      "text/plain": [
       "array([0.00019609, 0.00018616, 0.00017722, 0.00016917, 0.00016193,\n",
       "       0.00015542, 0.00014955])"
      ]
     },
     "execution_count": 387,
     "metadata": {},
     "output_type": "execute_result"
    }
   ],
   "source": [
    "bic_sigmas = bic_garch.forecast(horizon=7).variance.values[-1]\n",
    "bic_sigmas # sigma-squares\n"
   ]
  },
  {
   "cell_type": "markdown",
   "id": "5a182295",
   "metadata": {},
   "source": [
    "## Forecasting a_t using standard-normal"
   ]
  },
  {
   "cell_type": "code",
   "execution_count": 393,
   "id": "846573ff",
   "metadata": {},
   "outputs": [
    {
     "name": "stdout",
     "output_type": "stream",
     "text": [
      "Random numbers generated are: [ 0.80409481 -1.46369308 -1.74404487 -0.27948791 -0.46040604 -0.72889665\n",
      "  0.49396965],\n",
      "They have signs: [ 1. -1. -1. -1. -1. -1.  1.]\n"
     ]
    }
   ],
   "source": [
    "signs = np.random.standard_normal(size=7)\n",
    "print(f\"Random numbers generated are: {signs},\\\n",
    "\\nThey have signs: {np.sign(signs)}\")\n",
    "\n",
    "signs = np.sign(signs)\n"
   ]
  },
  {
   "cell_type": "code",
   "execution_count": null,
   "id": "747435e9",
   "metadata": {},
   "outputs": [],
   "source": [
    "### we now add these to our predictions\n",
    "### as seen previously, our series followed\n",
    "### ARMA(1,0), so we shall refit the data and plot our predictions\n"
   ]
  },
  {
   "cell_type": "markdown",
   "id": "78b501a7",
   "metadata": {},
   "source": [
    "## Comparing mse results between ARIMA and ARIMA+GARCH"
   ]
  },
  {
   "cell_type": "code",
   "execution_count": 366,
   "id": "02f51939",
   "metadata": {},
   "outputs": [],
   "source": [
    "actual_data_model = ARIMA(r_model_data, order=(1,0,0)).fit()"
   ]
  },
  {
   "cell_type": "code",
   "execution_count": 384,
   "id": "11fd71ee",
   "metadata": {},
   "outputs": [],
   "source": [
    "ARIMA_only_predictions = actual_data_model.predict(start=999, end=1005)\n"
   ]
  },
  {
   "cell_type": "code",
   "execution_count": 385,
   "id": "9d7f0c43",
   "metadata": {},
   "outputs": [
    {
     "data": {
      "text/plain": [
       "999     0.000325\n",
       "1000    0.000416\n",
       "1001    0.000416\n",
       "1002    0.000416\n",
       "1003    0.000416\n",
       "1004    0.000416\n",
       "1005    0.000416\n",
       "Name: predicted_mean, dtype: float64"
      ]
     },
     "execution_count": 385,
     "metadata": {},
     "output_type": "execute_result"
    }
   ],
   "source": [
    "ARIMA_only_predictions\n"
   ]
  },
  {
   "cell_type": "code",
   "execution_count": 398,
   "id": "19480791",
   "metadata": {},
   "outputs": [],
   "source": [
    "bic_eps = np.sqrt(bic_sigmas) * signs\n",
    "aic_eps = np.sqrt(aic_sigmas) * signs\n"
   ]
  },
  {
   "cell_type": "code",
   "execution_count": 399,
   "id": "a36f1b00",
   "metadata": {},
   "outputs": [
    {
     "name": "stdout",
     "output_type": "stream",
     "text": [
      "Eps are:\n",
      "As per bic: [ 0.01400331 -0.01364403 -0.0133124  -0.0130067  -0.01272529 -0.0124666\n",
      "  0.01222909]\n",
      "As per aic: [ 0.01447936 -0.01413889 -0.01391742 -0.01367216 -0.01345156 -0.01323831\n",
      "  0.0130377 ]\n"
     ]
    }
   ],
   "source": [
    "print(f\"Eps are:\\\n",
    "\\nAs per bic: {bic_eps}\\\n",
    "\\nAs per aic: {aic_eps}\")\n"
   ]
  },
  {
   "cell_type": "code",
   "execution_count": 400,
   "id": "bb261884",
   "metadata": {},
   "outputs": [],
   "source": [
    "garch_predicts_aic = ARIMA_only_predictions + aic_eps\n",
    "garch_predicts_bic = ARIMA_only_predictions + bic_eps\n"
   ]
  },
  {
   "cell_type": "code",
   "execution_count": null,
   "id": "afad9bf6",
   "metadata": {},
   "outputs": [],
   "source": [
    "### so now we transform the data back to proper form and compare\n"
   ]
  },
  {
   "cell_type": "markdown",
   "id": "d9808920",
   "metadata": {},
   "source": [
    "### Forecasts"
   ]
  },
  {
   "cell_type": "code",
   "execution_count": 404,
   "id": "c91e5df8",
   "metadata": {},
   "outputs": [],
   "source": [
    "ARIMA_predictions = ARIMA_only_predictions.copy()\n",
    "ARIMA_predictions.iloc[0] += np.log(model_data.iloc[-1])\n",
    "ARIMA_predictions = np.exp(ARIMA_predictions.cumsum())\n",
    "ARIMA_predictions.index = test_data.index\n"
   ]
  },
  {
   "cell_type": "code",
   "execution_count": 410,
   "id": "0fc2dea6",
   "metadata": {},
   "outputs": [],
   "source": [
    "garch_predicts_aic.iloc[0] += np.log(model_data.iloc[-1])\n",
    "garch_predicts_aic = np.exp(garch_predicts_aic.cumsum())\n",
    "garch_predicts_aic.index = test_data.index\n"
   ]
  },
  {
   "cell_type": "code",
   "execution_count": 411,
   "id": "a6df064c",
   "metadata": {},
   "outputs": [],
   "source": [
    "garch_predicts_bic.iloc[0] += np.log(model_data.iloc[-1])\n",
    "garch_predicts_bic = np.exp(garch_predicts_bic.cumsum())\n",
    "garch_predicts_bic.index = test_data.index\n"
   ]
  },
  {
   "cell_type": "markdown",
   "id": "1e4a8345",
   "metadata": {},
   "source": [
    "### Plots"
   ]
  },
  {
   "cell_type": "code",
   "execution_count": 415,
   "id": "3facdcce",
   "metadata": {},
   "outputs": [
    {
     "data": {
      "text/plain": [
       "''"
      ]
     },
     "execution_count": 415,
     "metadata": {},
     "output_type": "execute_result"
    },
    {
     "data": {
      "image/png": "[encoded data removed]",
      "text/plain": [
       "<Figure size 432x288 with 1 Axes>"
      ]
     },
     "metadata": {
      "needs_background": "light"
     },
     "output_type": "display_data"
    }
   ],
   "source": [
    "plt.plot(test_data, label='Actual Data')\n",
    "plt.plot(ARIMA_predictions, label='ARIMA predicted data')\n",
    "plt.title(\"Test data vs Prediction\\n(no GARCH)\")\n",
    "plt.legend()\n",
    "plt.xticks(rotation=90)\n",
    ";"
   ]
  },
  {
   "cell_type": "code",
   "execution_count": 413,
   "id": "3f72f5e6",
   "metadata": {},
   "outputs": [
    {
     "data": {
      "text/plain": [
       "''"
      ]
     },
     "execution_count": 413,
     "metadata": {},
     "output_type": "execute_result"
    },
    {
     "data": {
      "image/png": "[encoded data removed]",
      "text/plain": [
       "<Figure size 432x288 with 1 Axes>"
      ]
     },
     "metadata": {
      "needs_background": "light"
     },
     "output_type": "display_data"
    }
   ],
   "source": [
    "plt.plot(test_data, label='Actual Data')\n",
    "plt.plot(garch_predicts_aic, label='GARCH/AIC predicted data')\n",
    "plt.title(\"Test data vs Prediction\\n(GARCH & AIC)\")\n",
    "plt.legend()\n",
    "plt.xticks(rotation=90)\n",
    ";"
   ]
  },
  {
   "cell_type": "code",
   "execution_count": 414,
   "id": "ba7bc304",
   "metadata": {},
   "outputs": [
    {
     "data": {
      "text/plain": [
       "''"
      ]
     },
     "execution_count": 414,
     "metadata": {},
     "output_type": "execute_result"
    },
    {
     "data": {
      "image/png": "[encoded data removed]",
      "text/plain": [
       "<Figure size 432x288 with 1 Axes>"
      ]
     },
     "metadata": {
      "needs_background": "light"
     },
     "output_type": "display_data"
    }
   ],
   "source": [
    "plt.plot(test_data, label='Actual Data')\n",
    "plt.plot(garch_predicts_bic, label='GARCH/BIC predicted data')\n",
    "plt.title(\"Test data vs Prediction\\n(GARCH & BIC)\")\n",
    "plt.legend()\n",
    "plt.xticks(rotation=90)\n",
    ";"
   ]
  },
  {
   "cell_type": "markdown",
   "id": "5c5d5962",
   "metadata": {},
   "source": [
    "### MSE comparisons"
   ]
  },
  {
   "cell_type": "code",
   "execution_count": 417,
   "id": "b4c08eee",
   "metadata": {},
   "outputs": [
    {
     "name": "stdout",
     "output_type": "stream",
     "text": [
      "MSE calculations:\n",
      "-ARIMA only: 65676.40556658163\n",
      "-GARCH with n,m chosen using AIC: 40735.82670427845\n",
      "-GARCH with n,m chosen using BIC: 39608.5674220461\n"
     ]
    }
   ],
   "source": [
    "### mse calcs\n",
    "def mse(a,b=test_data):\n",
    "    return np.mean((a.values-b.values)**2)\n",
    "print(f\"MSE calculations:\\\n",
    "\\n-ARIMA only: {mse(ARIMA_predictions)}\\\n",
    "\\n-GARCH with n,m chosen using AIC: {mse(garch_predicts_aic)}\\\n",
    "\\n-GARCH with n,m chosen using BIC: {mse(garch_predicts_bic)}\")\n"
   ]
  },
  {
   "cell_type": "code",
   "execution_count": 422,
   "id": "bd2773f0",
   "metadata": {},
   "outputs": [],
   "source": [
    "best_procedure_1_mse = mse(garch_predicts_bic)"
   ]
  },
  {
   "cell_type": "markdown",
   "id": "667a25e3",
   "metadata": {},
   "source": [
    "## Procedure1 Conclusions\n",
    "As seen above, GARCH+ARIMA models perform better than the usual ARIMA only models"
   ]
  },
  {
   "cell_type": "markdown",
   "id": "9e7ec3dc",
   "metadata": {},
   "source": [
    "# Procedure 2"
   ]
  },
  {
   "cell_type": "markdown",
   "id": "ad3ed45b",
   "metadata": {},
   "source": [
    "## Fitting ARMA on the residuals"
   ]
  },
  {
   "cell_type": "code",
   "execution_count": 426,
   "id": "4f142304",
   "metadata": {},
   "outputs": [
    {
     "data": {
      "text/plain": [
       "Date\n",
       "2014-12-01   -0.013922\n",
       "2014-12-02    0.005510\n",
       "2014-12-03    0.003531\n",
       "2014-12-04   -0.001451\n",
       "2014-12-05    0.001947\n",
       "                ...   \n",
       "2018-11-09   -0.017047\n",
       "2018-11-12   -0.028719\n",
       "2018-11-13   -0.000572\n",
       "2018-11-14   -0.009413\n",
       "2018-11-15    0.016572\n",
       "Length: 999, dtype: float64"
      ]
     },
     "execution_count": 426,
     "metadata": {},
     "output_type": "execute_result"
    }
   ],
   "source": [
    "residuals = chosen_model.resid\n",
    "residuals"
   ]
  },
  {
   "cell_type": "code",
   "execution_count": 478,
   "id": "8e7a9fe6",
   "metadata": {},
   "outputs": [
    {
     "data": {
      "text/plain": [
       "Date\n",
       "2014-12-01    1.938110e-04\n",
       "2014-12-02    3.036479e-05\n",
       "2014-12-03    1.246576e-05\n",
       "2014-12-04    2.104859e-06\n",
       "2014-12-05    3.789946e-06\n",
       "                  ...     \n",
       "2018-11-09    2.905931e-04\n",
       "2018-11-12    8.247702e-04\n",
       "2018-11-13    3.272849e-07\n",
       "2018-11-14    8.860202e-05\n",
       "2018-11-15    2.746293e-04\n",
       "Length: 999, dtype: float64"
      ]
     },
     "execution_count": 478,
     "metadata": {},
     "output_type": "execute_result"
    }
   ],
   "source": [
    "residuals**2"
   ]
  },
  {
   "cell_type": "code",
   "execution_count": 441,
   "id": "c3f40532",
   "metadata": {},
   "outputs": [
    {
     "data": {
      "text/plain": [
       "999     0.000325\n",
       "1000    0.000416\n",
       "1001    0.000416\n",
       "1002    0.000416\n",
       "1003    0.000416\n",
       "1004    0.000416\n",
       "1005    0.000416\n",
       "Name: predicted_mean, dtype: float64"
      ]
     },
     "execution_count": 441,
     "metadata": {},
     "output_type": "execute_result"
    }
   ],
   "source": [
    "## We already have our ARIMA_only_predictions (prediction of ARIMA without any forecast on error)\n",
    "## from previous procedure, which predicts the returns of the stock\n",
    "ARIMA_only_predictions"
   ]
  },
  {
   "cell_type": "code",
   "execution_count": 473,
   "id": "6f01babd",
   "metadata": {},
   "outputs": [
    {
     "name": "stdout",
     "output_type": "stream",
     "text": [
      "1. Setup: Basic Variables Set\n",
      "\n",
      "2. Processing: Scores Calculation Done\n",
      "\n",
      "\n",
      "3. Outputs:\n",
      "Best index as per aic:[[ 0 10]], score: -14222.009\n",
      "\n",
      "Best index as per bic:[[1 1]], score: -14182.385\n",
      "Wall time: 2min 48s\n"
     ]
    }
   ],
   "source": [
    "%%time\n",
    "\n",
    "p_lim = 10\n",
    "q_lim = 10\n",
    "p_range = [i for i in range(p_lim+1)]\n",
    "q_range = [i for i in range(q_lim+1)]\n",
    "aic_matrix = [[None for _ in range(p_lim+1)] for __ in range(q_lim+1)]\n",
    "bic_matrix = [[None for _ in range(p_lim+1)] for __ in range(q_lim+1)]\n",
    "print(\"1. Setup: Basic Variables Set\")\n",
    "\n",
    "for p in p_range:\n",
    "    for q in q_range:\n",
    "        if p == 0 and q == 0:\n",
    "            # arma(0,0) set to a high number (basically no prediction)\n",
    "            aic_matrix[q][p] = 9999\n",
    "            bic_matrix[q][p] = 9999\n",
    "        else:\n",
    "            model = ARIMA(residuals**2, order=(p,0,q))\n",
    "            \n",
    "            # fitting model to data\n",
    "            results = model.fit()\n",
    "            \n",
    "            # recording the calculated aic and bic scores\n",
    "            aic_matrix[q][p] = round(results.aic,3) # Imp: we set it as (q,p) not the usual (p,q)\n",
    "            bic_matrix[q][p] = round(results.bic,3) # Imp: we set it as (q,p) not the usual (p,q)\n",
    "print(\"\\n2. Processing: Scores Calculation Done\")  \n",
    "\n",
    "# converting to numpy array for better computations\n",
    "aic_matrix = np.array(aic_matrix)\n",
    "bic_matrix = np.array(bic_matrix)\n",
    "\n",
    "# Printing the best results\n",
    "print(\"\\n\\n3. Outputs:\")\n",
    "print(f\"Best index as per aic:{np.argwhere(aic_matrix == np.min(aic_matrix))}, score: {np.min(aic_matrix)}\")\n",
    "print(f\"\\nBest index as per bic:{np.argwhere(bic_matrix == np.min(bic_matrix))}, score: {np.min(bic_matrix)}\")\n",
    "best_tuples = list(np.argwhere(aic_matrix == np.min(aic_matrix)))\n",
    "temp = list(np.argwhere(bic_matrix == np.min(bic_matrix)))\n",
    "best_tuples.extend(temp)\n"
   ]
  },
  {
   "cell_type": "code",
   "execution_count": 474,
   "id": "5d4d2775",
   "metadata": {},
   "outputs": [],
   "source": [
    "## recalling that the above results are encoded in the form (q,p) for ARMA(p,q)\n",
    "## we have\n",
    "aic_arima = ARIMA(residuals, order=(10,0,0)).fit()\n",
    "bic_arima = ARIMA(residuals, order=(1,0,1)).fit()\n"
   ]
  },
  {
   "cell_type": "markdown",
   "id": "573b766f",
   "metadata": {},
   "source": [
    "## Forecasting with ARIMA on residuals"
   ]
  },
  {
   "cell_type": "markdown",
   "id": "8506469e",
   "metadata": {},
   "source": [
    "### error forecasts"
   ]
  },
  {
   "cell_type": "code",
   "execution_count": 481,
   "id": "6f4033c4",
   "metadata": {},
   "outputs": [
    {
     "data": {
      "text/plain": [
       "Date\n",
       "2018-11-16    0.049693\n",
       "2018-11-19   -0.012899\n",
       "2018-11-20   -0.028409\n",
       "2018-11-21   -0.057559\n",
       "2018-11-23   -0.034749\n",
       "2018-11-26   -0.044664\n",
       "2018-11-27    0.037324\n",
       "Name: predicted_mean, dtype: float64"
      ]
     },
     "execution_count": 481,
     "metadata": {},
     "output_type": "execute_result"
    }
   ],
   "source": [
    "aic_errors = np.sqrt(aic_arima.predict(start=1000,end=1006).abs())*signs # recall signs from procedure1\n",
    "aic_errors.index = test_data.index\n",
    "aic_errors"
   ]
  },
  {
   "cell_type": "code",
   "execution_count": 482,
   "id": "432272ad",
   "metadata": {},
   "outputs": [
    {
     "data": {
      "text/plain": [
       "Date\n",
       "2018-11-16    0.003257\n",
       "2018-11-19   -0.000117\n",
       "2018-11-20   -0.002011\n",
       "2018-11-21   -0.001579\n",
       "2018-11-23   -0.001757\n",
       "2018-11-26   -0.001691\n",
       "2018-11-27    0.001716\n",
       "Name: predicted_mean, dtype: float64"
      ]
     },
     "execution_count": 482,
     "metadata": {},
     "output_type": "execute_result"
    }
   ],
   "source": [
    "bic_errors = np.sqrt(bic_arima.predict(start=1000,end=1006).abs())*signs # recall signs from procedure1\n",
    "bic_errors.index = test_data.index\n",
    "bic_errors"
   ]
  },
  {
   "cell_type": "markdown",
   "id": "f4146443",
   "metadata": {},
   "source": [
    "### datapoints forecasts"
   ]
  },
  {
   "cell_type": "code",
   "execution_count": 483,
   "id": "03955d00",
   "metadata": {},
   "outputs": [],
   "source": [
    "# Adding the errors to the data\n",
    "aic_ari2_predict = pd.Series(np.exp(np.log(ARIMA_predictions.values) + aic_errors.values),\n",
    "                             index=test_data.index)"
   ]
  },
  {
   "cell_type": "code",
   "execution_count": 484,
   "id": "d62a5998",
   "metadata": {},
   "outputs": [],
   "source": [
    "bic_ari2_predict = pd.Series(np.exp(np.log(ARIMA_predictions.values) + bic_errors.values),\n",
    "                             index=test_data.index)"
   ]
  },
  {
   "cell_type": "markdown",
   "id": "541d2eed",
   "metadata": {},
   "source": [
    "## Plots"
   ]
  },
  {
   "cell_type": "code",
   "execution_count": 485,
   "id": "d0105b17",
   "metadata": {},
   "outputs": [
    {
     "data": {
      "text/plain": [
       "''"
      ]
     },
     "execution_count": 485,
     "metadata": {},
     "output_type": "execute_result"
    },
    {
     "data": {
      "image/png": "[encoded data removed]",
      "text/plain": [
       "<Figure size 432x288 with 1 Axes>"
      ]
     },
     "metadata": {
      "needs_background": "light"
     },
     "output_type": "display_data"
    }
   ],
   "source": [
    "plt.plot(test_data, label='Actual Data')\n",
    "plt.plot(aic_ari2_predict, label='Predicted Data')\n",
    "plt.legend()\n",
    "plt.title(\"Plot of Actual Data vs Predicted Data\\nErrors forecasted with ARIMA & AIC\")\n",
    "plt.xticks(rotation=90)\n",
    ";"
   ]
  },
  {
   "cell_type": "code",
   "execution_count": 486,
   "id": "772b3ee5",
   "metadata": {},
   "outputs": [
    {
     "data": {
      "text/plain": [
       "''"
      ]
     },
     "execution_count": 486,
     "metadata": {},
     "output_type": "execute_result"
    },
    {
     "data": {
      "image/png": "[encoded data removed]",
      "text/plain": [
       "<Figure size 432x288 with 1 Axes>"
      ]
     },
     "metadata": {
      "needs_background": "light"
     },
     "output_type": "display_data"
    }
   ],
   "source": [
    "plt.plot(test_data, label='Actual Data')\n",
    "plt.plot(bic_ari2_predict, label='Predicted Data')\n",
    "plt.legend()\n",
    "plt.title(\"Plot of Actual Data vs Predicted Data\\nErrors forecasted with ARIMA & BIC\")\n",
    "plt.xticks(rotation=90)\n",
    ";"
   ]
  },
  {
   "cell_type": "markdown",
   "id": "0dfe46ea",
   "metadata": {},
   "source": [
    "## MSE\n",
    "recall the function ```mse``` made in procedure1"
   ]
  },
  {
   "cell_type": "code",
   "execution_count": 487,
   "id": "3cdaeb49",
   "metadata": {},
   "outputs": [
    {
     "name": "stdout",
     "output_type": "stream",
     "text": [
      "MSE for AIC predictions\n",
      "108048.73277318788\n",
      "\n",
      "MSE for BIC predictions\n",
      "64774.08744423033\n"
     ]
    }
   ],
   "source": [
    "print(\"MSE for AIC predictions\")\n",
    "print(mse(aic_ari2_predict))\n",
    "print()\n",
    "print(\"MSE for BIC predictions\")\n",
    "print(mse(bic_ari2_predict))"
   ]
  },
  {
   "cell_type": "markdown",
   "id": "a5252cf2",
   "metadata": {},
   "source": [
    "we have BIC forecast the one with lowest mse  \n",
    "(Remark: despite the graphs seeming close for AIC one, please observe the scale on y-axis,\n",
    "in reality, BIC one was a bit more closer to the test_data _on average_)"
   ]
  },
  {
   "cell_type": "code",
   "execution_count": 488,
   "id": "e1607f8e",
   "metadata": {},
   "outputs": [],
   "source": [
    "best_procedure_2_mse = mse(bic_ari2_predict)"
   ]
  },
  {
   "cell_type": "markdown",
   "id": "fb4c6914",
   "metadata": {},
   "source": [
    "# Final Results"
   ]
  },
  {
   "cell_type": "code",
   "execution_count": 489,
   "id": "28a2cb85",
   "metadata": {},
   "outputs": [
    {
     "name": "stdout",
     "output_type": "stream",
     "text": [
      "Best mse we can do with GARCH (procedure1)\n",
      "39608.5674220461\n",
      "\n",
      "Best mse we can do with only ARIMA (procedure2)\n",
      "64774.08744423033\n"
     ]
    }
   ],
   "source": [
    "print(\"Best mse we can do with GARCH (procedure1)\")\n",
    "print(best_procedure_1_mse)\n",
    "print()\n",
    "print(\"Best mse we can do with only ARIMA (procedure2)\")\n",
    "print(best_procedure_2_mse)"
   ]
  },
  {
   "cell_type": "markdown",
   "id": "2aa95424",
   "metadata": {},
   "source": [
    "As seen above, we have a much better prediction using GARCH instead of ARIMA even though\n",
    "both are similar in that they regress on themselves (i.e. the AR part), GARCH performs much\n",
    "better because it assumes heteroscedasticity which is required for financial time series data\n",
    "like the one we picked"
   ]
  },
  {
   "cell_type": "code",
   "execution_count": null,
   "id": "02fb10bf",
   "metadata": {},
   "outputs": [],
   "source": [
    "### end ###\n"
   ]
  },
  {
   "cell_type": "code",
   "execution_count": null,
   "id": "90612561",
   "metadata": {},
   "outputs": [],
   "source": []
  }
 ],
 "metadata": {
  "kernelspec": {
   "display_name": "Python 3 (ipykernel)",
   "language": "python",
   "name": "python3"
  },
  "language_info": {
   "codemirror_mode": {
    "name": "ipython",
    "version": 3
   },
   "file_extension": ".py",
   "mimetype": "text/x-python",
   "name": "python",
   "nbconvert_exporter": "python",
   "pygments_lexer": "ipython3",
   "version": "3.9.7"
  }
 },
 "nbformat": 4,
 "nbformat_minor": 5
}
